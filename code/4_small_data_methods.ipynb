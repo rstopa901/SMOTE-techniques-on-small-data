{
 "cells": [
  {
   "cell_type": "code",
   "execution_count": 29,
   "id": "da250dd6-f6bc-43c5-a48d-e4cab82cf8f8",
   "metadata": {},
   "outputs": [],
   "source": [
    "import numpy as np\n",
    "import pandas as pd\n",
    "import pickle\n",
    "import smogn\n",
    "import seaborn as sns\n",
    "import matplotlib.pyplot as plt\n",
    "import math\n",
    "\n",
    "from sklearn.model_selection import train_test_split, cross_val_score\n",
    "from sklearn.linear_model import LinearRegression\n",
    "import xgboost as xgb\n",
    "from sklearn.metrics import r2_score, mean_squared_error"
   ]
  },
  {
   "cell_type": "markdown",
   "id": "ff946ed2-f072-4d7c-aa20-093da2dc8584",
   "metadata": {},
   "source": [
    "### Objective\n",
    "\n",
    "We saw in notebook 3 that a linear regression was not a viable model. In this notebook we will talk about a solution to working with our dataset. \n",
    "\n",
    "1. We will discuss SMOGN (Synthetic Minority Over-Sampling Technique for Regression with Gaussian Noise), which is a pre-processing method for dealing with small data with imbalanced domains (where we have a few games with very high number of uc_posts which are of high interest)\n",
    "2. We will then create various models on our small dataset and compare the performance on the original dataset vs.  the SMOGN-applied dataset."
   ]
  },
  {
   "cell_type": "markdown",
   "id": "43926d27-bcca-47e0-bc93-c2b80a169093",
   "metadata": {},
   "source": [
    "### SMOGN (Synthetic Minority Over-Sampling Technique for Regression with Gaussian Noise)"
   ]
  },
  {
   "cell_type": "markdown",
   "id": "d61e6fc8-7cbd-403f-a990-7caa51469ef7",
   "metadata": {},
   "source": [
    "SMOGN is a pre-processing strategy used when there is domain imbalance (the values of interest for predicting are rare or uncommon) in data and the target variable is continuous.\n",
    "\n",
    "In our case, there is domain imbalance strictly because there are not many FPS games in our dataset and because of them, there are just a few games which have a very high $y$ value. We want to use SMOGN because we want to be able to predict when a game will have those very high instances of cheating.\n",
    "\n",
    "As an overview, SMOGN applies random under-sampling for normal cases of $y$ and two types of over-sampling for rare cases of $y$. The two over-sampling methods are called SMOTER and Gaussian noise. \n",
    "\n",
    "SMOTER is a strategy used to create new data through interpolation (interpolation is creating a new data point inside the range of existing datapoints). First, a rare case (of $y$) is selected as a seed and another rare case is randomly selected from the K-nearest neighbors of the seed. A new datapoint is created as a weighted average of the target variable values of the two rare cases used. Gaussian noise is creating datapoints by adding noise to existing datapoints, where the noise has a normal distribution.\n",
    "\n",
    "For over-sampling on rare cases, SMOGN uses SMOTER when the seed and its K-nearest neighbor are close enough. When they are not close enough, it creates a new datapoint by adding Gaussian noise to the rare seed. This means the boundaries for the rare cases are expanded less conservatively when the seed and K-nearest neighbor are within a close distance, but otherwise expanded conservatively. It applies this algorithm to all rare seeds in the data.\n",
    "\n",
    "sources: \n",
    "* http://proceedings.mlr.press/v74/branco17a/branco17a.pdf\n",
    "* https://github.com/nickkunz/smogn\n",
    "* https://en.wikipedia.org/wiki/Gaussian_noise"
   ]
  },
  {
   "cell_type": "markdown",
   "id": "5b2b7e58-80a4-4d19-abe1-8249c5b96e5a",
   "metadata": {},
   "source": [
    "First, we will apply SMOGN to our data and create a linear regression model. We will compare the linear regression from 3_linear_model notebook to the new one."
   ]
  },
  {
   "cell_type": "markdown",
   "id": "936173dd-62bd-4d41-9f95-a023708ef025",
   "metadata": {},
   "source": [
    "### Linear Regression with SMOGN pre-processing"
   ]
  },
  {
   "cell_type": "markdown",
   "id": "ef91e399-6141-42f7-9189-6a9b3f09ed3a",
   "metadata": {},
   "source": [
    "#### Load Data"
   ]
  },
  {
   "cell_type": "code",
   "execution_count": 2,
   "id": "ad248224-9407-420f-aca6-7debf15b59e9",
   "metadata": {},
   "outputs": [],
   "source": [
    "X_train_preprocessed = pd.read_pickle('../data/X_train_preprocessed')\n",
    "X_test_preprocessed = pd.read_pickle('../data/X_test_preprocessed')\n",
    "y_train = pd.read_pickle('../data/y_train')\n",
    "y_test = pd.read_pickle('../data/y_test')"
   ]
  },
  {
   "cell_type": "code",
   "execution_count": 3,
   "id": "19550280-b195-4c56-88ca-f044ba1872ea",
   "metadata": {},
   "outputs": [],
   "source": [
    "# SMOGN is performed on the entire dataset, so we will recombine the data before applying the algorithm"
   ]
  },
  {
   "cell_type": "code",
   "execution_count": 4,
   "id": "9c5745a8-7b4f-4e91-af62-815ccf88554e",
   "metadata": {},
   "outputs": [],
   "source": [
    "# combining data\n",
    "\n",
    "# join X and y\n",
    "train_data = X_train_preprocessed.join(y_train, on='game_id').copy()\n",
    "test_data = X_test_preprocessed.join(y_test, on='game_id').copy()\n",
    "\n",
    "# drop game_id columns\n",
    "train_data.drop(columns=['game_id'], inplace=True)\n",
    "test_data.drop(columns=['game_id'], inplace=True)\n",
    "\n",
    "# re-combine train and test\n",
    "all_data = pd.concat([train_data, test_data])\n",
    "# reset index\n",
    "all_data.reset_index(drop=True, inplace=True)"
   ]
  },
  {
   "cell_type": "code",
   "execution_count": 5,
   "id": "19deffc9-98e2-4990-b37e-7ca7429a0e60",
   "metadata": {},
   "outputs": [
    {
     "data": {
      "text/plain": [
       "(35, 8831)"
      ]
     },
     "execution_count": 5,
     "metadata": {},
     "output_type": "execute_result"
    }
   ],
   "source": [
    "# look at shape\n",
    "all_data.shape"
   ]
  },
  {
   "cell_type": "markdown",
   "id": "a5c56b29-ec20-4595-a07a-9622088cba97",
   "metadata": {},
   "source": [
    "#### Install SMOGN \n",
    "to install SMOGN please use the following:\n",
    "```!pip install git+https://github.com/nickkunz/smogn.git```"
   ]
  },
  {
   "cell_type": "markdown",
   "id": "528bbbfa-90af-4ada-bb6d-71733b2e7e84",
   "metadata": {},
   "source": [
    "#### Run SMOGN-preprocessing on data"
   ]
  },
  {
   "cell_type": "code",
   "execution_count": 6,
   "id": "94a57c54-90f2-422a-bed4-c63ae7ae2ac1",
   "metadata": {},
   "outputs": [
    {
     "name": "stderr",
     "output_type": "stream",
     "text": [
      "dist_matrix: 100%|##########| 9/9 [00:03<00:00,  2.87it/s]\n",
      "synth_matrix: 100%|##########| 9/9 [00:03<00:00,  2.65it/s]\n"
     ]
    }
   ],
   "source": [
    "# perform SMOGN on combined data\n",
    "# smogn.smoter uses a function which has a performance warning, so the following surpresses it:\n",
    "from warnings import simplefilter\n",
    "simplefilter(action=\"ignore\", category=pd.errors.PerformanceWarning)\n",
    "\n",
    "# create smogn data\n",
    "smogn_data = smogn.smoter(data=all_data, y='uc_posts', k=3, replace=True)"
   ]
  },
  {
   "cell_type": "code",
   "execution_count": 28,
   "id": "5038cf7e-596e-4f01-8a02-0aee6812faae",
   "metadata": {},
   "outputs": [
    {
     "data": {
      "text/plain": [
       "(31, 8831)"
      ]
     },
     "execution_count": 28,
     "metadata": {},
     "output_type": "execute_result"
    }
   ],
   "source": [
    "smogn_data.shape"
   ]
  },
  {
   "cell_type": "markdown",
   "id": "72ccca51-72e1-443f-adc5-124d15b34adf",
   "metadata": {},
   "source": [
    "SMOGN has many parameters which can be tuned. The two we used are:\n",
    "* `k` is the number of neighbors considered when over-sampling the random cases\n",
    "* `replace` determines if under-sampling is performed with replacement."
   ]
  },
  {
   "cell_type": "markdown",
   "id": "67a74c26-ed9e-49ef-9c40-a86a00f0d70e",
   "metadata": {},
   "source": [
    "We see now that the mean of the $y$ is much higher:"
   ]
  },
  {
   "cell_type": "code",
   "execution_count": 7,
   "id": "c16a95c0-80b1-4d10-82df-265df55a238a",
   "metadata": {},
   "outputs": [
    {
     "data": {
      "text/plain": [
       "(70821.07770643898, 36486.26485260771)"
      ]
     },
     "execution_count": 7,
     "metadata": {},
     "output_type": "execute_result"
    }
   ],
   "source": [
    "smogn_data['uc_posts'].mean(), all_data['uc_posts'].mean()"
   ]
  },
  {
   "cell_type": "markdown",
   "id": "7f3f0083-29f2-4074-8a6a-de7fc38f8152",
   "metadata": {},
   "source": [
    "We also see that the distribution of $y$ leans more towards its high values:"
   ]
  },
  {
   "cell_type": "code",
   "execution_count": 8,
   "id": "43f1c37b-019a-4440-b253-22560248346d",
   "metadata": {},
   "outputs": [
    {
     "data": {
      "image/png": "[encoded data removed]",
      "text/plain": [
       "<Figure size 500x500 with 1 Axes>"
      ]
     },
     "metadata": {},
     "output_type": "display_data"
    }
   ],
   "source": [
    "# plot histogram\n",
    "smogn_data.reset_index(drop=True, inplace=True)\n",
    "rel = sns.displot(smogn_data, x=\"uc_posts\", bins=35)\n",
    "rel.set(title='Histogram of SMOGN-transformed uc_posts')\n",
    "plt.show();"
   ]
  },
  {
   "cell_type": "markdown",
   "id": "0aec286b-80aa-4f60-ab97-a370bdeeb21c",
   "metadata": {},
   "source": [
    "#### Save Data"
   ]
  },
  {
   "cell_type": "code",
   "execution_count": 9,
   "id": "416caad6-740e-459b-8019-e0ebcbc754e8",
   "metadata": {},
   "outputs": [],
   "source": [
    "# you cannot set a random seed with the smogn module, so we save our data output:\n",
    "smogn_data.to_pickle('../data/smogn_data')"
   ]
  },
  {
   "cell_type": "markdown",
   "id": "88a2b2bd-7222-4b54-9c91-3fd976b3b54b",
   "metadata": {},
   "source": [
    "#### Linear Regression\n",
    "Next, we create a linear regression model to compare to the model from notebook 3:"
   ]
  },
  {
   "cell_type": "code",
   "execution_count": 10,
   "id": "918166b7-8706-43a5-b2d5-6502453ad21d",
   "metadata": {},
   "outputs": [],
   "source": [
    "# define X and y\n",
    "X_smogn = smogn_data.drop(columns='uc_posts')\n",
    "y_smogn = smogn_data['uc_posts']"
   ]
  },
  {
   "cell_type": "code",
   "execution_count": 15,
   "id": "e991d19b-e3ba-423e-a5ac-af9f0c2dc128",
   "metadata": {},
   "outputs": [
    {
     "data": {
      "text/plain": [
       "70821.07770643898"
      ]
     },
     "execution_count": 15,
     "metadata": {},
     "output_type": "execute_result"
    }
   ],
   "source": [
    "y_smogn.mean()"
   ]
  },
  {
   "cell_type": "code",
   "execution_count": 11,
   "id": "1de725af-fcf4-4bd4-a881-7afe64966e11",
   "metadata": {},
   "outputs": [],
   "source": [
    "# train-test split\n",
    "X_train_smogn, X_test_smogn, y_train_smogn, y_test_smogn = train_test_split(X_smogn, y_smogn, test_size=0.2, random_state=10)"
   ]
  },
  {
   "cell_type": "code",
   "execution_count": 12,
   "id": "d988dc2f-808d-4bc5-ae53-7092503e00d1",
   "metadata": {},
   "outputs": [
    {
     "data": {
      "text/plain": [
       "(70918.14489314325, 70474.40918249516)"
      ]
     },
     "execution_count": 12,
     "metadata": {},
     "output_type": "execute_result"
    }
   ],
   "source": [
    "y_train_smogn.mean(), y_test_smogn.mean()"
   ]
  },
  {
   "cell_type": "code",
   "execution_count": 13,
   "id": "394c9e0a-3583-48cd-91ce-c3ad0df4f21c",
   "metadata": {},
   "outputs": [
    {
     "data": {
      "text/plain": [
       "LinearRegression()"
      ]
     },
     "execution_count": 13,
     "metadata": {},
     "output_type": "execute_result"
    }
   ],
   "source": [
    "# instantiate linear regression\n",
    "lr = LinearRegression()\n",
    "# fit to encoded training data\n",
    "lr.fit(X_train_smogn, y_train_smogn)"
   ]
  },
  {
   "cell_type": "markdown",
   "id": "969e9e1e-3d48-488c-95e9-b5e241bc434e",
   "metadata": {},
   "source": [
    "#### Model Evaluation"
   ]
  },
  {
   "cell_type": "code",
   "execution_count": 14,
   "id": "18899f65-7e00-465c-8764-e78a8eac70d5",
   "metadata": {},
   "outputs": [
    {
     "data": {
      "text/plain": [
       "(0.9999999997, 0.785)"
      ]
     },
     "execution_count": 14,
     "metadata": {},
     "output_type": "execute_result"
    }
   ],
   "source": [
    "# check r-squared for train and test\n",
    "lr.score(X_train_smogn, y_train_smogn).round(10), lr.score(X_test_smogn, y_test_smogn).round(3)"
   ]
  },
  {
   "cell_type": "markdown",
   "id": "baeafb3c-38fc-4655-9cc7-a21a3e5811bd",
   "metadata": {},
   "source": [
    "We see that the model test score is improved considerably. Although the data is still too small to say anything conclusive, SMOGN improved the test score of the linear regression."
   ]
  },
  {
   "cell_type": "code",
   "execution_count": 17,
   "id": "9e69f95a-21d1-4f6b-b19e-e6cdcb015b75",
   "metadata": {},
   "outputs": [],
   "source": [
    "# calculate residuals by creating predictions for training set\n",
    "preds_smogn = lr.predict(X_train_smogn)\n",
    "resid_smogn_train = y_train_smogn - preds_smogn"
   ]
  },
  {
   "cell_type": "code",
   "execution_count": null,
   "id": "16200544-492a-48b9-9174-e22072308c64",
   "metadata": {},
   "outputs": [
    {
     "data": {
      "image/png": "[encoded data removed]",
      "text/plain": [
       "<Figure size 640x480 with 1 Axes>"
      ]
     },
     "metadata": {},
     "output_type": "display_data"
    }
   ],
   "source": [
    "# create residual plot\n",
    "sns.residplot(x = preds_smogn,\n",
    "              y = resid_smogn_train,\n",
    "              lowess = True,\n",
    "              line_kws = {'color' : 'mediumorchid'}, color='skyblue')\\\n",
    "    .set(title = 'Residuals vs. Fits plot',\n",
    "        xlabel = 'Predicted value',\n",
    "        ylabel = 'Residual')\n",
    "plt.show();"
   ]
  },
  {
   "cell_type": "markdown",
   "id": "3d5d001d-b0bd-41bf-808f-b24b3ce39338",
   "metadata": {},
   "source": [
    "We see that assumptions of homoscedasticity are not satisfied since there are some residuals with high spread."
   ]
  },
  {
   "cell_type": "code",
   "execution_count": 27,
   "id": "a513738e-9cde-4be1-bff6-7654ae5edd05",
   "metadata": {},
   "outputs": [
    {
     "data": {
      "text/plain": [
       "-5.444492504058651e-05"
      ]
     },
     "execution_count": 27,
     "metadata": {},
     "output_type": "execute_result"
    }
   ],
   "source": [
    "# calculate the base case r-squared for our model\n",
    "base_1 = [y_train_smogn.mean()] * len(y_test_smogn)\n",
    "r2_score(y_test_smogn, base_1)"
   ]
  },
  {
   "cell_type": "markdown",
   "id": "8b93ff04-390e-449e-b6de-e5974bae80be",
   "metadata": {},
   "source": [
    "We see that the model out-performed the baseline for our model."
   ]
  },
  {
   "cell_type": "markdown",
   "id": "cd91365b-a287-418e-a36f-0db2fc4b12b9",
   "metadata": {},
   "source": [
    "Next we look at the RMSE for the train and test set:"
   ]
  },
  {
   "cell_type": "code",
   "execution_count": 32,
   "id": "6d71d364-91fe-4a43-9749-21881cd28c4b",
   "metadata": {},
   "outputs": [
    {
     "name": "stdout",
     "output_type": "stream",
     "text": [
      "RMSE for test: 27889.054045762114\n"
     ]
    }
   ],
   "source": [
    "# calculate rmse for test set\n",
    "y_preds_test_smogn = lr.predict(X_test_smogn)\n",
    "MSE = mean_squared_error(y_test_smogn, y_preds_test_smogn)\n",
    "RMSE_test = math.sqrt(MSE)\n",
    "print(f'RMSE for test: {RMSE_test}')"
   ]
  },
  {
   "cell_type": "code",
   "execution_count": 34,
   "id": "bf88c777-408a-4327-80a7-b9ec4882d954",
   "metadata": {},
   "outputs": [
    {
     "name": "stdout",
     "output_type": "stream",
     "text": [
      "RMSE for train: 2.1840341477328926\n"
     ]
    }
   ],
   "source": [
    "# calculate rmse for training set\n",
    "y_preds_train_smogn = lr.predict(X_train_smogn)\n",
    "MSE = mean_squared_error(y_train_smogn, y_preds_train_smogn)\n",
    "RMSE_train = math.sqrt(MSE)\n",
    "print(f'RMSE for train: {RMSE_train}')"
   ]
  },
  {
   "cell_type": "markdown",
   "id": "ba3a5496-725f-45a4-9a5a-06844172db5d",
   "metadata": {},
   "source": [
    "The RMSE for the test set is much higher than that for the test set, which means our model has overfitting. We already knew this."
   ]
  },
  {
   "cell_type": "markdown",
   "id": "5f7d52b7-cb51-4d8a-ab78-942442721b81",
   "metadata": {},
   "source": [
    "We examine a scatterplot of the actual versus predicted values for y in the test set:"
   ]
  },
  {
   "cell_type": "code",
   "execution_count": 39,
   "id": "cb389d86-f3f6-473b-aebf-decf59025990",
   "metadata": {},
   "outputs": [
    {
     "data": {
      "image/png": "[encoded data removed]",
      "text/plain": [
       "<Figure size 640x480 with 1 Axes>"
      ]
     },
     "metadata": {},
     "output_type": "display_data"
    }
   ],
   "source": [
    "# create scatterplot of y_test_smogn versus y_preds_test_smogn\n",
    "sns.scatterplot(x=y_test_smogn, y=y_preds_test_smogn)\n",
    "# add title\n",
    "plt.title('Actual versus Predicted y')\n",
    "# add axes labels\n",
    "plt.xlabel('y_test_smogn')\n",
    "plt.ylabel('y_preds_test_smogn')\n",
    "plt.show();"
   ]
  },
  {
   "cell_type": "markdown",
   "id": "69928e39-fcbc-4993-8fb3-f302e53b06a1",
   "metadata": {},
   "source": [
    "We have shown that the model we have after using SMOGN on the data is far better than a linear model on the original data. Although we still cannot call it a good model (because it is based off of a small sample size), **we recognize SMOGN as a valuable pre-processing tool for cases in uneven domains.**"
   ]
  },
  {
   "cell_type": "markdown",
   "id": "73ff7ae2-f0e1-4cf5-8062-5265be2ea876",
   "metadata": {},
   "source": [
    "#### Results\n",
    "We look at some model coefficients and interpret some of its findings."
   ]
  },
  {
   "cell_type": "code",
   "execution_count": 50,
   "id": "376cedca-cbf9-4ce1-997b-a12fde5510a9",
   "metadata": {},
   "outputs": [
    {
     "data": {
      "text/html": [
       "<div>\n",
       "<style scoped>\n",
       "    .dataframe tbody tr th:only-of-type {\n",
       "        vertical-align: middle;\n",
       "    }\n",
       "\n",
       "    .dataframe tbody tr th {\n",
       "        vertical-align: top;\n",
       "    }\n",
       "\n",
       "    .dataframe thead th {\n",
       "        text-align: right;\n",
       "    }\n",
       "</style>\n",
       "<table border=\"1\" class=\"dataframe\">\n",
       "  <thead>\n",
       "    <tr style=\"text-align: right;\">\n",
       "      <th></th>\n",
       "      <th>weights</th>\n",
       "    </tr>\n",
       "  </thead>\n",
       "  <tbody>\n",
       "    <tr>\n",
       "      <th>software_valve anti-cheat</th>\n",
       "      <td>170969.979842</td>\n",
       "    </tr>\n",
       "    <tr>\n",
       "      <th>software</th>\n",
       "      <td>1994.723422</td>\n",
       "    </tr>\n",
       "    <tr>\n",
       "      <th>software_defense matrix</th>\n",
       "      <td>0.000000</td>\n",
       "    </tr>\n",
       "    <tr>\n",
       "      <th>software_fairfight</th>\n",
       "      <td>0.000000</td>\n",
       "    </tr>\n",
       "    <tr>\n",
       "      <th>bestsoftwarelints</th>\n",
       "      <td>-2628.309037</td>\n",
       "    </tr>\n",
       "    <tr>\n",
       "      <th>software_punkbuster</th>\n",
       "      <td>-14887.969342</td>\n",
       "    </tr>\n",
       "    <tr>\n",
       "      <th>software_easy anti-cheat</th>\n",
       "      <td>-44850.924514</td>\n",
       "    </tr>\n",
       "    <tr>\n",
       "      <th>software_none</th>\n",
       "      <td>-47928.574759</td>\n",
       "    </tr>\n",
       "    <tr>\n",
       "      <th>software_equ8</th>\n",
       "      <td>-52849.161751</td>\n",
       "    </tr>\n",
       "    <tr>\n",
       "      <th>software_ricochet</th>\n",
       "      <td>-62659.613215</td>\n",
       "    </tr>\n",
       "    <tr>\n",
       "      <th>software_xigncode3</th>\n",
       "      <td>-82506.685081</td>\n",
       "    </tr>\n",
       "    <tr>\n",
       "      <th>software_vanguard</th>\n",
       "      <td>-164180.820952</td>\n",
       "    </tr>\n",
       "  </tbody>\n",
       "</table>\n",
       "</div>"
      ],
      "text/plain": [
       "                                 weights\n",
       "software_valve anti-cheat  170969.979842\n",
       "software                     1994.723422\n",
       "software_defense matrix         0.000000\n",
       "software_fairfight              0.000000\n",
       "bestsoftwarelints           -2628.309037\n",
       "software_punkbuster        -14887.969342\n",
       "software_easy anti-cheat   -44850.924514\n",
       "software_none              -47928.574759\n",
       "software_equ8              -52849.161751\n",
       "software_ricochet          -62659.613215\n",
       "software_xigncode3         -82506.685081\n",
       "software_vanguard         -164180.820952"
      ]
     },
     "execution_count": 50,
     "metadata": {},
     "output_type": "execute_result"
    }
   ],
   "source": [
    "# create a dataframe of model coefficients\n",
    "weights_df = pd.DataFrame(lr.coef_, \n",
    "                          index=X_smogn.columns)\n",
    "weights_df.columns = ['weights']\n",
    "weights_df.sort_values('weights', ascending=False, inplace=True)\n",
    "weights_df.loc[weights_df.index.str.contains('software')]"
   ]
  },
  {
   "cell_type": "markdown",
   "id": "4628b405-56c6-4701-9b03-07ff9b3a05bc",
   "metadata": {},
   "source": [
    "We see from the coefficients for software that valve anti-cheat has a high coefficient and therefore is indicative of high incidence of cheating. On the otherhand, vanguard has a very negative coefficient and therefore is indicative of low incidence of cheating.\n",
    "\n",
    "Interstingly, having no anti-cheat software (software_none) had a negative coefficient - it could be that companies do not include anti-cheat software in a game only in cases when it truly does not need one. \n",
    "\n",
    "We also notice that punkbuster and easy anti-cheat, which are both very polular, have negative coefficients."
   ]
  },
  {
   "cell_type": "code",
   "execution_count": 51,
   "id": "bad04e25-459b-4f09-b097-e814191534bf",
   "metadata": {},
   "outputs": [
    {
     "data": {
      "text/html": [
       "<div>\n",
       "<style scoped>\n",
       "    .dataframe tbody tr th:only-of-type {\n",
       "        vertical-align: middle;\n",
       "    }\n",
       "\n",
       "    .dataframe tbody tr th {\n",
       "        vertical-align: top;\n",
       "    }\n",
       "\n",
       "    .dataframe thead th {\n",
       "        text-align: right;\n",
       "    }\n",
       "</style>\n",
       "<table border=\"1\" class=\"dataframe\">\n",
       "  <thead>\n",
       "    <tr style=\"text-align: right;\">\n",
       "      <th></th>\n",
       "      <th>weights</th>\n",
       "    </tr>\n",
       "  </thead>\n",
       "  <tbody>\n",
       "    <tr>\n",
       "      <th>pub_dev_same_1</th>\n",
       "      <td>-28135.590796</td>\n",
       "    </tr>\n",
       "  </tbody>\n",
       "</table>\n",
       "</div>"
      ],
      "text/plain": [
       "                     weights\n",
       "pub_dev_same_1 -28135.590796"
      ]
     },
     "execution_count": 51,
     "metadata": {},
     "output_type": "execute_result"
    }
   ],
   "source": [
    "weights_df.loc[weights_df.index.str.contains('pub_dev_same')]"
   ]
  },
  {
   "cell_type": "markdown",
   "id": "57668ec5-681f-4982-89f8-971f5025c601",
   "metadata": {},
   "source": [
    "We see from the coefficients that if the publisher and developer are the same, it is indicative of a low incidence of cheating."
   ]
  },
  {
   "cell_type": "code",
   "execution_count": 52,
   "id": "e4f24fb3-82d8-491f-87a6-0f1a163c20a4",
   "metadata": {},
   "outputs": [
    {
     "data": {
      "text/html": [
       "<div>\n",
       "<style scoped>\n",
       "    .dataframe tbody tr th:only-of-type {\n",
       "        vertical-align: middle;\n",
       "    }\n",
       "\n",
       "    .dataframe tbody tr th {\n",
       "        vertical-align: top;\n",
       "    }\n",
       "\n",
       "    .dataframe thead th {\n",
       "        text-align: right;\n",
       "    }\n",
       "</style>\n",
       "<table border=\"1\" class=\"dataframe\">\n",
       "  <thead>\n",
       "    <tr style=\"text-align: right;\">\n",
       "      <th></th>\n",
       "      <th>weights</th>\n",
       "    </tr>\n",
       "  </thead>\n",
       "  <tbody>\n",
       "    <tr>\n",
       "      <th>counterstrike</th>\n",
       "      <td>203634.280508</td>\n",
       "    </tr>\n",
       "    <tr>\n",
       "      <th>software_valve anti-cheat</th>\n",
       "      <td>170969.979842</td>\n",
       "    </tr>\n",
       "    <tr>\n",
       "      <th>bad</th>\n",
       "      <td>93101.968831</td>\n",
       "    </tr>\n",
       "    <tr>\n",
       "      <th>riot</th>\n",
       "      <td>85380.445502</td>\n",
       "    </tr>\n",
       "    <tr>\n",
       "      <th>player</th>\n",
       "      <td>81413.412888</td>\n",
       "    </tr>\n",
       "    <tr>\n",
       "      <th>source</th>\n",
       "      <td>64422.401748</td>\n",
       "    </tr>\n",
       "    <tr>\n",
       "      <th>condition</th>\n",
       "      <td>49735.948657</td>\n",
       "    </tr>\n",
       "    <tr>\n",
       "      <th>valve</th>\n",
       "      <td>48233.336361</td>\n",
       "    </tr>\n",
       "    <tr>\n",
       "      <th>tactical</th>\n",
       "      <td>47747.921666</td>\n",
       "    </tr>\n",
       "    <tr>\n",
       "      <th>scavs</th>\n",
       "      <td>46222.382933</td>\n",
       "    </tr>\n",
       "  </tbody>\n",
       "</table>\n",
       "</div>"
      ],
      "text/plain": [
       "                                 weights\n",
       "counterstrike              203634.280508\n",
       "software_valve anti-cheat  170969.979842\n",
       "bad                         93101.968831\n",
       "riot                        85380.445502\n",
       "player                      81413.412888\n",
       "source                      64422.401748\n",
       "condition                   49735.948657\n",
       "valve                       48233.336361\n",
       "tactical                    47747.921666\n",
       "scavs                       46222.382933"
      ]
     },
     "execution_count": 52,
     "metadata": {},
     "output_type": "execute_result"
    }
   ],
   "source": [
    "weights_df.head(10)"
   ]
  },
  {
   "cell_type": "markdown",
   "id": "f6146440-a39b-495d-8fd3-36e464f0270a",
   "metadata": {},
   "source": [
    "We see that the word \"counterstrike\" and software valve anti-cheat have the highest coefficients (valve anti-cheat is used in counterstrike, which had the highest post count). We see some other words which are indicative of high incidences of cheating which are interesting."
   ]
  }
 ],
 "metadata": {
  "kernelspec": {
   "display_name": "Python 3 (ipykernel)",
   "language": "python",
   "name": "python3"
  },
  "language_info": {
   "codemirror_mode": {
    "name": "ipython",
    "version": 3
   },
   "file_extension": ".py",
   "mimetype": "text/x-python",
   "name": "python",
   "nbconvert_exporter": "python",
   "pygments_lexer": "ipython3",
   "version": "3.9.13"
  }
 },
 "nbformat": 4,
 "nbformat_minor": 5
}
