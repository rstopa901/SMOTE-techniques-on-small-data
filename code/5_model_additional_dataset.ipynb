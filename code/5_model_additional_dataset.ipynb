{
 "cells": [
  {
   "cell_type": "code",
   "execution_count": 1,
   "id": "c7fc31da-94d0-4db1-af02-793049f58d39",
   "metadata": {},
   "outputs": [],
   "source": [
    "import numpy as np\n",
    "import pandas as pd\n",
    "import pickle\n",
    "import smogn\n",
    "import seaborn as sns\n",
    "import matplotlib.pyplot as plt\n",
    "\n",
    "from sklearn.compose import ColumnTransformer\n",
    "from sklearn.model_selection import train_test_split, GridSearchCV, cross_val_score\n",
    "from sklearn.preprocessing import OneHotEncoder, StandardScaler\n",
    "from sklearn.linear_model import LogisticRegression\n",
    "from sklearn.datasets import make_classification\n",
    "from imblearn.pipeline import Pipeline\n",
    "from imblearn.over_sampling import SMOTE\n",
    "from imblearn.under_sampling import RandomUnderSampler\n",
    "from sklearn.metrics import confusion_matrix, ConfusionMatrixDisplay"
   ]
  },
  {
   "cell_type": "markdown",
   "id": "5cd50296-ad7b-43a5-97d8-6d9a13d6f954",
   "metadata": {},
   "source": [
    "## Objective\n",
    "\n",
    "In this notebook, we will use another SMOTE pre-processing method and apply it to a slightly larger dataset. \n",
    "\n",
    "We take the video game sales dataset from kaggle (cited below) and aim to create a classification model which can classify if a game will have over 10 million sales. The dataset has 1907 rows, and a small fraction have sales surpassing 10 million units. Since it is a classification problem, SMOTER (explained in 4_small_data_methods notebook) will be used instead of SMOGN.\n",
    "\n",
    "Since the purpose is to explore SMOTER on a different dataset, the focus will be interpreting the goodness of models on the original vs. SMOTER data. Therefore all steps for modeling are contained in this notebook as a short example notebook.\n",
    "\n",
    "\n",
    "dataset: https://www.kaggle.com/datasets/thedevastator/discovering-hidden-trends-in-global-video-games"
   ]
  },
  {
   "cell_type": "markdown",
   "id": "f0d504b9-21be-48bd-b243-6a8179e67a75",
   "metadata": {},
   "source": [
    "#### Read Data"
   ]
  },
  {
   "cell_type": "code",
   "execution_count": 2,
   "id": "71391149-aa37-49fa-88fc-eb1325229a19",
   "metadata": {},
   "outputs": [],
   "source": [
    "sales = pd.read_csv('../data/video_game_sales.csv')"
   ]
  },
  {
   "cell_type": "markdown",
   "id": "4876c7ba-ef06-4424-99f3-db9b96659bbd",
   "metadata": {},
   "source": [
    "## Data Cleaning"
   ]
  },
  {
   "cell_type": "code",
   "execution_count": 3,
   "id": "b0badead-c231-4e06-a498-21d1a8661103",
   "metadata": {},
   "outputs": [],
   "source": [
    "# clean column names\n",
    "sales.columns = [col.lower().replace(' ', '_') for col in sales.columns]"
   ]
  },
  {
   "cell_type": "code",
   "execution_count": 4,
   "id": "ede0f674-2eb6-46e4-9511-c30e3c14be5c",
   "metadata": {},
   "outputs": [
    {
     "data": {
      "text/html": [
       "<div>\n",
       "<style scoped>\n",
       "    .dataframe tbody tr th:only-of-type {\n",
       "        vertical-align: middle;\n",
       "    }\n",
       "\n",
       "    .dataframe tbody tr th {\n",
       "        vertical-align: top;\n",
       "    }\n",
       "\n",
       "    .dataframe thead th {\n",
       "        text-align: right;\n",
       "    }\n",
       "</style>\n",
       "<table border=\"1\" class=\"dataframe\">\n",
       "  <thead>\n",
       "    <tr style=\"text-align: right;\">\n",
       "      <th></th>\n",
       "      <th>index</th>\n",
       "      <th>rank</th>\n",
       "      <th>game_title</th>\n",
       "      <th>platform</th>\n",
       "      <th>year</th>\n",
       "      <th>genre</th>\n",
       "      <th>publisher</th>\n",
       "      <th>north_america</th>\n",
       "      <th>europe</th>\n",
       "      <th>japan</th>\n",
       "      <th>rest_of_world</th>\n",
       "      <th>global</th>\n",
       "      <th>review</th>\n",
       "    </tr>\n",
       "  </thead>\n",
       "  <tbody>\n",
       "    <tr>\n",
       "      <th>0</th>\n",
       "      <td>0</td>\n",
       "      <td>1</td>\n",
       "      <td>Wii Sports</td>\n",
       "      <td>Wii</td>\n",
       "      <td>2006.0</td>\n",
       "      <td>Sports</td>\n",
       "      <td>Nintendo</td>\n",
       "      <td>40.43</td>\n",
       "      <td>28.39</td>\n",
       "      <td>3.77</td>\n",
       "      <td>8.54</td>\n",
       "      <td>81.12</td>\n",
       "      <td>76.28</td>\n",
       "    </tr>\n",
       "    <tr>\n",
       "      <th>1</th>\n",
       "      <td>1</td>\n",
       "      <td>2</td>\n",
       "      <td>Super Mario Bros.</td>\n",
       "      <td>NES</td>\n",
       "      <td>1985.0</td>\n",
       "      <td>Platform</td>\n",
       "      <td>Nintendo</td>\n",
       "      <td>29.08</td>\n",
       "      <td>3.58</td>\n",
       "      <td>6.81</td>\n",
       "      <td>0.77</td>\n",
       "      <td>40.24</td>\n",
       "      <td>91.00</td>\n",
       "    </tr>\n",
       "  </tbody>\n",
       "</table>\n",
       "</div>"
      ],
      "text/plain": [
       "   index  rank         game_title platform    year     genre publisher  \\\n",
       "0      0     1         Wii Sports      Wii  2006.0    Sports  Nintendo   \n",
       "1      1     2  Super Mario Bros.      NES  1985.0  Platform  Nintendo   \n",
       "\n",
       "   north_america  europe  japan  rest_of_world  global  review  \n",
       "0          40.43   28.39   3.77           8.54   81.12   76.28  \n",
       "1          29.08    3.58   6.81           0.77   40.24   91.00  "
      ]
     },
     "execution_count": 4,
     "metadata": {},
     "output_type": "execute_result"
    }
   ],
   "source": [
    "# examine data\n",
    "sales.head(2)"
   ]
  },
  {
   "cell_type": "code",
   "execution_count": 5,
   "id": "64ce80fc-d23d-445e-8118-095950ddd071",
   "metadata": {},
   "outputs": [
    {
     "data": {
      "text/plain": [
       "(1907, 13)"
      ]
     },
     "execution_count": 5,
     "metadata": {},
     "output_type": "execute_result"
    }
   ],
   "source": [
    "# data shape\n",
    "sales.shape"
   ]
  },
  {
   "cell_type": "code",
   "execution_count": 6,
   "id": "ad01bfce-4ce1-41ea-9f87-b7c9b508f6ac",
   "metadata": {},
   "outputs": [
    {
     "data": {
      "text/plain": [
       "index              int64\n",
       "rank               int64\n",
       "game_title        object\n",
       "platform          object\n",
       "year             float64\n",
       "genre             object\n",
       "publisher         object\n",
       "north_america    float64\n",
       "europe           float64\n",
       "japan            float64\n",
       "rest_of_world    float64\n",
       "global           float64\n",
       "review           float64\n",
       "dtype: object"
      ]
     },
     "execution_count": 6,
     "metadata": {},
     "output_type": "execute_result"
    }
   ],
   "source": [
    "sales.dtypes"
   ]
  },
  {
   "cell_type": "markdown",
   "id": "521d2549-c651-449a-9bce-834daa435130",
   "metadata": {},
   "source": [
    "1. We will first limit the data to relevant columns, which will be `genre`, `publisher`, `north_america`, `europe`, `japan`, `review`, `platform` and `rest_of_world` for explanatory variables\n",
    "2. `global` is used to create our target $y$ variable."
   ]
  },
  {
   "cell_type": "code",
   "execution_count": 7,
   "id": "4c1bd516-0947-4f83-a8dc-14197a370b80",
   "metadata": {},
   "outputs": [],
   "source": [
    "# reset index\n",
    "sales.reset_index(drop=True, inplace=True)\n",
    "# stash away the name for later\n",
    "sales_name = sales[['game_title']]\n",
    "# drop unnecessary columns\n",
    "sales.drop(columns=['index', 'rank', 'game_title', 'year'], inplace=True)"
   ]
  },
  {
   "cell_type": "code",
   "execution_count": 8,
   "id": "74d34f72-26b2-4327-b65e-cf0085058ef9",
   "metadata": {},
   "outputs": [
    {
     "data": {
      "text/plain": [
       "platform         0\n",
       "genre            0\n",
       "publisher        2\n",
       "north_america    0\n",
       "europe           0\n",
       "japan            0\n",
       "rest_of_world    0\n",
       "global           0\n",
       "review           0\n",
       "dtype: int64"
      ]
     },
     "execution_count": 8,
     "metadata": {},
     "output_type": "execute_result"
    }
   ],
   "source": [
    "# drop null values\n",
    "sales.isnull().sum()"
   ]
  },
  {
   "cell_type": "code",
   "execution_count": 9,
   "id": "d398c67f-a48b-44f8-ad97-38fe8d2c6eac",
   "metadata": {},
   "outputs": [],
   "source": [
    "sales = sales.loc[~sales['publisher'].isnull()].copy()"
   ]
  },
  {
   "cell_type": "code",
   "execution_count": 10,
   "id": "ebb5cddb-4a2a-4ebc-9386-7c1fa2fd67c3",
   "metadata": {},
   "outputs": [
    {
     "data": {
      "text/plain": [
       "(1905, 9)"
      ]
     },
     "execution_count": 10,
     "metadata": {},
     "output_type": "execute_result"
    }
   ],
   "source": [
    "sales.shape"
   ]
  },
  {
   "cell_type": "markdown",
   "id": "e0c19e92-ec9b-48e2-ba68-83fbbc53b734",
   "metadata": {},
   "source": [
    "Next, we will look at outliers in the data using iqr method from 2_data_cleaning_eda notebook:"
   ]
  },
  {
   "cell_type": "code",
   "execution_count": 11,
   "id": "5339d1cf-dfd4-479e-be4e-56afce67f48f",
   "metadata": {},
   "outputs": [],
   "source": [
    "# define a function to find outliers\n",
    "def iqr_method(df: pd.DataFrame, col: str):\n",
    "    \"\"\"\n",
    "    finds outliers of df[col]\n",
    "    \"\"\"\n",
    "    # define first quartile\n",
    "    q1=df[col].quantile(0.25)\n",
    "    # define third quartile\n",
    "    q3=df[col].quantile(0.75)\n",
    "    # define iqr as difference between first and third quartiles\n",
    "    iqr = q3 - q1\n",
    "    # identify outliers which fall 1.5 * iqr below q1 or 1.5 * iqr above q3\n",
    "    return df.loc[(df[col]<(q1-1.5*iqr))|(df[col]>(q3+1.5*iqr))]"
   ]
  },
  {
   "cell_type": "code",
   "execution_count": 12,
   "id": "481d80ac-2b1f-43b6-9a39-3260ac9ef57a",
   "metadata": {},
   "outputs": [
    {
     "name": "stdout",
     "output_type": "stream",
     "text": [
      "number of outliers for eu sales: 153\n",
      "number of outliers for na sales: 149\n",
      "number of outliers for jp sales: 264\n",
      "number of outliers for other sales: 169\n"
     ]
    }
   ],
   "source": [
    "# look at outliers for na, eu, jp, and other sales\n",
    "print(f\"number of outliers for eu sales: {len(iqr_method(df=sales, col='europe'))}\")\n",
    "print(f\"number of outliers for na sales: {len(iqr_method(df=sales, col='north_america'))}\")\n",
    "print(f\"number of outliers for jp sales: {len(iqr_method(df=sales, col='japan'))}\")\n",
    "print(f\"number of outliers for other sales: {len(iqr_method(df=sales, col='rest_of_world'))}\")"
   ]
  },
  {
   "cell_type": "markdown",
   "id": "20328fbe-cb43-4b51-97c8-5c73de7a5caa",
   "metadata": {},
   "source": [
    "We look at histograms of the sales to see the outliers:"
   ]
  },
  {
   "cell_type": "code",
   "execution_count": 13,
   "id": "c50e82fe-b8aa-4880-937e-df1d24ce0d7b",
   "metadata": {},
   "outputs": [
    {
     "data": {
      "image/png": "[encoded data removed]",
      "text/plain": [
       "<Figure size 700x700 with 4 Axes>"
      ]
     },
     "metadata": {},
     "output_type": "display_data"
    }
   ],
   "source": [
    "fig, axes = plt.subplots(2, 2, figsize=(7, 7))\n",
    "\n",
    "fig.suptitle('NA, EU, JP, and Other Sales Distribution')\n",
    "\n",
    "sns.histplot(sales, x=\"europe\", ax=axes[0, 0], bins=100)\n",
    "sns.histplot(sales, x=\"north_america\", ax=axes[1, 0], bins=100)\n",
    "sns.histplot(sales, x=\"japan\", ax=axes[0, 1], bins=100)\n",
    "sns.histplot(sales, x=\"rest_of_world\", ax=axes[1, 1], bins=100)\n",
    "plt.show();"
   ]
  },
  {
   "cell_type": "markdown",
   "id": "f52cb39e-dd25-47f1-aabf-b47145f783ca",
   "metadata": {},
   "source": [
    "Since our targets of interest are video games which have very high sales, we will keep these outliers."
   ]
  },
  {
   "cell_type": "code",
   "execution_count": 14,
   "id": "81a7ce4b-9bed-4e81-a482-3b6b43d2b0de",
   "metadata": {},
   "outputs": [
    {
     "data": {
      "text/html": [
       "<div>\n",
       "<style scoped>\n",
       "    .dataframe tbody tr th:only-of-type {\n",
       "        vertical-align: middle;\n",
       "    }\n",
       "\n",
       "    .dataframe tbody tr th {\n",
       "        vertical-align: top;\n",
       "    }\n",
       "\n",
       "    .dataframe thead th {\n",
       "        text-align: right;\n",
       "    }\n",
       "</style>\n",
       "<table border=\"1\" class=\"dataframe\">\n",
       "  <thead>\n",
       "    <tr style=\"text-align: right;\">\n",
       "      <th></th>\n",
       "      <th>platform</th>\n",
       "      <th>genre</th>\n",
       "      <th>publisher</th>\n",
       "      <th>north_america</th>\n",
       "      <th>europe</th>\n",
       "      <th>japan</th>\n",
       "      <th>rest_of_world</th>\n",
       "      <th>global</th>\n",
       "      <th>review</th>\n",
       "    </tr>\n",
       "  </thead>\n",
       "  <tbody>\n",
       "    <tr>\n",
       "      <th>99</th>\n",
       "      <td>Wii</td>\n",
       "      <td>Sports</td>\n",
       "      <td>505 Games</td>\n",
       "      <td>3.21</td>\n",
       "      <td>2.44</td>\n",
       "      <td>0.00</td>\n",
       "      <td>0.66</td>\n",
       "      <td>6.30</td>\n",
       "      <td>51.00</td>\n",
       "    </tr>\n",
       "    <tr>\n",
       "      <th>335</th>\n",
       "      <td>NES</td>\n",
       "      <td>Sports</td>\n",
       "      <td>Nintendo</td>\n",
       "      <td>0.73</td>\n",
       "      <td>0.10</td>\n",
       "      <td>2.35</td>\n",
       "      <td>0.02</td>\n",
       "      <td>3.20</td>\n",
       "      <td>39.00</td>\n",
       "    </tr>\n",
       "    <tr>\n",
       "      <th>417</th>\n",
       "      <td>PS</td>\n",
       "      <td>Platform</td>\n",
       "      <td>Sony Computer Entertainment</td>\n",
       "      <td>1.96</td>\n",
       "      <td>0.72</td>\n",
       "      <td>0.00</td>\n",
       "      <td>0.11</td>\n",
       "      <td>2.79</td>\n",
       "      <td>51.90</td>\n",
       "    </tr>\n",
       "    <tr>\n",
       "      <th>449</th>\n",
       "      <td>DS</td>\n",
       "      <td>Action</td>\n",
       "      <td>Disney Interactive Studios</td>\n",
       "      <td>1.59</td>\n",
       "      <td>0.80</td>\n",
       "      <td>0.00</td>\n",
       "      <td>0.26</td>\n",
       "      <td>2.64</td>\n",
       "      <td>45.00</td>\n",
       "    </tr>\n",
       "    <tr>\n",
       "      <th>501</th>\n",
       "      <td>Wii</td>\n",
       "      <td>Sports</td>\n",
       "      <td>Hudson Soft</td>\n",
       "      <td>1.09</td>\n",
       "      <td>0.82</td>\n",
       "      <td>0.29</td>\n",
       "      <td>0.24</td>\n",
       "      <td>2.45</td>\n",
       "      <td>53.04</td>\n",
       "    </tr>\n",
       "    <tr>\n",
       "      <th>...</th>\n",
       "      <td>...</td>\n",
       "      <td>...</td>\n",
       "      <td>...</td>\n",
       "      <td>...</td>\n",
       "      <td>...</td>\n",
       "      <td>...</td>\n",
       "      <td>...</td>\n",
       "      <td>...</td>\n",
       "      <td>...</td>\n",
       "    </tr>\n",
       "    <tr>\n",
       "      <th>1832</th>\n",
       "      <td>PS2</td>\n",
       "      <td>Action</td>\n",
       "      <td>Tecmo Koei</td>\n",
       "      <td>0.11</td>\n",
       "      <td>0.09</td>\n",
       "      <td>0.64</td>\n",
       "      <td>0.03</td>\n",
       "      <td>0.87</td>\n",
       "      <td>54.50</td>\n",
       "    </tr>\n",
       "    <tr>\n",
       "      <th>1856</th>\n",
       "      <td>DS</td>\n",
       "      <td>Misc</td>\n",
       "      <td>Pinnacle</td>\n",
       "      <td>0.00</td>\n",
       "      <td>0.79</td>\n",
       "      <td>0.00</td>\n",
       "      <td>0.06</td>\n",
       "      <td>0.85</td>\n",
       "      <td>42.00</td>\n",
       "    </tr>\n",
       "    <tr>\n",
       "      <th>1870</th>\n",
       "      <td>Wii</td>\n",
       "      <td>Sports</td>\n",
       "      <td>Take-Two Interactive</td>\n",
       "      <td>0.70</td>\n",
       "      <td>0.08</td>\n",
       "      <td>0.00</td>\n",
       "      <td>0.07</td>\n",
       "      <td>0.85</td>\n",
       "      <td>55.00</td>\n",
       "    </tr>\n",
       "    <tr>\n",
       "      <th>1881</th>\n",
       "      <td>PS</td>\n",
       "      <td>Sports</td>\n",
       "      <td>THQ</td>\n",
       "      <td>0.47</td>\n",
       "      <td>0.32</td>\n",
       "      <td>0.00</td>\n",
       "      <td>0.05</td>\n",
       "      <td>0.84</td>\n",
       "      <td>51.00</td>\n",
       "    </tr>\n",
       "    <tr>\n",
       "      <th>1902</th>\n",
       "      <td>GBA</td>\n",
       "      <td>Action</td>\n",
       "      <td>Disney Interactive Studios</td>\n",
       "      <td>0.60</td>\n",
       "      <td>0.22</td>\n",
       "      <td>0.00</td>\n",
       "      <td>0.01</td>\n",
       "      <td>0.83</td>\n",
       "      <td>55.00</td>\n",
       "    </tr>\n",
       "  </tbody>\n",
       "</table>\n",
       "<p>83 rows × 9 columns</p>\n",
       "</div>"
      ],
      "text/plain": [
       "     platform     genre                    publisher  north_america  europe  \\\n",
       "99        Wii    Sports                    505 Games           3.21    2.44   \n",
       "335       NES    Sports                     Nintendo           0.73    0.10   \n",
       "417        PS  Platform  Sony Computer Entertainment           1.96    0.72   \n",
       "449        DS    Action   Disney Interactive Studios           1.59    0.80   \n",
       "501       Wii    Sports                  Hudson Soft           1.09    0.82   \n",
       "...       ...       ...                          ...            ...     ...   \n",
       "1832      PS2    Action                   Tecmo Koei           0.11    0.09   \n",
       "1856       DS      Misc                     Pinnacle           0.00    0.79   \n",
       "1870      Wii    Sports         Take-Two Interactive           0.70    0.08   \n",
       "1881       PS    Sports                          THQ           0.47    0.32   \n",
       "1902      GBA    Action   Disney Interactive Studios           0.60    0.22   \n",
       "\n",
       "      japan  rest_of_world  global  review  \n",
       "99     0.00           0.66    6.30   51.00  \n",
       "335    2.35           0.02    3.20   39.00  \n",
       "417    0.00           0.11    2.79   51.90  \n",
       "449    0.00           0.26    2.64   45.00  \n",
       "501    0.29           0.24    2.45   53.04  \n",
       "...     ...            ...     ...     ...  \n",
       "1832   0.64           0.03    0.87   54.50  \n",
       "1856   0.00           0.06    0.85   42.00  \n",
       "1870   0.00           0.07    0.85   55.00  \n",
       "1881   0.00           0.05    0.84   51.00  \n",
       "1902   0.00           0.01    0.83   55.00  \n",
       "\n",
       "[83 rows x 9 columns]"
      ]
     },
     "execution_count": 14,
     "metadata": {},
     "output_type": "execute_result"
    }
   ],
   "source": [
    "# look at outliers for review\n",
    "iqr_method(df=sales, col='review')"
   ]
  },
  {
   "cell_type": "markdown",
   "id": "3b3608e7-2692-4cbd-8f06-f9445c271345",
   "metadata": {},
   "source": [
    "Since review has 83 outliers, we will drop them"
   ]
  },
  {
   "cell_type": "code",
   "execution_count": 15,
   "id": "da812ee4-4b04-43d2-866a-0569c01c2d06",
   "metadata": {},
   "outputs": [],
   "source": [
    "# Since review has 83 outliers, we will drop them\n",
    "sales = sales.loc[~sales.index.isin(iqr_method(df=sales, col='review').index)].copy()"
   ]
  },
  {
   "cell_type": "markdown",
   "id": "70702777-ab0f-4303-9d03-b192bf7696d4",
   "metadata": {},
   "source": [
    "Next, we will look at the correlation between our explanatory variables:"
   ]
  },
  {
   "cell_type": "code",
   "execution_count": 16,
   "id": "5822cc95-d9b5-46af-bfec-4e3eff898ae4",
   "metadata": {},
   "outputs": [
    {
     "data": {
      "image/png": "[encoded data removed]",
      "text/plain": [
       "<Figure size 640x480 with 2 Axes>"
      ]
     },
     "metadata": {},
     "output_type": "display_data"
    }
   ],
   "source": [
    "# create correlation heatmap\n",
    "dataplot = sns.heatmap(sales[['north_america', 'europe', 'japan', 'rest_of_world', 'review']].corr(), \n",
    "                       cmap=\"YlGnBu\", annot=True).set(title='Correlation Heatmap of Explanatory Variables')\n",
    "plt.show();"
   ]
  },
  {
   "cell_type": "markdown",
   "id": "6cab07f4-bc4f-4288-bdd5-8b1e53cd3235",
   "metadata": {},
   "source": [
    "Since europe and rest_of_world have high correlation, we drop rest_of_world:"
   ]
  },
  {
   "cell_type": "code",
   "execution_count": 17,
   "id": "754c2935-0a9d-4897-a945-c9e738c9c3f2",
   "metadata": {},
   "outputs": [],
   "source": [
    "sales.drop(columns=['rest_of_world'], inplace=True)"
   ]
  },
  {
   "cell_type": "code",
   "execution_count": 18,
   "id": "cb88e548-c8e4-4c20-a4af-7b843096b43b",
   "metadata": {},
   "outputs": [],
   "source": [
    "sales.reset_index(inplace=True, drop=True)"
   ]
  },
  {
   "cell_type": "markdown",
   "id": "fcd03fbf-7ffc-4bc3-b67a-a80dc965e6a9",
   "metadata": {},
   "source": [
    "### Pre-Process and Modeling"
   ]
  },
  {
   "cell_type": "code",
   "execution_count": 19,
   "id": "49190693-e427-4810-8652-74e3500404fd",
   "metadata": {},
   "outputs": [
    {
     "data": {
      "text/plain": [
       "Index(['platform', 'genre', 'publisher', 'north_america', 'europe', 'japan',\n",
       "       'global', 'review'],\n",
       "      dtype='object')"
      ]
     },
     "execution_count": 19,
     "metadata": {},
     "output_type": "execute_result"
    }
   ],
   "source": [
    "sales.columns"
   ]
  },
  {
   "cell_type": "markdown",
   "id": "727037f7-70f1-4ce9-9cb6-a6b2baed830d",
   "metadata": {},
   "source": [
    "Next we will pre-process the data for modeling. Since this is a classification, we will first start with logistic regression (as it is interpretable) before exploring other methods."
   ]
  },
  {
   "cell_type": "code",
   "execution_count": 20,
   "id": "dcf84c78-3891-4144-8849-75dde2b24f37",
   "metadata": {},
   "outputs": [],
   "source": [
    "# define new y var which is 1 if global sales are over 10 million games\n",
    "sales['one_mil_game'] = np.where(sales['global']>=10, 1, 0)"
   ]
  },
  {
   "cell_type": "code",
   "execution_count": 21,
   "id": "57eaa2de-1a22-472e-8dc1-d65c84e183a0",
   "metadata": {},
   "outputs": [
    {
     "data": {
      "text/html": [
       "<div>\n",
       "<style scoped>\n",
       "    .dataframe tbody tr th:only-of-type {\n",
       "        vertical-align: middle;\n",
       "    }\n",
       "\n",
       "    .dataframe tbody tr th {\n",
       "        vertical-align: top;\n",
       "    }\n",
       "\n",
       "    .dataframe thead th {\n",
       "        text-align: right;\n",
       "    }\n",
       "</style>\n",
       "<table border=\"1\" class=\"dataframe\">\n",
       "  <thead>\n",
       "    <tr style=\"text-align: right;\">\n",
       "      <th></th>\n",
       "      <th>one_mil_game</th>\n",
       "    </tr>\n",
       "  </thead>\n",
       "  <tbody>\n",
       "    <tr>\n",
       "      <th>0</th>\n",
       "      <td>1774</td>\n",
       "    </tr>\n",
       "    <tr>\n",
       "      <th>1</th>\n",
       "      <td>48</td>\n",
       "    </tr>\n",
       "  </tbody>\n",
       "</table>\n",
       "</div>"
      ],
      "text/plain": [
       "   one_mil_game\n",
       "0          1774\n",
       "1            48"
      ]
     },
     "execution_count": 21,
     "metadata": {},
     "output_type": "execute_result"
    }
   ],
   "source": [
    "sales['one_mil_game'].value_counts().to_frame()"
   ]
  },
  {
   "cell_type": "markdown",
   "id": "58ce60b8-0ffb-48d5-bb6a-102f3e304582",
   "metadata": {},
   "source": [
    "Since europe and north_america were very correlated to global sales, they were removed in order to make the classification harder."
   ]
  },
  {
   "cell_type": "code",
   "execution_count": 22,
   "id": "fe95b571-0b06-4b62-ad02-ebe343f4ae82",
   "metadata": {},
   "outputs": [],
   "source": [
    "# define X and y\n",
    "X = sales[['platform', 'genre', 'publisher', 'japan', 'review']]\n",
    "y = sales['one_mil_game']"
   ]
  },
  {
   "cell_type": "code",
   "execution_count": 23,
   "id": "b37622f1-5109-464e-93d7-8043891ed8be",
   "metadata": {},
   "outputs": [
    {
     "data": {
      "text/plain": [
       "(pandas.core.frame.DataFrame, pandas.core.series.Series)"
      ]
     },
     "execution_count": 23,
     "metadata": {},
     "output_type": "execute_result"
    }
   ],
   "source": [
    "type(X), type(y)"
   ]
  },
  {
   "cell_type": "code",
   "execution_count": 23,
   "id": "abfa71ef-4d65-4c10-a4bb-5c05ae4e222a",
   "metadata": {},
   "outputs": [],
   "source": [
    "# train test split\n",
    "X_train, X_test, y_train, y_test = train_test_split(X, y, stratify=y, random_state=42)"
   ]
  },
  {
   "cell_type": "code",
   "execution_count": 24,
   "id": "3a3094ae-1dc0-411c-ac31-5c20cd6a7333",
   "metadata": {},
   "outputs": [
    {
     "data": {
      "text/plain": [
       "((1366, 5), (456, 5), (1366,), (456,))"
      ]
     },
     "execution_count": 24,
     "metadata": {},
     "output_type": "execute_result"
    }
   ],
   "source": [
    "# check shape\n",
    "X_train.shape, X_test.shape, y_train.shape, y_test.shape"
   ]
  },
  {
   "cell_type": "code",
   "execution_count": 25,
   "id": "1282cbb0-ed34-46ed-a273-590dba684e9f",
   "metadata": {},
   "outputs": [
    {
     "data": {
      "text/plain": [
       "(0.02635431918008785, 0.02631578947368421)"
      ]
     },
     "execution_count": 25,
     "metadata": {},
     "output_type": "execute_result"
    }
   ],
   "source": [
    "# check y mean\n",
    "y_train.mean(), y_test.mean()"
   ]
  },
  {
   "cell_type": "code",
   "execution_count": 26,
   "id": "94e650b4-1c02-4fac-8742-097976a180d9",
   "metadata": {},
   "outputs": [
    {
     "name": "stderr",
     "output_type": "stream",
     "text": [
      "C:\\Users\\rstop\\anaconda3\\lib\\site-packages\\sklearn\\preprocessing\\_encoders.py:170: UserWarning: Found unknown categories in columns [0, 2] during transform. These unknown categories will be encoded as all zeros\n",
      "  warnings.warn(\n"
     ]
    }
   ],
   "source": [
    "# one hot encoder for categorical variables\n",
    "# apply standard scaler for numeric variables\n",
    "\n",
    "pipe_ohe_ss = ColumnTransformer([('scaler', StandardScaler(), ['japan', 'review']),\n",
    "                                 ('onehot', OneHotEncoder(handle_unknown='ignore', drop='first'), ['platform', 'genre', 'publisher'])],\n",
    "                                verbose_feature_names_out=False)\n",
    "\n",
    "# fit ohe and ss\n",
    "pipe_ohe_ss.fit(X_train)\n",
    "\n",
    "# transform train and test X\n",
    "X_train_t = pd.DataFrame(pipe_ohe_ss.transform(X_train).todense(), columns=pipe_ohe_ss.get_feature_names_out())\n",
    "X_test_t = pd.DataFrame(pipe_ohe_ss.transform(X_test).todense(), columns=pipe_ohe_ss.get_feature_names_out())"
   ]
  },
  {
   "cell_type": "code",
   "execution_count": 27,
   "id": "9d3ca7d0-d8c4-4ab3-89fd-e4cfb28d648e",
   "metadata": {},
   "outputs": [
    {
     "name": "stdout",
     "output_type": "stream",
     "text": [
      "Training accuracy: 0.9838945827232797\n",
      "Testing accuracy: 0.9824561403508771\n"
     ]
    }
   ],
   "source": [
    "# Defining logistic regression parameters to sweep over\n",
    "logreg_params = {\n",
    "    'penalty':['l1','l2'],\n",
    "    'C':[0.6,0.8,1.0]\n",
    "}\n",
    "# GridSearching logistic regression classifiers\n",
    "logreg_grid = GridSearchCV(LogisticRegression(solver='liblinear'), logreg_params, n_jobs=-1)\n",
    "logreg_grid.fit(X_train_t, y_train)\n",
    "# Printing out train and test accuracy scores\n",
    "print(f'Training accuracy: {logreg_grid.score(X_train_t, y_train)}')\n",
    "print(f'Testing accuracy: {logreg_grid.score(X_test_t, y_test)}')"
   ]
  },
  {
   "cell_type": "code",
   "execution_count": 28,
   "id": "66bd9c2b-0e32-4fbe-8225-2bdbcfe02d0d",
   "metadata": {},
   "outputs": [
    {
     "data": {
      "text/plain": [
       "{'C': 0.8, 'penalty': 'l1'}"
      ]
     },
     "execution_count": 28,
     "metadata": {},
     "output_type": "execute_result"
    }
   ],
   "source": [
    "logreg_grid.best_params_"
   ]
  },
  {
   "cell_type": "code",
   "execution_count": 29,
   "id": "222facfc-2041-4eb9-9f6a-a53c04f5d9ce",
   "metadata": {},
   "outputs": [
    {
     "data": {
      "text/html": [
       "<div>\n",
       "<style scoped>\n",
       "    .dataframe tbody tr th:only-of-type {\n",
       "        vertical-align: middle;\n",
       "    }\n",
       "\n",
       "    .dataframe tbody tr th {\n",
       "        vertical-align: top;\n",
       "    }\n",
       "\n",
       "    .dataframe thead th {\n",
       "        text-align: right;\n",
       "    }\n",
       "</style>\n",
       "<table border=\"1\" class=\"dataframe\">\n",
       "  <thead>\n",
       "    <tr style=\"text-align: right;\">\n",
       "      <th></th>\n",
       "      <th>Weight</th>\n",
       "    </tr>\n",
       "  </thead>\n",
       "  <tbody>\n",
       "    <tr>\n",
       "      <th>platform_X360</th>\n",
       "      <td>1.747432</td>\n",
       "    </tr>\n",
       "    <tr>\n",
       "      <th>platform_Wii</th>\n",
       "      <td>1.360063</td>\n",
       "    </tr>\n",
       "    <tr>\n",
       "      <th>publisher_Activision</th>\n",
       "      <td>1.358550</td>\n",
       "    </tr>\n",
       "    <tr>\n",
       "      <th>japan</th>\n",
       "      <td>1.271065</td>\n",
       "    </tr>\n",
       "    <tr>\n",
       "      <th>genre_Shooter</th>\n",
       "      <td>1.067641</td>\n",
       "    </tr>\n",
       "    <tr>\n",
       "      <th>review</th>\n",
       "      <td>0.654372</td>\n",
       "    </tr>\n",
       "    <tr>\n",
       "      <th>publisher_Nintendo</th>\n",
       "      <td>0.207873</td>\n",
       "    </tr>\n",
       "    <tr>\n",
       "      <th>publisher_Hasbro Interactive</th>\n",
       "      <td>0.000000</td>\n",
       "    </tr>\n",
       "    <tr>\n",
       "      <th>publisher_Microprose</th>\n",
       "      <td>0.000000</td>\n",
       "    </tr>\n",
       "    <tr>\n",
       "      <th>publisher_Pacific Century Cyber Works</th>\n",
       "      <td>0.000000</td>\n",
       "    </tr>\n",
       "  </tbody>\n",
       "</table>\n",
       "</div>"
      ],
      "text/plain": [
       "                                         Weight\n",
       "platform_X360                          1.747432\n",
       "platform_Wii                           1.360063\n",
       "publisher_Activision                   1.358550\n",
       "japan                                  1.271065\n",
       "genre_Shooter                          1.067641\n",
       "review                                 0.654372\n",
       "publisher_Nintendo                     0.207873\n",
       "publisher_Hasbro Interactive           0.000000\n",
       "publisher_Microprose                   0.000000\n",
       "publisher_Pacific Century Cyber Works  0.000000"
      ]
     },
     "execution_count": 29,
     "metadata": {},
     "output_type": "execute_result"
    }
   ],
   "source": [
    "parameter_weight_df = pd.DataFrame(logreg_grid.best_estimator_.coef_[0], index = X_train_t.columns)\n",
    "parameter_weight_df.columns = ['Weight']\n",
    "parameter_weight_df.sort_values('Weight', ascending=False).head(10)"
   ]
  },
  {
   "cell_type": "markdown",
   "id": "9f9c8f09-6edc-44f7-abac-35fbd27ea5e1",
   "metadata": {},
   "source": [
    "Now, we perform SMOTER on the data as a pre-processing step to sample more of the cases we are interested in (blockbuster games where global sales were over 10 million units)"
   ]
  },
  {
   "cell_type": "code",
   "execution_count": 30,
   "id": "c120dfdb-cc28-4977-9189-d2f626ab603e",
   "metadata": {},
   "outputs": [
    {
     "name": "stderr",
     "output_type": "stream",
     "text": [
      "C:\\Users\\rstop\\anaconda3\\lib\\site-packages\\sklearn\\preprocessing\\_encoders.py:170: UserWarning: Found unknown categories in columns [0, 2] during transform. These unknown categories will be encoded as all zeros\n",
      "  warnings.warn(\n"
     ]
    }
   ],
   "source": [
    "over = SMOTE(sampling_strategy=0.1)\n",
    "under = RandomUnderSampler(sampling_strategy=0.2)\n",
    "steps = [('over', over), ('under', under)]\n",
    "pipeline = Pipeline(steps=steps)\n",
    "X_tf = pd.DataFrame(pipe_ohe_ss.transform(X).todense(), columns=pipe_ohe_ss.get_feature_names_out())\n",
    "X_smote, y_smote = pipeline.fit_resample(X_tf, y)"
   ]
  },
  {
   "cell_type": "code",
   "execution_count": 31,
   "id": "39250169-3dda-47d4-842b-4ac07778b25c",
   "metadata": {},
   "outputs": [],
   "source": [
    "X_smote_train, X_smote_test, y_smote_train, y_smote_test = train_test_split(X_smote, y_smote, random_state=901)"
   ]
  },
  {
   "cell_type": "code",
   "execution_count": 32,
   "id": "1da4eb43-34f6-4ccc-bfae-4ac5d8bc0c8c",
   "metadata": {},
   "outputs": [
    {
     "name": "stdout",
     "output_type": "stream",
     "text": [
      "Training accuracy: 0.9246231155778895\n",
      "Testing accuracy: 0.943609022556391\n"
     ]
    }
   ],
   "source": [
    "logreg_params_smote = {\n",
    "    'penalty':['l1','l2'],\n",
    "    'C':[0.01, 0.02, 0.03, 0.04]\n",
    "}\n",
    "# using gridsearch\n",
    "logreg_grid_smote = GridSearchCV(LogisticRegression(solver='liblinear'), logreg_params_smote, n_jobs=-1)\n",
    "logreg_grid_smote.fit(X_smote_train, y_smote_train)\n",
    "# Printing out train and test accuracy scores\n",
    "print(f'Training accuracy: {logreg_grid_smote.score(X_smote_train, y_smote_train)}')\n",
    "print(f'Testing accuracy: {logreg_grid_smote.score(X_smote_test, y_smote_test)}')\n",
    "\n",
    "# pointing out that a lot of this code is from project 4 groupwork, pretty code from Bruno"
   ]
  },
  {
   "cell_type": "code",
   "execution_count": 33,
   "id": "56940850-4ca3-4734-ad0d-0e767958d777",
   "metadata": {},
   "outputs": [
    {
     "data": {
      "text/plain": [
       "{'C': 0.02, 'penalty': 'l2'}"
      ]
     },
     "execution_count": 33,
     "metadata": {},
     "output_type": "execute_result"
    }
   ],
   "source": [
    "logreg_grid_smote.best_params_"
   ]
  },
  {
   "cell_type": "code",
   "execution_count": 34,
   "id": "9e94e6a6-e0ee-470e-b84d-b9a8c43ea98c",
   "metadata": {},
   "outputs": [
    {
     "data": {
      "text/plain": [
       "0    0.833333\n",
       "1    0.166667\n",
       "Name: one_mil_game, dtype: float64"
      ]
     },
     "execution_count": 34,
     "metadata": {},
     "output_type": "execute_result"
    }
   ],
   "source": [
    "y_smote.value_counts(normalize=True)"
   ]
  },
  {
   "cell_type": "code",
   "execution_count": 35,
   "id": "51efd0e3-ba66-4134-933f-1eeb7025ef8b",
   "metadata": {},
   "outputs": [
    {
     "data": {
      "text/plain": [
       "0    0.973655\n",
       "1    0.026345\n",
       "Name: one_mil_game, dtype: float64"
      ]
     },
     "execution_count": 35,
     "metadata": {},
     "output_type": "execute_result"
    }
   ],
   "source": [
    "y.value_counts(normalize=True)"
   ]
  },
  {
   "cell_type": "code",
   "execution_count": 36,
   "id": "4308a107-5b75-4104-827f-6c498c6251d1",
   "metadata": {},
   "outputs": [
    {
     "name": "stdout",
     "output_type": "stream",
     "text": [
      "Testing accuracy: 0.9172932330827067\n"
     ]
    }
   ],
   "source": [
    "# accuracy of original model on smote sample:\n",
    "print(f'Testing accuracy: {logreg_grid.score(X_smote_test, y_smote_test)}')"
   ]
  },
  {
   "cell_type": "code",
   "execution_count": 37,
   "id": "ff001fbe-2e12-47ff-aee9-7811a29faa91",
   "metadata": {},
   "outputs": [
    {
     "data": {
      "text/plain": [
       "0.9758771929824561"
      ]
     },
     "execution_count": 37,
     "metadata": {},
     "output_type": "execute_result"
    }
   ],
   "source": [
    "logreg_grid_smote.score(X_test_t, y_test)"
   ]
  },
  {
   "cell_type": "markdown",
   "id": "7ab42d87-ca47-4d4d-a2f2-a6952f7d75f3",
   "metadata": {},
   "source": [
    "We look at confusion matrices applying both models to the original y_pred to see if the instances where `one_mil_game`=1 were predicted better:"
   ]
  },
  {
   "cell_type": "code",
   "execution_count": 38,
   "id": "8841dc5a-b6c4-4fb6-9915-68aa4eadf9dd",
   "metadata": {},
   "outputs": [],
   "source": [
    "# take random sample of data\n",
    "sampled = sales.sample(frac=0.3, replace=True, random_state=1)"
   ]
  },
  {
   "cell_type": "code",
   "execution_count": 39,
   "id": "e9e29e09-54c7-4102-bae9-d9c4042bc8d6",
   "metadata": {},
   "outputs": [],
   "source": [
    "X_sampled = sampled[['platform', 'genre', 'publisher', 'japan', 'review']]\n",
    "y_sampled = sampled['one_mil_game']"
   ]
  },
  {
   "cell_type": "code",
   "execution_count": 40,
   "id": "3c888b8a-5b92-49a6-9062-c0ad524bf0a3",
   "metadata": {},
   "outputs": [
    {
     "name": "stderr",
     "output_type": "stream",
     "text": [
      "C:\\Users\\rstop\\anaconda3\\lib\\site-packages\\sklearn\\preprocessing\\_encoders.py:170: UserWarning: Found unknown categories in columns [2] during transform. These unknown categories will be encoded as all zeros\n",
      "  warnings.warn(\n"
     ]
    }
   ],
   "source": [
    "X_sampled_t = pd.DataFrame(pipe_ohe_ss.transform(X_sampled).todense(), columns=pipe_ohe_ss.get_feature_names_out())"
   ]
  },
  {
   "cell_type": "code",
   "execution_count": 44,
   "id": "b3bb65d2-1f74-42e3-ad31-9b3c525f03c6",
   "metadata": {},
   "outputs": [
    {
     "data": {
      "image/png": "[encoded data removed]",
      "text/plain": [
       "<Figure size 640x480 with 2 Axes>"
      ]
     },
     "metadata": {},
     "output_type": "display_data"
    }
   ],
   "source": [
    "# plot for SMOTE model\n",
    "cm = confusion_matrix(y_sampled, logreg_grid_smote.predict(X_sampled_t))\n",
    "disp = ConfusionMatrixDisplay(cm).plot(cmap=plt.cm.Blues)\n",
    "disp.ax_.set_title(\"SMOTE-R\");"
   ]
  },
  {
   "cell_type": "code",
   "execution_count": 47,
   "id": "1eb54d49-9ede-47ad-abb2-dcbca508be36",
   "metadata": {},
   "outputs": [
    {
     "data": {
      "image/png": "[encoded data removed]",
      "text/plain": [
       "<Figure size 640x480 with 2 Axes>"
      ]
     },
     "metadata": {},
     "output_type": "display_data"
    }
   ],
   "source": [
    "# plot for original model\n",
    "cm2 = confusion_matrix(y_sampled, logreg_grid.predict(X_sampled_t))\n",
    "disp2 = ConfusionMatrixDisplay(cm2).plot(cmap=plt.cm.Blues);\n",
    "disp2.ax_.set_title(\"Original\");"
   ]
  },
  {
   "cell_type": "markdown",
   "id": "41aed84b-aa7c-4392-a207-7c9353e8e2d9",
   "metadata": {},
   "source": [
    "We see that out of the 8 cases where `one_mil_game`=1 in the random sample, the SMOTE-applied model classified 4 correctly while the original model classified 2 correctly."
   ]
  }
 ],
 "metadata": {
  "kernelspec": {
   "display_name": "Python 3 (ipykernel)",
   "language": "python",
   "name": "python3"
  },
  "language_info": {
   "codemirror_mode": {
    "name": "ipython",
    "version": 3
   },
   "file_extension": ".py",
   "mimetype": "text/x-python",
   "name": "python",
   "nbconvert_exporter": "python",
   "pygments_lexer": "ipython3",
   "version": "3.9.13"
  }
 },
 "nbformat": 4,
 "nbformat_minor": 5
}
