{
 "cells": [
  {
   "cell_type": "code",
   "execution_count": 26,
   "id": "cebb020c-14f6-451d-b31f-aaff847160f7",
   "metadata": {},
   "outputs": [],
   "source": [
    "import numpy as np\n",
    "import pandas as pd\n",
    "import pickle\n",
    "import re\n",
    "import seaborn as sns\n",
    "import matplotlib.pyplot as plt"
   ]
  },
  {
   "cell_type": "markdown",
   "id": "cc054d21-2a33-4ec4-b75a-3b2f6cdc144d",
   "metadata": {},
   "source": [
    "## Objectives\n",
    "\n",
    "This notebook will cover data cleaning and explanatory data analysis. We have our data from the previous notebook which has FPS games each having the thread and post counts from unknowncheats as well as their wikipedia entry and anticheat system. \n",
    "\n",
    "For data cleaning, we will:\n",
    "\n",
    "* perform general cleaning\n",
    "* identify variables of interest\n",
    "\n",
    "For EDA we will:\n",
    "\n",
    "* look at distribution of variables in data\n",
    "* identify outliers\n",
    "* address small data size\n",
    "\n",
    "We then export the cleaned data"
   ]
  },
  {
   "cell_type": "markdown",
   "id": "24dd6d6b-a538-4fbc-8535-e1e554ade68e",
   "metadata": {},
   "source": [
    "first we read in the data from 1_data_collection notebook:"
   ]
  },
  {
   "cell_type": "code",
   "execution_count": 27,
   "id": "9f14819c-6da0-4567-b026-e57c3bf432e5",
   "metadata": {},
   "outputs": [],
   "source": [
    "uc_games_df_joined = pd.read_pickle('../data/uc_games_df_joined')"
   ]
  },
  {
   "cell_type": "markdown",
   "id": "f2454306-8014-4da1-ac54-039d8892520c",
   "metadata": {},
   "source": [
    "### General Data Cleaning"
   ]
  },
  {
   "cell_type": "markdown",
   "id": "d5010c22-012b-463e-ac76-ded3b3e7ecab",
   "metadata": {},
   "source": [
    "We first do general data cleaning such as defining datatypes and aligning the case-sensitivities of strings."
   ]
  },
  {
   "cell_type": "code",
   "execution_count": 28,
   "id": "85a3a043-c56b-426d-b70d-d238d9f6ed7a",
   "metadata": {},
   "outputs": [
    {
     "data": {
      "text/html": [
       "<div>\n",
       "<style scoped>\n",
       "    .dataframe tbody tr th:only-of-type {\n",
       "        vertical-align: middle;\n",
       "    }\n",
       "\n",
       "    .dataframe tbody tr th {\n",
       "        vertical-align: top;\n",
       "    }\n",
       "\n",
       "    .dataframe thead th {\n",
       "        text-align: right;\n",
       "    }\n",
       "</style>\n",
       "<table border=\"1\" class=\"dataframe\">\n",
       "  <thead>\n",
       "    <tr style=\"text-align: right;\">\n",
       "      <th></th>\n",
       "      <th>game_name</th>\n",
       "      <th>uc_game_link</th>\n",
       "      <th>uc_threads</th>\n",
       "      <th>uc_posts</th>\n",
       "      <th>wiki_content</th>\n",
       "      <th>software</th>\n",
       "      <th>developer</th>\n",
       "      <th>publisher</th>\n",
       "    </tr>\n",
       "  </thead>\n",
       "  <tbody>\n",
       "    <tr>\n",
       "      <th>0</th>\n",
       "      <td>arma series</td>\n",
       "      <td>https://www.unknowncheats.me/forum/arma-series...</td>\n",
       "      <td>5,970</td>\n",
       "      <td>91,647</td>\n",
       "      <td>Arma (sometimes stylised as ARMA) is a series ...</td>\n",
       "      <td>BattlEye</td>\n",
       "      <td>Bohemia Interactive</td>\n",
       "      <td>Bohemia Interactive</td>\n",
       "    </tr>\n",
       "    <tr>\n",
       "      <th>1</th>\n",
       "      <td>all points bulletin</td>\n",
       "      <td>https://www.unknowncheats.me/forum/all-points-...</td>\n",
       "      <td>1,362</td>\n",
       "      <td>27,077</td>\n",
       "      <td>APB: All Points Bulletin is an open world mult...</td>\n",
       "      <td>BattlEye</td>\n",
       "      <td>Little Orbit</td>\n",
       "      <td>Little Orbit</td>\n",
       "    </tr>\n",
       "  </tbody>\n",
       "</table>\n",
       "</div>"
      ],
      "text/plain": [
       "             game_name                                       uc_game_link  \\\n",
       "0          arma series  https://www.unknowncheats.me/forum/arma-series...   \n",
       "1  all points bulletin  https://www.unknowncheats.me/forum/all-points-...   \n",
       "\n",
       "  uc_threads uc_posts                                       wiki_content  \\\n",
       "0      5,970   91,647  Arma (sometimes stylised as ARMA) is a series ...   \n",
       "1      1,362   27,077  APB: All Points Bulletin is an open world mult...   \n",
       "\n",
       "   software            developer            publisher  \n",
       "0  BattlEye  Bohemia Interactive  Bohemia Interactive  \n",
       "1  BattlEye         Little Orbit         Little Orbit  "
      ]
     },
     "execution_count": 28,
     "metadata": {},
     "output_type": "execute_result"
    }
   ],
   "source": [
    "# look at data\n",
    "uc_games_df_joined.head(2)"
   ]
  },
  {
   "cell_type": "code",
   "execution_count": 29,
   "id": "8104f168-ef54-4cb8-97a6-1b097e89e76e",
   "metadata": {},
   "outputs": [
    {
     "data": {
      "text/html": [
       "<div>\n",
       "<style scoped>\n",
       "    .dataframe tbody tr th:only-of-type {\n",
       "        vertical-align: middle;\n",
       "    }\n",
       "\n",
       "    .dataframe tbody tr th {\n",
       "        vertical-align: top;\n",
       "    }\n",
       "\n",
       "    .dataframe thead th {\n",
       "        text-align: right;\n",
       "    }\n",
       "</style>\n",
       "<table border=\"1\" class=\"dataframe\">\n",
       "  <thead>\n",
       "    <tr style=\"text-align: right;\">\n",
       "      <th></th>\n",
       "      <th>dtype</th>\n",
       "    </tr>\n",
       "  </thead>\n",
       "  <tbody>\n",
       "    <tr>\n",
       "      <th>game_name</th>\n",
       "      <td>object</td>\n",
       "    </tr>\n",
       "    <tr>\n",
       "      <th>uc_game_link</th>\n",
       "      <td>object</td>\n",
       "    </tr>\n",
       "    <tr>\n",
       "      <th>uc_threads</th>\n",
       "      <td>object</td>\n",
       "    </tr>\n",
       "    <tr>\n",
       "      <th>uc_posts</th>\n",
       "      <td>object</td>\n",
       "    </tr>\n",
       "    <tr>\n",
       "      <th>wiki_content</th>\n",
       "      <td>object</td>\n",
       "    </tr>\n",
       "    <tr>\n",
       "      <th>software</th>\n",
       "      <td>object</td>\n",
       "    </tr>\n",
       "    <tr>\n",
       "      <th>developer</th>\n",
       "      <td>object</td>\n",
       "    </tr>\n",
       "    <tr>\n",
       "      <th>publisher</th>\n",
       "      <td>object</td>\n",
       "    </tr>\n",
       "  </tbody>\n",
       "</table>\n",
       "</div>"
      ],
      "text/plain": [
       "               dtype\n",
       "game_name     object\n",
       "uc_game_link  object\n",
       "uc_threads    object\n",
       "uc_posts      object\n",
       "wiki_content  object\n",
       "software      object\n",
       "developer     object\n",
       "publisher     object"
      ]
     },
     "execution_count": 29,
     "metadata": {},
     "output_type": "execute_result"
    }
   ],
   "source": [
    "# examine datatypes\n",
    "uc_games_df_joined.dtypes.to_frame().rename(columns={0: 'dtype'})"
   ]
  },
  {
   "cell_type": "markdown",
   "id": "55125e33-f30f-475c-b366-df7b688a49a8",
   "metadata": {},
   "source": [
    "#### Change the datatypes"
   ]
  },
  {
   "cell_type": "code",
   "execution_count": 30,
   "id": "3a85c44e-49cc-4a96-828b-69fcf2e875bd",
   "metadata": {},
   "outputs": [],
   "source": [
    "# post and thread counts should be numeric\n",
    "uc_games_df_joined['uc_threads'] = uc_games_df_joined['uc_threads'].str.replace(',', '').astype('int')\n",
    "uc_games_df_joined['uc_posts'] = uc_games_df_joined['uc_posts'].str.replace(',', '').astype('int')\n",
    "\n",
    "# all other columns should be left as object as they are strings"
   ]
  },
  {
   "cell_type": "markdown",
   "id": "4c7c15ec-ecff-4c2b-a68c-8d1adc25e3aa",
   "metadata": {},
   "source": [
    "#### Check null counts"
   ]
  },
  {
   "cell_type": "code",
   "execution_count": 31,
   "id": "ca5ca188-8366-4879-988f-2da003341caa",
   "metadata": {},
   "outputs": [
    {
     "data": {
      "text/html": [
       "<div>\n",
       "<style scoped>\n",
       "    .dataframe tbody tr th:only-of-type {\n",
       "        vertical-align: middle;\n",
       "    }\n",
       "\n",
       "    .dataframe tbody tr th {\n",
       "        vertical-align: top;\n",
       "    }\n",
       "\n",
       "    .dataframe thead th {\n",
       "        text-align: right;\n",
       "    }\n",
       "</style>\n",
       "<table border=\"1\" class=\"dataframe\">\n",
       "  <thead>\n",
       "    <tr style=\"text-align: right;\">\n",
       "      <th></th>\n",
       "      <th>null_count</th>\n",
       "    </tr>\n",
       "  </thead>\n",
       "  <tbody>\n",
       "    <tr>\n",
       "      <th>game_name</th>\n",
       "      <td>0</td>\n",
       "    </tr>\n",
       "    <tr>\n",
       "      <th>uc_game_link</th>\n",
       "      <td>0</td>\n",
       "    </tr>\n",
       "    <tr>\n",
       "      <th>uc_threads</th>\n",
       "      <td>0</td>\n",
       "    </tr>\n",
       "    <tr>\n",
       "      <th>uc_posts</th>\n",
       "      <td>0</td>\n",
       "    </tr>\n",
       "    <tr>\n",
       "      <th>wiki_content</th>\n",
       "      <td>0</td>\n",
       "    </tr>\n",
       "    <tr>\n",
       "      <th>software</th>\n",
       "      <td>0</td>\n",
       "    </tr>\n",
       "    <tr>\n",
       "      <th>developer</th>\n",
       "      <td>0</td>\n",
       "    </tr>\n",
       "    <tr>\n",
       "      <th>publisher</th>\n",
       "      <td>0</td>\n",
       "    </tr>\n",
       "  </tbody>\n",
       "</table>\n",
       "</div>"
      ],
      "text/plain": [
       "              null_count\n",
       "game_name              0\n",
       "uc_game_link           0\n",
       "uc_threads             0\n",
       "uc_posts               0\n",
       "wiki_content           0\n",
       "software               0\n",
       "developer              0\n",
       "publisher              0"
      ]
     },
     "execution_count": 31,
     "metadata": {},
     "output_type": "execute_result"
    }
   ],
   "source": [
    "uc_games_df_joined.isnull().sum().to_frame().rename(columns={0: 'null_count'})"
   ]
  },
  {
   "cell_type": "markdown",
   "id": "b1cad964-953c-4417-84e2-8fc9cdfa1831",
   "metadata": {},
   "source": [
    "There are no nulls (which we made sure to do in 1_data_collection notebook)"
   ]
  },
  {
   "cell_type": "markdown",
   "id": "3f077b19-df18-4d07-b3a0-52689281f359",
   "metadata": {},
   "source": [
    "#### General cleaning for strings\n",
    "\n",
    "We will change all the strings except the game_name to lower case and remove irregular characters (we leave game_name untouched to keep it consistent with the raw data from unknowncheats)"
   ]
  },
  {
   "cell_type": "code",
   "execution_count": 32,
   "id": "de3a5e9d-33fe-4acd-90d2-5031efc76d82",
   "metadata": {},
   "outputs": [],
   "source": [
    "# software, developer, publisher\n",
    "\n",
    "# make lowercase\n",
    "for col in ['software', 'developer', 'publisher']:\n",
    "    uc_games_df_joined[col] = uc_games_df_joined[col].str.lower()\n",
    "    \n",
    "# besides for the case, we want to preserve the characters in these columns as is because they are names of companies/software"
   ]
  },
  {
   "cell_type": "code",
   "execution_count": 33,
   "id": "2fb07837-9b24-4a6d-9c07-e8a39b0572ce",
   "metadata": {},
   "outputs": [],
   "source": [
    "# wiki_content\n",
    "\n",
    "# make lowercase\n",
    "uc_games_df_joined['wiki_content'] = uc_games_df_joined['wiki_content'].str.lower()\n",
    "\n",
    "# removing urls\n",
    "uc_games_df_joined['wiki_content'] = uc_games_df_joined['wiki_content'].apply(lambda x: re.sub(r'http\\S+', '', x))\n",
    "# removing irregular characters\n",
    "uc_games_df_joined['wiki_content'] = uc_games_df_joined['wiki_content'].apply(lambda x: re.sub('[^a-zA-Z0-9 \\n]', '', x))\n",
    "# replacing the line breaks with spaces\n",
    "uc_games_df_joined['wiki_content'] = uc_games_df_joined['wiki_content'].apply(lambda x: re.sub('[\\n]', ' ', x))\n",
    "# remove multiple spaces with just one space\n",
    "uc_games_df_joined['wiki_content'] = uc_games_df_joined['wiki_content'].apply(lambda x: re.sub(' +', ' ', x))\n",
    "# # removing all numbers and numerics\n",
    "uc_games_df_joined['wiki_content'].replace('\\d+', '', regex=True, inplace=True)"
   ]
  },
  {
   "cell_type": "markdown",
   "id": "f8304b17-8c7e-4307-ad37-900d00dcec85",
   "metadata": {},
   "source": [
    "sources for text cleaning:\n",
    "* https://gist.github.com/MrEliptik/b3f16179aa2f530781ef8ca9a16499af\n",
    "* https://stackoverflow.com/questions/23996118/replace-special-characters-in-a-string-in-python\n",
    "* https://stackoverflow.com/questions/1546226/is-there-a-simple-way-to-remove-multiple-spaces-in-a-string"
   ]
  },
  {
   "cell_type": "markdown",
   "id": "4203ed74-ab1d-4313-9c06-7350d84432bf",
   "metadata": {},
   "source": [
    "### Cleaning based on number of games in series"
   ]
  },
  {
   "cell_type": "markdown",
   "id": "294e21e8-5c08-4b01-b609-b6f27fa934a0",
   "metadata": {},
   "source": [
    "There is an inbalance that exists in the data because some of the games are series which contain more than one game (therefore increasing the post/thread count for the game). We therefore divide the number of posts/threads by the number of games which occur in each series. The remaining series will be representative of an average game in the series.\n",
    "\n",
    "Note that the number of games in each series is pulled from the wikipedia article for each series. Expansion packs, downloadable content, and add-ons to games are not counted."
   ]
  },
  {
   "cell_type": "code",
   "execution_count": 34,
   "id": "3091d5ec-44b4-4afa-b16d-5ff07ba190ea",
   "metadata": {},
   "outputs": [],
   "source": [
    "# create dictionary for number of games in each series\n",
    "# unlisted games only have 1 game in the series\n",
    "number_in_series = {'arma series': 6, 'america\\'s army operations': 4, 'call of duty series': 21, 'crysis series': 3, \n",
    "                    'fear': 3, 'far cry': 6, 'halo': 6, 'medal of honor series': 14, 'overwatch': 2, 'quake series': 9, \n",
    "                    'rainbow six siege': 15, 'titanfall': 3, 'tom clancy\\'s the division': 2}\n"
   ]
  },
  {
   "cell_type": "code",
   "execution_count": 35,
   "id": "07768fb5-79bb-48fb-8152-373e4edf2de0",
   "metadata": {},
   "outputs": [],
   "source": [
    "# replace post and thread count by number of games in each series\n",
    "uc_games_df_joined['uc_posts'] = uc_games_df_joined['uc_posts'] / uc_games_df_joined['game_name'].map(number_in_series).replace(np.nan, 1)\n",
    "uc_games_df_joined['uc_threads'] = uc_games_df_joined['uc_threads'] / uc_games_df_joined['game_name'].map(number_in_series).replace(np.nan, 1)"
   ]
  },
  {
   "cell_type": "code",
   "execution_count": 36,
   "id": "233c5679-01e1-45ba-955c-943ba9e35b7d",
   "metadata": {},
   "outputs": [
    {
     "data": {
      "text/html": [
       "<div>\n",
       "<style scoped>\n",
       "    .dataframe tbody tr th:only-of-type {\n",
       "        vertical-align: middle;\n",
       "    }\n",
       "\n",
       "    .dataframe tbody tr th {\n",
       "        vertical-align: top;\n",
       "    }\n",
       "\n",
       "    .dataframe thead th {\n",
       "        text-align: right;\n",
       "    }\n",
       "</style>\n",
       "<table border=\"1\" class=\"dataframe\">\n",
       "  <thead>\n",
       "    <tr style=\"text-align: right;\">\n",
       "      <th></th>\n",
       "      <th>game_name</th>\n",
       "      <th>uc_game_link</th>\n",
       "      <th>uc_threads</th>\n",
       "      <th>uc_posts</th>\n",
       "      <th>wiki_content</th>\n",
       "      <th>software</th>\n",
       "      <th>developer</th>\n",
       "      <th>publisher</th>\n",
       "    </tr>\n",
       "  </thead>\n",
       "  <tbody>\n",
       "    <tr>\n",
       "      <th>0</th>\n",
       "      <td>arma series</td>\n",
       "      <td>https://www.unknowncheats.me/forum/arma-series...</td>\n",
       "      <td>995.0</td>\n",
       "      <td>15274.5</td>\n",
       "      <td>arma sometimes stylised as arma is a series of...</td>\n",
       "      <td>battleye</td>\n",
       "      <td>bohemia interactive</td>\n",
       "      <td>bohemia interactive</td>\n",
       "    </tr>\n",
       "    <tr>\n",
       "      <th>1</th>\n",
       "      <td>all points bulletin</td>\n",
       "      <td>https://www.unknowncheats.me/forum/all-points-...</td>\n",
       "      <td>1362.0</td>\n",
       "      <td>27077.0</td>\n",
       "      <td>apb all points bulletin is an open world multi...</td>\n",
       "      <td>battleye</td>\n",
       "      <td>little orbit</td>\n",
       "      <td>little orbit</td>\n",
       "    </tr>\n",
       "  </tbody>\n",
       "</table>\n",
       "</div>"
      ],
      "text/plain": [
       "             game_name                                       uc_game_link  \\\n",
       "0          arma series  https://www.unknowncheats.me/forum/arma-series...   \n",
       "1  all points bulletin  https://www.unknowncheats.me/forum/all-points-...   \n",
       "\n",
       "   uc_threads  uc_posts                                       wiki_content  \\\n",
       "0       995.0   15274.5  arma sometimes stylised as arma is a series of...   \n",
       "1      1362.0   27077.0  apb all points bulletin is an open world multi...   \n",
       "\n",
       "   software            developer            publisher  \n",
       "0  battleye  bohemia interactive  bohemia interactive  \n",
       "1  battleye         little orbit         little orbit  "
      ]
     },
     "execution_count": 36,
     "metadata": {},
     "output_type": "execute_result"
    }
   ],
   "source": [
    "# check to see that the division was applied properly\n",
    "uc_games_df_joined.head(2)"
   ]
  },
  {
   "cell_type": "code",
   "execution_count": 37,
   "id": "56a63324-c9bf-4133-a700-edfd835ff5c4",
   "metadata": {},
   "outputs": [
    {
     "data": {
      "text/html": [
       "<div>\n",
       "<style scoped>\n",
       "    .dataframe tbody tr th:only-of-type {\n",
       "        vertical-align: middle;\n",
       "    }\n",
       "\n",
       "    .dataframe tbody tr th {\n",
       "        vertical-align: top;\n",
       "    }\n",
       "\n",
       "    .dataframe thead th {\n",
       "        text-align: right;\n",
       "    }\n",
       "</style>\n",
       "<table border=\"1\" class=\"dataframe\">\n",
       "  <thead>\n",
       "    <tr style=\"text-align: right;\">\n",
       "      <th></th>\n",
       "      <th>game_name</th>\n",
       "      <th>uc_game_link</th>\n",
       "      <th>uc_threads</th>\n",
       "      <th>uc_posts</th>\n",
       "      <th>wiki_content</th>\n",
       "      <th>software</th>\n",
       "      <th>developer</th>\n",
       "      <th>publisher</th>\n",
       "    </tr>\n",
       "  </thead>\n",
       "  <tbody>\n",
       "    <tr>\n",
       "      <th>8</th>\n",
       "      <td>counter strike</td>\n",
       "      <td>https://www.unknowncheats.me/forum/counter-str...</td>\n",
       "      <td>28290.000000</td>\n",
       "      <td>508197.000000</td>\n",
       "      <td>counterstrike cs is a series of multiplayer ta...</td>\n",
       "      <td>valve anti-cheat</td>\n",
       "      <td>valve</td>\n",
       "      <td>valve</td>\n",
       "    </tr>\n",
       "    <tr>\n",
       "      <th>5</th>\n",
       "      <td>battlefield series</td>\n",
       "      <td>https://www.unknowncheats.me/forum/battlefield...</td>\n",
       "      <td>9085.000000</td>\n",
       "      <td>191476.000000</td>\n",
       "      <td>battlefield is a series of firstperson shooter...</td>\n",
       "      <td>punkbuster</td>\n",
       "      <td>dice</td>\n",
       "      <td>electronic arts</td>\n",
       "    </tr>\n",
       "    <tr>\n",
       "      <th>21</th>\n",
       "      <td>playerunknown's battlegrounds</td>\n",
       "      <td>https://www.unknowncheats.me/forum/playerunkno...</td>\n",
       "      <td>5830.000000</td>\n",
       "      <td>109490.000000</td>\n",
       "      <td>pubg battlegrounds previously known as playeru...</td>\n",
       "      <td>battleye</td>\n",
       "      <td>pubg corporation</td>\n",
       "      <td>pubg corporation</td>\n",
       "    </tr>\n",
       "    <tr>\n",
       "      <th>4</th>\n",
       "      <td>apex legends</td>\n",
       "      <td>https://www.unknowncheats.me/forum/apex-legend...</td>\n",
       "      <td>1744.000000</td>\n",
       "      <td>51976.000000</td>\n",
       "      <td>apex legends is a freetoplay battle royalehero...</td>\n",
       "      <td>easy anti-cheat</td>\n",
       "      <td>respawn entertainment</td>\n",
       "      <td>electronic arts</td>\n",
       "    </tr>\n",
       "    <tr>\n",
       "      <th>25</th>\n",
       "      <td>rust</td>\n",
       "      <td>https://www.unknowncheats.me/forum/rust/?s=e67...</td>\n",
       "      <td>3311.000000</td>\n",
       "      <td>50855.000000</td>\n",
       "      <td>rust is a multiplayeronly survival video game ...</td>\n",
       "      <td>easy anti-cheat</td>\n",
       "      <td>facepunch studios</td>\n",
       "      <td>facepunch studios</td>\n",
       "    </tr>\n",
       "    <tr>\n",
       "      <th>19</th>\n",
       "      <td>payday 2</td>\n",
       "      <td>https://www.unknowncheats.me/forum/payday-2-a/...</td>\n",
       "      <td>3101.000000</td>\n",
       "      <td>48959.000000</td>\n",
       "      <td>payday  is a cooperative firstperson shooter v...</td>\n",
       "      <td>none</td>\n",
       "      <td>overkill software</td>\n",
       "      <td>505 games</td>\n",
       "    </tr>\n",
       "    <tr>\n",
       "      <th>32</th>\n",
       "      <td>valorant</td>\n",
       "      <td>https://www.unknowncheats.me/forum/valorant/?s...</td>\n",
       "      <td>1810.000000</td>\n",
       "      <td>43537.000000</td>\n",
       "      <td>valorant is a freetoplay firstperson tactical ...</td>\n",
       "      <td>vanguard</td>\n",
       "      <td>riot games</td>\n",
       "      <td>riot games</td>\n",
       "    </tr>\n",
       "    <tr>\n",
       "      <th>34</th>\n",
       "      <td>warface</td>\n",
       "      <td>https://www.unknowncheats.me/forum/warface/?s=...</td>\n",
       "      <td>2075.000000</td>\n",
       "      <td>40914.000000</td>\n",
       "      <td>warface is a freetoplay online firstperson sho...</td>\n",
       "      <td>easy anti-cheat</td>\n",
       "      <td>crytek</td>\n",
       "      <td>my.com</td>\n",
       "    </tr>\n",
       "    <tr>\n",
       "      <th>11</th>\n",
       "      <td>escape from tarkov</td>\n",
       "      <td>https://www.unknowncheats.me/forum/escape-from...</td>\n",
       "      <td>1528.000000</td>\n",
       "      <td>33034.000000</td>\n",
       "      <td>escape from tarkov is a multiplayer tactical f...</td>\n",
       "      <td>battleye</td>\n",
       "      <td>battlestate games</td>\n",
       "      <td>battlestate games</td>\n",
       "    </tr>\n",
       "    <tr>\n",
       "      <th>1</th>\n",
       "      <td>all points bulletin</td>\n",
       "      <td>https://www.unknowncheats.me/forum/all-points-...</td>\n",
       "      <td>1362.000000</td>\n",
       "      <td>27077.000000</td>\n",
       "      <td>apb all points bulletin is an open world multi...</td>\n",
       "      <td>battleye</td>\n",
       "      <td>little orbit</td>\n",
       "      <td>little orbit</td>\n",
       "    </tr>\n",
       "    <tr>\n",
       "      <th>30</th>\n",
       "      <td>team fortress 2</td>\n",
       "      <td>https://www.unknowncheats.me/forum/team-fortre...</td>\n",
       "      <td>1275.000000</td>\n",
       "      <td>22081.000000</td>\n",
       "      <td>team fortress  is a  multiplayer firstperson s...</td>\n",
       "      <td>valve anti-cheat</td>\n",
       "      <td>valve</td>\n",
       "      <td>valve</td>\n",
       "    </tr>\n",
       "    <tr>\n",
       "      <th>3</th>\n",
       "      <td>america's army operations</td>\n",
       "      <td>https://www.unknowncheats.me/forum/america-s-a...</td>\n",
       "      <td>1608.500000</td>\n",
       "      <td>21491.500000</td>\n",
       "      <td>americas army was a series of firstperson shoo...</td>\n",
       "      <td>punkbuster</td>\n",
       "      <td>united states army</td>\n",
       "      <td>united states army</td>\n",
       "    </tr>\n",
       "    <tr>\n",
       "      <th>14</th>\n",
       "      <td>h1z1</td>\n",
       "      <td>https://www.unknowncheats.me/forum/h1z1/?s=e67...</td>\n",
       "      <td>672.000000</td>\n",
       "      <td>18312.000000</td>\n",
       "      <td>z battle royale formerly hz and king of the ki...</td>\n",
       "      <td>battleye</td>\n",
       "      <td>daybreak game company</td>\n",
       "      <td>daybreak game company</td>\n",
       "    </tr>\n",
       "    <tr>\n",
       "      <th>24</th>\n",
       "      <td>red dead redemption 2</td>\n",
       "      <td>https://www.unknowncheats.me/forum/red-dead-re...</td>\n",
       "      <td>431.000000</td>\n",
       "      <td>17934.000000</td>\n",
       "      <td>red dead redemption  is a  actionadventure gam...</td>\n",
       "      <td>none</td>\n",
       "      <td>rockstar games</td>\n",
       "      <td>rockstar games</td>\n",
       "    </tr>\n",
       "    <tr>\n",
       "      <th>0</th>\n",
       "      <td>arma series</td>\n",
       "      <td>https://www.unknowncheats.me/forum/arma-series...</td>\n",
       "      <td>995.000000</td>\n",
       "      <td>15274.500000</td>\n",
       "      <td>arma sometimes stylised as arma is a series of...</td>\n",
       "      <td>battleye</td>\n",
       "      <td>bohemia interactive</td>\n",
       "      <td>bohemia interactive</td>\n",
       "    </tr>\n",
       "    <tr>\n",
       "      <th>7</th>\n",
       "      <td>combat arms</td>\n",
       "      <td>https://www.unknowncheats.me/forum/combat-arms...</td>\n",
       "      <td>843.000000</td>\n",
       "      <td>10607.000000</td>\n",
       "      <td>combat arms reloaded combat arms classic is a ...</td>\n",
       "      <td>easy anti-cheat</td>\n",
       "      <td>nexon</td>\n",
       "      <td>nexon</td>\n",
       "    </tr>\n",
       "    <tr>\n",
       "      <th>20</th>\n",
       "      <td>planetside 2</td>\n",
       "      <td>https://www.unknowncheats.me/forum/planetside-...</td>\n",
       "      <td>403.000000</td>\n",
       "      <td>8724.000000</td>\n",
       "      <td>planetside  is a freetoplay massively multipla...</td>\n",
       "      <td>battleye</td>\n",
       "      <td>sony</td>\n",
       "      <td>sony</td>\n",
       "    </tr>\n",
       "    <tr>\n",
       "      <th>18</th>\n",
       "      <td>paladins</td>\n",
       "      <td>https://www.unknowncheats.me/forum/paladins/?s...</td>\n",
       "      <td>209.000000</td>\n",
       "      <td>8547.000000</td>\n",
       "      <td>paladins champions of the realm is a  freetopl...</td>\n",
       "      <td>easy anti-cheat</td>\n",
       "      <td>hi-rez studios</td>\n",
       "      <td>hi-rez studios</td>\n",
       "    </tr>\n",
       "    <tr>\n",
       "      <th>28</th>\n",
       "      <td>star wars battlefront 2</td>\n",
       "      <td>https://www.unknowncheats.me/forum/star-wars-b...</td>\n",
       "      <td>180.000000</td>\n",
       "      <td>6861.000000</td>\n",
       "      <td>star wars battlefront ii is an action shooter ...</td>\n",
       "      <td>none</td>\n",
       "      <td>pandemic studios</td>\n",
       "      <td>electronic arts</td>\n",
       "    </tr>\n",
       "    <tr>\n",
       "      <th>17</th>\n",
       "      <td>overwatch</td>\n",
       "      <td>https://www.unknowncheats.me/forum/overwatch/?...</td>\n",
       "      <td>338.000000</td>\n",
       "      <td>6387.000000</td>\n",
       "      <td>overwatch is a multimedia franchise centered o...</td>\n",
       "      <td>defense matrix</td>\n",
       "      <td>blizzard entertainment</td>\n",
       "      <td>blizzard entertainment</td>\n",
       "    </tr>\n",
       "    <tr>\n",
       "      <th>2</th>\n",
       "      <td>alliance of valiant arms</td>\n",
       "      <td>https://www.unknowncheats.me/forum/alliance-of...</td>\n",
       "      <td>242.000000</td>\n",
       "      <td>6218.000000</td>\n",
       "      <td>alliance of valiant arms abbreviated as ava ko...</td>\n",
       "      <td>xigncode3</td>\n",
       "      <td>red duck</td>\n",
       "      <td>red duck</td>\n",
       "    </tr>\n",
       "    <tr>\n",
       "      <th>31</th>\n",
       "      <td>tom clancy's the division</td>\n",
       "      <td>https://www.unknowncheats.me/forum/tom-clancy-...</td>\n",
       "      <td>159.000000</td>\n",
       "      <td>6038.000000</td>\n",
       "      <td>tom clancys the division is an onlineonly acti...</td>\n",
       "      <td>easy anti-cheat</td>\n",
       "      <td>massive entertainment</td>\n",
       "      <td>ubisoft</td>\n",
       "    </tr>\n",
       "    <tr>\n",
       "      <th>6</th>\n",
       "      <td>call of duty series</td>\n",
       "      <td>https://www.unknowncheats.me/forum/call-of-dut...</td>\n",
       "      <td>368.238095</td>\n",
       "      <td>5021.952381</td>\n",
       "      <td>call of duty is a firstperson shooter video ga...</td>\n",
       "      <td>ricochet</td>\n",
       "      <td>infinity ward</td>\n",
       "      <td>activision</td>\n",
       "    </tr>\n",
       "    <tr>\n",
       "      <th>27</th>\n",
       "      <td>star wars battlefront</td>\n",
       "      <td>https://www.unknowncheats.me/forum/star-wars-b...</td>\n",
       "      <td>122.000000</td>\n",
       "      <td>4682.000000</td>\n",
       "      <td>star wars battlefront is a series of first and...</td>\n",
       "      <td>none</td>\n",
       "      <td>pandemic studios</td>\n",
       "      <td>electronic arts</td>\n",
       "    </tr>\n",
       "    <tr>\n",
       "      <th>23</th>\n",
       "      <td>rainbow six siege</td>\n",
       "      <td>https://www.unknowncheats.me/forum/rainbow-six...</td>\n",
       "      <td>129.866667</td>\n",
       "      <td>3250.666667</td>\n",
       "      <td>tom clancys rainbow six siege is an online tac...</td>\n",
       "      <td>battleye</td>\n",
       "      <td>ubisoft</td>\n",
       "      <td>ubisoft</td>\n",
       "    </tr>\n",
       "    <tr>\n",
       "      <th>9</th>\n",
       "      <td>crossfire</td>\n",
       "      <td>https://www.unknowncheats.me/forum/crossfire/?...</td>\n",
       "      <td>276.000000</td>\n",
       "      <td>2094.000000</td>\n",
       "      <td>crossfire is an online tactical firstperson sh...</td>\n",
       "      <td>xigncode3</td>\n",
       "      <td>wellbia</td>\n",
       "      <td>smilegate</td>\n",
       "    </tr>\n",
       "    <tr>\n",
       "      <th>33</th>\n",
       "      <td>war rock</td>\n",
       "      <td>https://www.unknowncheats.me/forum/war-rock/?s...</td>\n",
       "      <td>320.000000</td>\n",
       "      <td>2042.000000</td>\n",
       "      <td>war rock korean is a multiplayer firstperson s...</td>\n",
       "      <td>easy anti-cheat</td>\n",
       "      <td>dream execution</td>\n",
       "      <td>papaya play</td>\n",
       "    </tr>\n",
       "    <tr>\n",
       "      <th>10</th>\n",
       "      <td>crysis series</td>\n",
       "      <td>https://www.unknowncheats.me/forum/crysis-seri...</td>\n",
       "      <td>173.000000</td>\n",
       "      <td>2020.666667</td>\n",
       "      <td>crysis is a firstperson shooter video game ser...</td>\n",
       "      <td>punkbuster</td>\n",
       "      <td>crytek</td>\n",
       "      <td>electronic arts</td>\n",
       "    </tr>\n",
       "    <tr>\n",
       "      <th>26</th>\n",
       "      <td>splitgate</td>\n",
       "      <td>https://www.unknowncheats.me/forum/splitgate/?...</td>\n",
       "      <td>71.000000</td>\n",
       "      <td>1646.000000</td>\n",
       "      <td>splitgate known during development under the w...</td>\n",
       "      <td>equ8</td>\n",
       "      <td>1047 games</td>\n",
       "      <td>1047 games</td>\n",
       "    </tr>\n",
       "    <tr>\n",
       "      <th>15</th>\n",
       "      <td>halo</td>\n",
       "      <td>https://www.unknowncheats.me/forum/halo/?s=e67...</td>\n",
       "      <td>76.000000</td>\n",
       "      <td>898.666667</td>\n",
       "      <td>halo is a military science fiction media franc...</td>\n",
       "      <td>easy anti-cheat</td>\n",
       "      <td>343 industries</td>\n",
       "      <td>xbox game studios</td>\n",
       "    </tr>\n",
       "    <tr>\n",
       "      <th>16</th>\n",
       "      <td>medal of honor series</td>\n",
       "      <td>https://www.unknowncheats.me/forum/medal-of-ho...</td>\n",
       "      <td>50.214286</td>\n",
       "      <td>408.928571</td>\n",
       "      <td>medal of honor is a series of firstperson shoo...</td>\n",
       "      <td>punkbuster</td>\n",
       "      <td>dice</td>\n",
       "      <td>electronic arts</td>\n",
       "    </tr>\n",
       "    <tr>\n",
       "      <th>22</th>\n",
       "      <td>quake series</td>\n",
       "      <td>https://www.unknowncheats.me/forum/quake-serie...</td>\n",
       "      <td>39.666667</td>\n",
       "      <td>351.222222</td>\n",
       "      <td>quake is a series of firstperson shooter video...</td>\n",
       "      <td>punkbuster</td>\n",
       "      <td>id software</td>\n",
       "      <td>bethesda softworks</td>\n",
       "    </tr>\n",
       "    <tr>\n",
       "      <th>29</th>\n",
       "      <td>titanfall</td>\n",
       "      <td>https://www.unknowncheats.me/forum/titanfall/?...</td>\n",
       "      <td>15.000000</td>\n",
       "      <td>229.000000</td>\n",
       "      <td>titanfall is a series of video games that main...</td>\n",
       "      <td>fairfight</td>\n",
       "      <td>gameblocks</td>\n",
       "      <td>electronic arts</td>\n",
       "    </tr>\n",
       "    <tr>\n",
       "      <th>13</th>\n",
       "      <td>far cry</td>\n",
       "      <td>https://www.unknowncheats.me/forum/far-cry/?s=...</td>\n",
       "      <td>20.333333</td>\n",
       "      <td>206.500000</td>\n",
       "      <td>far cry is an anthology franchise of firstpers...</td>\n",
       "      <td>punkbuster</td>\n",
       "      <td>crytek</td>\n",
       "      <td>ubisoft</td>\n",
       "    </tr>\n",
       "    <tr>\n",
       "      <th>12</th>\n",
       "      <td>fear</td>\n",
       "      <td>https://www.unknowncheats.me/forum/fear/?s=e67...</td>\n",
       "      <td>20.000000</td>\n",
       "      <td>177.666667</td>\n",
       "      <td>fear first encounter assault recon is a firstp...</td>\n",
       "      <td>punkbuster</td>\n",
       "      <td>monolith productions</td>\n",
       "      <td>vivendi games</td>\n",
       "    </tr>\n",
       "  </tbody>\n",
       "</table>\n",
       "</div>"
      ],
      "text/plain": [
       "                        game_name  \\\n",
       "8                  counter strike   \n",
       "5              battlefield series   \n",
       "21  playerunknown's battlegrounds   \n",
       "4                    apex legends   \n",
       "25                           rust   \n",
       "19                       payday 2   \n",
       "32                       valorant   \n",
       "34                        warface   \n",
       "11             escape from tarkov   \n",
       "1             all points bulletin   \n",
       "30                team fortress 2   \n",
       "3       america's army operations   \n",
       "14                           h1z1   \n",
       "24          red dead redemption 2   \n",
       "0                     arma series   \n",
       "7                     combat arms   \n",
       "20                   planetside 2   \n",
       "18                       paladins   \n",
       "28        star wars battlefront 2   \n",
       "17                      overwatch   \n",
       "2        alliance of valiant arms   \n",
       "31      tom clancy's the division   \n",
       "6             call of duty series   \n",
       "27          star wars battlefront   \n",
       "23              rainbow six siege   \n",
       "9                       crossfire   \n",
       "33                       war rock   \n",
       "10                  crysis series   \n",
       "26                      splitgate   \n",
       "15                           halo   \n",
       "16          medal of honor series   \n",
       "22                   quake series   \n",
       "29                      titanfall   \n",
       "13                        far cry   \n",
       "12                           fear   \n",
       "\n",
       "                                         uc_game_link    uc_threads  \\\n",
       "8   https://www.unknowncheats.me/forum/counter-str...  28290.000000   \n",
       "5   https://www.unknowncheats.me/forum/battlefield...   9085.000000   \n",
       "21  https://www.unknowncheats.me/forum/playerunkno...   5830.000000   \n",
       "4   https://www.unknowncheats.me/forum/apex-legend...   1744.000000   \n",
       "25  https://www.unknowncheats.me/forum/rust/?s=e67...   3311.000000   \n",
       "19  https://www.unknowncheats.me/forum/payday-2-a/...   3101.000000   \n",
       "32  https://www.unknowncheats.me/forum/valorant/?s...   1810.000000   \n",
       "34  https://www.unknowncheats.me/forum/warface/?s=...   2075.000000   \n",
       "11  https://www.unknowncheats.me/forum/escape-from...   1528.000000   \n",
       "1   https://www.unknowncheats.me/forum/all-points-...   1362.000000   \n",
       "30  https://www.unknowncheats.me/forum/team-fortre...   1275.000000   \n",
       "3   https://www.unknowncheats.me/forum/america-s-a...   1608.500000   \n",
       "14  https://www.unknowncheats.me/forum/h1z1/?s=e67...    672.000000   \n",
       "24  https://www.unknowncheats.me/forum/red-dead-re...    431.000000   \n",
       "0   https://www.unknowncheats.me/forum/arma-series...    995.000000   \n",
       "7   https://www.unknowncheats.me/forum/combat-arms...    843.000000   \n",
       "20  https://www.unknowncheats.me/forum/planetside-...    403.000000   \n",
       "18  https://www.unknowncheats.me/forum/paladins/?s...    209.000000   \n",
       "28  https://www.unknowncheats.me/forum/star-wars-b...    180.000000   \n",
       "17  https://www.unknowncheats.me/forum/overwatch/?...    338.000000   \n",
       "2   https://www.unknowncheats.me/forum/alliance-of...    242.000000   \n",
       "31  https://www.unknowncheats.me/forum/tom-clancy-...    159.000000   \n",
       "6   https://www.unknowncheats.me/forum/call-of-dut...    368.238095   \n",
       "27  https://www.unknowncheats.me/forum/star-wars-b...    122.000000   \n",
       "23  https://www.unknowncheats.me/forum/rainbow-six...    129.866667   \n",
       "9   https://www.unknowncheats.me/forum/crossfire/?...    276.000000   \n",
       "33  https://www.unknowncheats.me/forum/war-rock/?s...    320.000000   \n",
       "10  https://www.unknowncheats.me/forum/crysis-seri...    173.000000   \n",
       "26  https://www.unknowncheats.me/forum/splitgate/?...     71.000000   \n",
       "15  https://www.unknowncheats.me/forum/halo/?s=e67...     76.000000   \n",
       "16  https://www.unknowncheats.me/forum/medal-of-ho...     50.214286   \n",
       "22  https://www.unknowncheats.me/forum/quake-serie...     39.666667   \n",
       "29  https://www.unknowncheats.me/forum/titanfall/?...     15.000000   \n",
       "13  https://www.unknowncheats.me/forum/far-cry/?s=...     20.333333   \n",
       "12  https://www.unknowncheats.me/forum/fear/?s=e67...     20.000000   \n",
       "\n",
       "         uc_posts                                       wiki_content  \\\n",
       "8   508197.000000  counterstrike cs is a series of multiplayer ta...   \n",
       "5   191476.000000  battlefield is a series of firstperson shooter...   \n",
       "21  109490.000000  pubg battlegrounds previously known as playeru...   \n",
       "4    51976.000000  apex legends is a freetoplay battle royalehero...   \n",
       "25   50855.000000  rust is a multiplayeronly survival video game ...   \n",
       "19   48959.000000  payday  is a cooperative firstperson shooter v...   \n",
       "32   43537.000000  valorant is a freetoplay firstperson tactical ...   \n",
       "34   40914.000000  warface is a freetoplay online firstperson sho...   \n",
       "11   33034.000000  escape from tarkov is a multiplayer tactical f...   \n",
       "1    27077.000000  apb all points bulletin is an open world multi...   \n",
       "30   22081.000000  team fortress  is a  multiplayer firstperson s...   \n",
       "3    21491.500000  americas army was a series of firstperson shoo...   \n",
       "14   18312.000000  z battle royale formerly hz and king of the ki...   \n",
       "24   17934.000000  red dead redemption  is a  actionadventure gam...   \n",
       "0    15274.500000  arma sometimes stylised as arma is a series of...   \n",
       "7    10607.000000  combat arms reloaded combat arms classic is a ...   \n",
       "20    8724.000000  planetside  is a freetoplay massively multipla...   \n",
       "18    8547.000000  paladins champions of the realm is a  freetopl...   \n",
       "28    6861.000000  star wars battlefront ii is an action shooter ...   \n",
       "17    6387.000000  overwatch is a multimedia franchise centered o...   \n",
       "2     6218.000000  alliance of valiant arms abbreviated as ava ko...   \n",
       "31    6038.000000  tom clancys the division is an onlineonly acti...   \n",
       "6     5021.952381  call of duty is a firstperson shooter video ga...   \n",
       "27    4682.000000  star wars battlefront is a series of first and...   \n",
       "23    3250.666667  tom clancys rainbow six siege is an online tac...   \n",
       "9     2094.000000  crossfire is an online tactical firstperson sh...   \n",
       "33    2042.000000  war rock korean is a multiplayer firstperson s...   \n",
       "10    2020.666667  crysis is a firstperson shooter video game ser...   \n",
       "26    1646.000000  splitgate known during development under the w...   \n",
       "15     898.666667  halo is a military science fiction media franc...   \n",
       "16     408.928571  medal of honor is a series of firstperson shoo...   \n",
       "22     351.222222  quake is a series of firstperson shooter video...   \n",
       "29     229.000000  titanfall is a series of video games that main...   \n",
       "13     206.500000  far cry is an anthology franchise of firstpers...   \n",
       "12     177.666667  fear first encounter assault recon is a firstp...   \n",
       "\n",
       "            software               developer               publisher  \n",
       "8   valve anti-cheat                   valve                   valve  \n",
       "5         punkbuster                    dice         electronic arts  \n",
       "21          battleye        pubg corporation        pubg corporation  \n",
       "4    easy anti-cheat   respawn entertainment         electronic arts  \n",
       "25   easy anti-cheat       facepunch studios       facepunch studios  \n",
       "19              none       overkill software               505 games  \n",
       "32          vanguard              riot games              riot games  \n",
       "34   easy anti-cheat                  crytek                  my.com  \n",
       "11          battleye       battlestate games       battlestate games  \n",
       "1           battleye            little orbit            little orbit  \n",
       "30  valve anti-cheat                   valve                   valve  \n",
       "3         punkbuster      united states army      united states army  \n",
       "14          battleye   daybreak game company   daybreak game company  \n",
       "24              none          rockstar games          rockstar games  \n",
       "0           battleye     bohemia interactive     bohemia interactive  \n",
       "7    easy anti-cheat                   nexon                   nexon  \n",
       "20          battleye                    sony                    sony  \n",
       "18   easy anti-cheat          hi-rez studios          hi-rez studios  \n",
       "28              none        pandemic studios         electronic arts  \n",
       "17    defense matrix  blizzard entertainment  blizzard entertainment  \n",
       "2          xigncode3                red duck                red duck  \n",
       "31   easy anti-cheat   massive entertainment                 ubisoft  \n",
       "6           ricochet           infinity ward              activision  \n",
       "27              none        pandemic studios         electronic arts  \n",
       "23          battleye                 ubisoft                 ubisoft  \n",
       "9          xigncode3                 wellbia               smilegate  \n",
       "33   easy anti-cheat         dream execution             papaya play  \n",
       "10        punkbuster                  crytek         electronic arts  \n",
       "26              equ8              1047 games              1047 games  \n",
       "15   easy anti-cheat          343 industries       xbox game studios  \n",
       "16        punkbuster                    dice         electronic arts  \n",
       "22        punkbuster             id software      bethesda softworks  \n",
       "29         fairfight              gameblocks         electronic arts  \n",
       "13        punkbuster                  crytek                 ubisoft  \n",
       "12        punkbuster    monolith productions           vivendi games  "
      ]
     },
     "execution_count": 37,
     "metadata": {},
     "output_type": "execute_result"
    }
   ],
   "source": [
    "uc_games_df_joined.sort_values(by='uc_posts', ascending=False)"
   ]
  },
  {
   "cell_type": "markdown",
   "id": "9c15c5b2-5bd3-48b9-971b-eb1a54e312a1",
   "metadata": {},
   "source": [
    "### Exploratory Data Analysis"
   ]
  },
  {
   "cell_type": "markdown",
   "id": "0255f12a-573d-4652-8e0a-254d73f8f42c",
   "metadata": {},
   "source": [
    "Next we want to explore the data, using visualizations to help"
   ]
  },
  {
   "cell_type": "markdown",
   "id": "3ac67d4e-91d8-49f2-a7e4-5d510f1acbea",
   "metadata": {},
   "source": [
    "#### Wiki content length\n",
    "\n",
    "We create a variable to look at the length of our wikipedia content for each game"
   ]
  },
  {
   "cell_type": "code",
   "execution_count": 38,
   "id": "aee2f470-a5e1-494b-8b11-ca6cc2b10a5e",
   "metadata": {},
   "outputs": [],
   "source": [
    "uc_games_df_joined['wiki_content_length'] = uc_games_df_joined['wiki_content'].apply(lambda x: len(x))"
   ]
  },
  {
   "cell_type": "markdown",
   "id": "ac681819-8ad3-4f36-9246-468d05c0c083",
   "metadata": {},
   "source": [
    "We would expect that wikipedia entries for game series would be longer than those for just one game - however, usually wikipedia has a different page for each game in a game series. We will therefore keep the wiki_content_length as is while keeping this in mind. The length will not be used as any input to modeling, simply for EDA."
   ]
  },
  {
   "cell_type": "code",
   "execution_count": 39,
   "id": "271d3742-73a5-43ec-b2a4-1395cc194064",
   "metadata": {},
   "outputs": [
    {
     "data": {
      "text/html": [
       "<div>\n",
       "<style scoped>\n",
       "    .dataframe tbody tr th:only-of-type {\n",
       "        vertical-align: middle;\n",
       "    }\n",
       "\n",
       "    .dataframe tbody tr th {\n",
       "        vertical-align: top;\n",
       "    }\n",
       "\n",
       "    .dataframe thead th {\n",
       "        text-align: right;\n",
       "    }\n",
       "</style>\n",
       "<table border=\"1\" class=\"dataframe\">\n",
       "  <thead>\n",
       "    <tr style=\"text-align: right;\">\n",
       "      <th></th>\n",
       "      <th>game_name</th>\n",
       "      <th>uc_game_link</th>\n",
       "      <th>uc_threads</th>\n",
       "      <th>uc_posts</th>\n",
       "      <th>wiki_content</th>\n",
       "      <th>software</th>\n",
       "      <th>developer</th>\n",
       "      <th>publisher</th>\n",
       "      <th>wiki_content_length</th>\n",
       "    </tr>\n",
       "  </thead>\n",
       "  <tbody>\n",
       "    <tr>\n",
       "      <th>0</th>\n",
       "      <td>arma series</td>\n",
       "      <td>https://www.unknowncheats.me/forum/arma-series...</td>\n",
       "      <td>995.0</td>\n",
       "      <td>15274.5</td>\n",
       "      <td>arma sometimes stylised as arma is a series of...</td>\n",
       "      <td>battleye</td>\n",
       "      <td>bohemia interactive</td>\n",
       "      <td>bohemia interactive</td>\n",
       "      <td>3061</td>\n",
       "    </tr>\n",
       "    <tr>\n",
       "      <th>1</th>\n",
       "      <td>all points bulletin</td>\n",
       "      <td>https://www.unknowncheats.me/forum/all-points-...</td>\n",
       "      <td>1362.0</td>\n",
       "      <td>27077.0</td>\n",
       "      <td>apb all points bulletin is an open world multi...</td>\n",
       "      <td>battleye</td>\n",
       "      <td>little orbit</td>\n",
       "      <td>little orbit</td>\n",
       "      <td>10855</td>\n",
       "    </tr>\n",
       "  </tbody>\n",
       "</table>\n",
       "</div>"
      ],
      "text/plain": [
       "             game_name                                       uc_game_link  \\\n",
       "0          arma series  https://www.unknowncheats.me/forum/arma-series...   \n",
       "1  all points bulletin  https://www.unknowncheats.me/forum/all-points-...   \n",
       "\n",
       "   uc_threads  uc_posts                                       wiki_content  \\\n",
       "0       995.0   15274.5  arma sometimes stylised as arma is a series of...   \n",
       "1      1362.0   27077.0  apb all points bulletin is an open world multi...   \n",
       "\n",
       "   software            developer            publisher  wiki_content_length  \n",
       "0  battleye  bohemia interactive  bohemia interactive                 3061  \n",
       "1  battleye         little orbit         little orbit                10855  "
      ]
     },
     "execution_count": 39,
     "metadata": {},
     "output_type": "execute_result"
    }
   ],
   "source": [
    "# look at wiki_content_length\n",
    "uc_games_df_joined.head(2)"
   ]
  },
  {
   "cell_type": "markdown",
   "id": "361bc6b7-17cb-4c0b-af59-9efc3c3437bc",
   "metadata": {},
   "source": [
    "#### Determining our $y$ variable\n",
    "\n",
    "We have two options for our $y$ target, which are uc_posts (number of posts from unknowncheats) or uc_threads (number of threads from unknowncheats). First we plot them against eachother and find the correlation to see their relationship."
   ]
  },
  {
   "cell_type": "code",
   "execution_count": 40,
   "id": "8d7bfe6d-f33d-44c9-b0bf-fa44cc3ce2f8",
   "metadata": {},
   "outputs": [
    {
     "data": {
      "image/png": "[encoded data removed]",
      "text/plain": [
       "<Figure size 640x480 with 1 Axes>"
      ]
     },
     "metadata": {},
     "output_type": "display_data"
    }
   ],
   "source": [
    "# create scatterplot of uc_posts versus uc_threads\n",
    "sns.scatterplot(data=uc_games_df_joined, x=\"uc_posts\", y=\"uc_threads\")\n",
    "# add title\n",
    "plt.title('uc_posts vs. uc_threads')\n",
    "# add axes labels\n",
    "plt.xlabel('uc_posts')\n",
    "plt.ylabel('uc_threads');"
   ]
  },
  {
   "cell_type": "code",
   "execution_count": 41,
   "id": "09ba6df0-1e1a-42cd-bc4f-bcf06fb35151",
   "metadata": {},
   "outputs": [
    {
     "name": "stdout",
     "output_type": "stream",
     "text": [
      "the correlation between uc_posts and uc_threads is 1.0\n"
     ]
    }
   ],
   "source": [
    "print(f\"the correlation between uc_posts and uc_threads is \\\n",
    "{uc_games_df_joined['uc_posts'].corr(uc_games_df_joined['uc_threads']).round(2)}\")"
   ]
  },
  {
   "cell_type": "markdown",
   "id": "c07d0e06-e119-46b1-a5ca-af5c77e77bd8",
   "metadata": {},
   "source": [
    "We see that the correlation is ~1, so we select the post count as our target as is has a larger range"
   ]
  },
  {
   "cell_type": "markdown",
   "id": "17db9acd-2aba-439b-9602-949ff3b109c0",
   "metadata": {},
   "source": [
    "#### Removing Outliers"
   ]
  },
  {
   "cell_type": "markdown",
   "id": "2bac1d4c-f8e5-4ed2-b529-a429c7164bfb",
   "metadata": {},
   "source": [
    "We next look at outliers in the data by looking at the interquartile ranges\n",
    "\n",
    "source: https://www.geeksforgeeks.org/detect-and-remove-the-outliers-using-python/"
   ]
  },
  {
   "cell_type": "code",
   "execution_count": 42,
   "id": "42f3889b-f741-4e2f-9ec3-9279cc07e33f",
   "metadata": {},
   "outputs": [],
   "source": [
    "# define a function to find outliers\n",
    "def iqr_method(df: pd.DataFrame, col: str):\n",
    "    \"\"\"\n",
    "    finds outliers of df[col]\n",
    "    \"\"\"\n",
    "    # define first quartile\n",
    "    q1=df[col].quantile(0.25)\n",
    "    # define third quartile\n",
    "    q3=df[col].quantile(0.75)\n",
    "    # define iqr as difference between first and third quartiles\n",
    "    iqr = q3 - q1\n",
    "    # identify outliers which fall 1.5 * iqr below q1 or 1.5 * iqr above q3\n",
    "    return df.loc[(df[col]<(q1-1.5*iqr))|(df[col]>(q3+1.5*iqr))]"
   ]
  },
  {
   "cell_type": "code",
   "execution_count": 43,
   "id": "63932fcb-8918-4cfa-8f39-69a5373da30a",
   "metadata": {},
   "outputs": [
    {
     "data": {
      "text/html": [
       "<div>\n",
       "<style scoped>\n",
       "    .dataframe tbody tr th:only-of-type {\n",
       "        vertical-align: middle;\n",
       "    }\n",
       "\n",
       "    .dataframe tbody tr th {\n",
       "        vertical-align: top;\n",
       "    }\n",
       "\n",
       "    .dataframe thead th {\n",
       "        text-align: right;\n",
       "    }\n",
       "</style>\n",
       "<table border=\"1\" class=\"dataframe\">\n",
       "  <thead>\n",
       "    <tr style=\"text-align: right;\">\n",
       "      <th></th>\n",
       "      <th>game_name</th>\n",
       "      <th>uc_game_link</th>\n",
       "      <th>uc_threads</th>\n",
       "      <th>uc_posts</th>\n",
       "      <th>wiki_content</th>\n",
       "      <th>software</th>\n",
       "      <th>developer</th>\n",
       "      <th>publisher</th>\n",
       "      <th>wiki_content_length</th>\n",
       "    </tr>\n",
       "  </thead>\n",
       "  <tbody>\n",
       "    <tr>\n",
       "      <th>5</th>\n",
       "      <td>battlefield series</td>\n",
       "      <td>https://www.unknowncheats.me/forum/battlefield...</td>\n",
       "      <td>9085.0</td>\n",
       "      <td>191476.0</td>\n",
       "      <td>battlefield is a series of firstperson shooter...</td>\n",
       "      <td>punkbuster</td>\n",
       "      <td>dice</td>\n",
       "      <td>electronic arts</td>\n",
       "      <td>9079</td>\n",
       "    </tr>\n",
       "    <tr>\n",
       "      <th>8</th>\n",
       "      <td>counter strike</td>\n",
       "      <td>https://www.unknowncheats.me/forum/counter-str...</td>\n",
       "      <td>28290.0</td>\n",
       "      <td>508197.0</td>\n",
       "      <td>counterstrike cs is a series of multiplayer ta...</td>\n",
       "      <td>valve anti-cheat</td>\n",
       "      <td>valve</td>\n",
       "      <td>valve</td>\n",
       "      <td>5979</td>\n",
       "    </tr>\n",
       "    <tr>\n",
       "      <th>21</th>\n",
       "      <td>playerunknown's battlegrounds</td>\n",
       "      <td>https://www.unknowncheats.me/forum/playerunkno...</td>\n",
       "      <td>5830.0</td>\n",
       "      <td>109490.0</td>\n",
       "      <td>pubg battlegrounds previously known as playeru...</td>\n",
       "      <td>battleye</td>\n",
       "      <td>pubg corporation</td>\n",
       "      <td>pubg corporation</td>\n",
       "      <td>51900</td>\n",
       "    </tr>\n",
       "  </tbody>\n",
       "</table>\n",
       "</div>"
      ],
      "text/plain": [
       "                        game_name  \\\n",
       "5              battlefield series   \n",
       "8                  counter strike   \n",
       "21  playerunknown's battlegrounds   \n",
       "\n",
       "                                         uc_game_link  uc_threads  uc_posts  \\\n",
       "5   https://www.unknowncheats.me/forum/battlefield...      9085.0  191476.0   \n",
       "8   https://www.unknowncheats.me/forum/counter-str...     28290.0  508197.0   \n",
       "21  https://www.unknowncheats.me/forum/playerunkno...      5830.0  109490.0   \n",
       "\n",
       "                                         wiki_content          software  \\\n",
       "5   battlefield is a series of firstperson shooter...        punkbuster   \n",
       "8   counterstrike cs is a series of multiplayer ta...  valve anti-cheat   \n",
       "21  pubg battlegrounds previously known as playeru...          battleye   \n",
       "\n",
       "           developer         publisher  wiki_content_length  \n",
       "5               dice   electronic arts                 9079  \n",
       "8              valve             valve                 5979  \n",
       "21  pubg corporation  pubg corporation                51900  "
      ]
     },
     "execution_count": 43,
     "metadata": {},
     "output_type": "execute_result"
    }
   ],
   "source": [
    "# look at outliers for uc_posts\n",
    "iqr_method(df=uc_games_df_joined, col='uc_posts')"
   ]
  },
  {
   "cell_type": "markdown",
   "id": "5f2f00fc-bc25-45d1-b2cd-4803246771e7",
   "metadata": {},
   "source": [
    "There are 3 outliers for uc_posts which have the uc_posts as above 100,000. We can see these games in our previous graph of uc_posts vs. uc_threads.\n",
    "Usually we would remove these outliers, however we keep them for the following reasons:\n",
    "\n",
    "1. Our dataset is incredibly small. If there were more samples, these may not be true outliers\n",
    "2. We are very interested in these games. All three game series are notorious for the high amount of cheaters - they are actually the most interesting and relevent focal points of this project"
   ]
  },
  {
   "cell_type": "markdown",
   "id": "6c45f3c2-5e8c-498a-9837-49abbdefe705",
   "metadata": {},
   "source": [
    "We see below that there are no outliers for wiki_content length:"
   ]
  },
  {
   "cell_type": "code",
   "execution_count": 44,
   "id": "53e7d912-f616-488f-8543-1c9f8434e9c9",
   "metadata": {},
   "outputs": [
    {
     "data": {
      "text/html": [
       "<div>\n",
       "<style scoped>\n",
       "    .dataframe tbody tr th:only-of-type {\n",
       "        vertical-align: middle;\n",
       "    }\n",
       "\n",
       "    .dataframe tbody tr th {\n",
       "        vertical-align: top;\n",
       "    }\n",
       "\n",
       "    .dataframe thead th {\n",
       "        text-align: right;\n",
       "    }\n",
       "</style>\n",
       "<table border=\"1\" class=\"dataframe\">\n",
       "  <thead>\n",
       "    <tr style=\"text-align: right;\">\n",
       "      <th></th>\n",
       "      <th>game_name</th>\n",
       "      <th>uc_game_link</th>\n",
       "      <th>uc_threads</th>\n",
       "      <th>uc_posts</th>\n",
       "      <th>wiki_content</th>\n",
       "      <th>software</th>\n",
       "      <th>developer</th>\n",
       "      <th>publisher</th>\n",
       "      <th>wiki_content_length</th>\n",
       "    </tr>\n",
       "  </thead>\n",
       "  <tbody>\n",
       "  </tbody>\n",
       "</table>\n",
       "</div>"
      ],
      "text/plain": [
       "Empty DataFrame\n",
       "Columns: [game_name, uc_game_link, uc_threads, uc_posts, wiki_content, software, developer, publisher, wiki_content_length]\n",
       "Index: []"
      ]
     },
     "execution_count": 44,
     "metadata": {},
     "output_type": "execute_result"
    }
   ],
   "source": [
    "# look at outliers for wiki_content length\n",
    "iqr_method(df=uc_games_df_joined, col='wiki_content_length')"
   ]
  },
  {
   "cell_type": "markdown",
   "id": "a2a617b5-4739-4e07-90a2-315b2034cf3a",
   "metadata": {},
   "source": [
    "#### Wiki content length versus uc_posts"
   ]
  },
  {
   "cell_type": "markdown",
   "id": "ed80de22-83bd-450d-8ace-f3b6ebe09238",
   "metadata": {},
   "source": [
    "We look at wiki content length vs. uc_posts to see if there is a relationship:"
   ]
  },
  {
   "cell_type": "code",
   "execution_count": 45,
   "id": "f465a6e1-93f6-4e5e-8199-87175dad7dc1",
   "metadata": {},
   "outputs": [
    {
     "data": {
      "image/png": "[encoded data removed]",
      "text/plain": [
       "<Figure size 640x480 with 1 Axes>"
      ]
     },
     "metadata": {},
     "output_type": "display_data"
    }
   ],
   "source": [
    "# create scatterplot of uc_posts versus uc_threads\n",
    "sns.scatterplot(data=uc_games_df_joined, x=\"wiki_content_length\", y=\"uc_posts\")\n",
    "# add title\n",
    "plt.title('wiki_content_length vs. uc_posts')\n",
    "# add axes labels\n",
    "plt.xlabel('wiki_content_length')\n",
    "plt.ylabel('uc_posts');"
   ]
  },
  {
   "cell_type": "markdown",
   "id": "52b8d438-a590-4182-bf0b-3d419550ba4c",
   "metadata": {},
   "source": [
    "From the graph we can see that there is not a clear relationship between the two."
   ]
  },
  {
   "cell_type": "markdown",
   "id": "03255083-0d4d-483e-ac34-d2e988bee3ac",
   "metadata": {},
   "source": [
    "### Addressing the Data Size"
   ]
  },
  {
   "cell_type": "markdown",
   "id": "cf353c1e-f480-4e39-bf3c-58e3b1a1b8e1",
   "metadata": {},
   "source": [
    "By now it is clear that we have an extremely small dataset:"
   ]
  },
  {
   "cell_type": "code",
   "execution_count": 46,
   "id": "7c1a175f-6223-4e75-a484-499cfca1f3ff",
   "metadata": {},
   "outputs": [
    {
     "name": "stdout",
     "output_type": "stream",
     "text": [
      "number of rows in data: 35\n"
     ]
    }
   ],
   "source": [
    "print(f'number of rows in data: {len(uc_games_df_joined)}')"
   ]
  },
  {
   "cell_type": "markdown",
   "id": "839fba90-7a90-4e24-afa0-112dd9aa00d8",
   "metadata": {},
   "source": [
    "It is not wise to create a model out of small datasets for many reasons. However, it is what we have just based on the fact that there are not thousands or millions of FPS games. We have the data we have.\n",
    "\n",
    "How can we still gain valuable information from the data? How can we use this data quantitatively given its small size? I would like to focus on these questions in this project and use approaches to dealing with small data on our dataset.\n",
    "\n",
    "There are several methods of dealing with small data, which are:\n",
    "1. pre-processing\n",
    "2. special purpose algorithm\n",
    "3. post-processing\n",
    "4. hybrid of the above\n",
    "\n",
    "In particular, we will be focusing on methods of pre-processing to both gain insights from our very small data using modeling. We will then discuss warnings and model limitations to see if the results have meaning.\n",
    "\n",
    "sources:\n",
    "\n",
    "https://towardsdatascience.com/7-tips-for-dealing-with-small-data-7ffbd3d399a3\n",
    "\n",
    "http://proceedings.mlr.press/v74/branco17a/branco17a.pdf\n",
    "\n",
    "https://arxiv.org/pdf/1106.1813.pdf\n",
    "\n",
    "https://researchcommons.waikato.ac.nz/bitstream/handle/10289/8518/smoteR.pdf;jsessionid=5C9737B851889537ED8F205E019C4053?sequence=23"
   ]
  },
  {
   "cell_type": "markdown",
   "id": "533aeb19-6636-4b23-8a1d-dee239fa959e",
   "metadata": {},
   "source": [
    "### EDA Continued"
   ]
  },
  {
   "cell_type": "markdown",
   "id": "64d0be9f-7d4a-4821-9501-024c1482a53f",
   "metadata": {},
   "source": [
    "We will now look at the anti-cheat software:"
   ]
  },
  {
   "cell_type": "code",
   "execution_count": 47,
   "id": "c5207696-4b01-4fbc-8cb2-7dbee23b13cf",
   "metadata": {},
   "outputs": [
    {
     "data": {
      "text/html": [
       "<div>\n",
       "<style scoped>\n",
       "    .dataframe tbody tr th:only-of-type {\n",
       "        vertical-align: middle;\n",
       "    }\n",
       "\n",
       "    .dataframe tbody tr th {\n",
       "        vertical-align: top;\n",
       "    }\n",
       "\n",
       "    .dataframe thead th {\n",
       "        text-align: right;\n",
       "    }\n",
       "</style>\n",
       "<table border=\"1\" class=\"dataframe\">\n",
       "  <thead>\n",
       "    <tr style=\"text-align: right;\">\n",
       "      <th></th>\n",
       "      <th>game_name</th>\n",
       "    </tr>\n",
       "    <tr>\n",
       "      <th>software</th>\n",
       "      <th></th>\n",
       "    </tr>\n",
       "  </thead>\n",
       "  <tbody>\n",
       "    <tr>\n",
       "      <th>battleye</th>\n",
       "      <td>7</td>\n",
       "    </tr>\n",
       "    <tr>\n",
       "      <th>defense matrix</th>\n",
       "      <td>1</td>\n",
       "    </tr>\n",
       "    <tr>\n",
       "      <th>easy anti-cheat</th>\n",
       "      <td>8</td>\n",
       "    </tr>\n",
       "    <tr>\n",
       "      <th>equ8</th>\n",
       "      <td>1</td>\n",
       "    </tr>\n",
       "    <tr>\n",
       "      <th>fairfight</th>\n",
       "      <td>1</td>\n",
       "    </tr>\n",
       "    <tr>\n",
       "      <th>none</th>\n",
       "      <td>4</td>\n",
       "    </tr>\n",
       "    <tr>\n",
       "      <th>punkbuster</th>\n",
       "      <td>7</td>\n",
       "    </tr>\n",
       "    <tr>\n",
       "      <th>ricochet</th>\n",
       "      <td>1</td>\n",
       "    </tr>\n",
       "    <tr>\n",
       "      <th>valve anti-cheat</th>\n",
       "      <td>2</td>\n",
       "    </tr>\n",
       "    <tr>\n",
       "      <th>vanguard</th>\n",
       "      <td>1</td>\n",
       "    </tr>\n",
       "    <tr>\n",
       "      <th>xigncode3</th>\n",
       "      <td>2</td>\n",
       "    </tr>\n",
       "  </tbody>\n",
       "</table>\n",
       "</div>"
      ],
      "text/plain": [
       "                  game_name\n",
       "software                   \n",
       "battleye                  7\n",
       "defense matrix            1\n",
       "easy anti-cheat           8\n",
       "equ8                      1\n",
       "fairfight                 1\n",
       "none                      4\n",
       "punkbuster                7\n",
       "ricochet                  1\n",
       "valve anti-cheat          2\n",
       "vanguard                  1\n",
       "xigncode3                 2"
      ]
     },
     "execution_count": 47,
     "metadata": {},
     "output_type": "execute_result"
    }
   ],
   "source": [
    "# examining the counts of anti-cheat software:\n",
    "uc_games_df_joined.groupby('software')['game_name'].nunique().to_frame()"
   ]
  },
  {
   "cell_type": "markdown",
   "id": "35823490-d5ce-4a34-b156-9154051dfc8d",
   "metadata": {},
   "source": [
    "We can see there are several popular anti-cheat softwares which are used across many games."
   ]
  },
  {
   "cell_type": "markdown",
   "id": "de097b08-17f9-41bf-b6c0-3569e6dd70aa",
   "metadata": {},
   "source": [
    "Next we can examine the average post count ($y$) by software:"
   ]
  },
  {
   "cell_type": "code",
   "execution_count": 53,
   "id": "d51ffc50-acb2-4324-8891-f91ad99b2e7b",
   "metadata": {},
   "outputs": [
    {
     "data": {
      "image/png": "[encoded data removed]",
      "text/plain": [
       "<Figure size 800x600 with 1 Axes>"
      ]
     },
     "metadata": {},
     "output_type": "display_data"
    }
   ],
   "source": [
    "# Set the figure size\n",
    "plt.figure(figsize=(8, 6))\n",
    "\n",
    "# grouped barplot\n",
    "ax = sns.barplot(\n",
    "    y=\"software\", \n",
    "    x=\"uc_posts\", \n",
    "    hue=\"software\", \n",
    "    data=uc_games_df_joined, \n",
    "    ci=None)\n",
    "\n",
    "# Customize the axes and title\n",
    "ax.set_title(\"Average post count by software\")\n",
    "ax.set_ylabel(\"software\")\n",
    "ax.set_xlabel(\"average post count\");\n",
    "\n",
    "# source: https://www.geeksforgeeks.org/grouped-barplots-in-python-with-seaborn/"
   ]
  },
  {
   "cell_type": "markdown",
   "id": "f7ecfe9f-ea3e-4c9a-b11a-9bf0622ca381",
   "metadata": {},
   "source": [
    "It is hard to make conclusions on this based on the small data size, but we see that valve anti-cheat (n=2) has a much higher average post count than other anti-cheat software. The games which use this software are counter strike and team fortress 2 (the average is high due to counter strike alone)."
   ]
  },
  {
   "cell_type": "code",
   "execution_count": 49,
   "id": "40bec225-810b-4d58-a34c-831f61c6551b",
   "metadata": {},
   "outputs": [
    {
     "data": {
      "text/html": [
       "<div>\n",
       "<style scoped>\n",
       "    .dataframe tbody tr th:only-of-type {\n",
       "        vertical-align: middle;\n",
       "    }\n",
       "\n",
       "    .dataframe tbody tr th {\n",
       "        vertical-align: top;\n",
       "    }\n",
       "\n",
       "    .dataframe thead th {\n",
       "        text-align: right;\n",
       "    }\n",
       "</style>\n",
       "<table border=\"1\" class=\"dataframe\">\n",
       "  <thead>\n",
       "    <tr style=\"text-align: right;\">\n",
       "      <th></th>\n",
       "      <th>game_name</th>\n",
       "      <th>uc_posts</th>\n",
       "    </tr>\n",
       "  </thead>\n",
       "  <tbody>\n",
       "    <tr>\n",
       "      <th>8</th>\n",
       "      <td>counter strike</td>\n",
       "      <td>508197.0</td>\n",
       "    </tr>\n",
       "    <tr>\n",
       "      <th>30</th>\n",
       "      <td>team fortress 2</td>\n",
       "      <td>22081.0</td>\n",
       "    </tr>\n",
       "  </tbody>\n",
       "</table>\n",
       "</div>"
      ],
      "text/plain": [
       "          game_name  uc_posts\n",
       "8    counter strike  508197.0\n",
       "30  team fortress 2   22081.0"
      ]
     },
     "execution_count": 49,
     "metadata": {},
     "output_type": "execute_result"
    }
   ],
   "source": [
    "uc_games_df_joined.loc[uc_games_df_joined['software']=='valve anti-cheat'][['game_name', 'uc_posts']]"
   ]
  },
  {
   "cell_type": "markdown",
   "id": "c7624232-220a-4d03-819f-4a125e6933a3",
   "metadata": {},
   "source": [
    "#### Distribution of $y$\n",
    "\n",
    "Finally we plot the distribution of uc_posts:"
   ]
  },
  {
   "cell_type": "code",
   "execution_count": 50,
   "id": "6aa01a17-335f-44d6-9edb-5fe817dc2b81",
   "metadata": {},
   "outputs": [
    {
     "data": {
      "image/png": "[encoded data removed]",
      "text/plain": [
       "<Figure size 800x800 with 1 Axes>"
      ]
     },
     "metadata": {},
     "output_type": "display_data"
    }
   ],
   "source": [
    "rel = sns.displot(uc_games_df_joined, x=\"uc_posts\", bins=35, height=8)\n",
    "rel.set(title='Histogram of uc_posts')\n",
    "\n",
    "plt.show();"
   ]
  },
  {
   "cell_type": "markdown",
   "id": "12e143da-7439-4918-963a-aece1186bb7b",
   "metadata": {},
   "source": [
    "Again we can see the outliers with high uc_posts in our data."
   ]
  },
  {
   "cell_type": "markdown",
   "id": "c543f02d-1524-45c6-8b6d-1cc38ce26bd0",
   "metadata": {},
   "source": [
    "#### Distribution of wiki_content_length\n",
    "\n",
    "We look at the distribution of wiki_content_length below:"
   ]
  },
  {
   "cell_type": "code",
   "execution_count": 51,
   "id": "643ea3fd-1e69-4ca3-afe1-900b84a103dd",
   "metadata": {},
   "outputs": [
    {
     "data": {
      "image/png": "[encoded data removed]",
      "text/plain": [
       "<Figure size 500x500 with 1 Axes>"
      ]
     },
     "metadata": {},
     "output_type": "display_data"
    }
   ],
   "source": [
    "rel = sns.displot(uc_games_df_joined, x=\"wiki_content_length\", bins=35)\n",
    "rel.set(title='Histogram of wiki_content_length');"
   ]
  },
  {
   "cell_type": "markdown",
   "id": "8340246f-2538-462b-9db8-fa66a4119d97",
   "metadata": {},
   "source": [
    "### Data Export"
   ]
  },
  {
   "cell_type": "markdown",
   "id": "97b8d039-972b-4c37-831f-bf4104cdcd07",
   "metadata": {},
   "source": [
    "We export our cleaned data for modeling:"
   ]
  },
  {
   "cell_type": "code",
   "execution_count": 52,
   "id": "f21e5fbe-7e38-48ff-98d2-0bc33dab1fa0",
   "metadata": {},
   "outputs": [],
   "source": [
    "# save uc_games_df_joined to pickle\n",
    "uc_games_df_joined.to_pickle('../data/uc_games_df_clean')"
   ]
  }
 ],
 "metadata": {
  "kernelspec": {
   "display_name": "Python 3 (ipykernel)",
   "language": "python",
   "name": "python3"
  },
  "language_info": {
   "codemirror_mode": {
    "name": "ipython",
    "version": 3
   },
   "file_extension": ".py",
   "mimetype": "text/x-python",
   "name": "python",
   "nbconvert_exporter": "python",
   "pygments_lexer": "ipython3",
   "version": "3.9.13"
  }
 },
 "nbformat": 4,
 "nbformat_minor": 5
}
