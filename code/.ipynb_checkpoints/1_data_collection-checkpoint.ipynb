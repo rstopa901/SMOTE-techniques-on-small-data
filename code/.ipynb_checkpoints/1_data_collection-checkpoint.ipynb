{
 "cells": [
  {
   "cell_type": "code",
   "execution_count": 1,
   "id": "cb5289c3-466d-4454-9ec0-85e3e9adf27e",
   "metadata": {},
   "outputs": [],
   "source": [
    "import numpy as np\n",
    "import pandas as pd\n",
    "import requests\n",
    "from bs4 import BeautifulSoup\n",
    "import wikipedia\n",
    "import pickle"
   ]
  },
  {
   "cell_type": "markdown",
   "id": "14da79c6-17c6-4c7f-a74c-1afdcfd0acc5",
   "metadata": {},
   "source": [
    "### Objective\n",
    "\n",
    "The objective is to gather data from three different sources:\n",
    "* **unknowncheats**: get post and thread count by FPS game for FPS gaming series\n",
    "* **wikipedia**: get wikipedia entry for each gaming series (text data)\n",
    "* **levvvel.com**: get anti-cheat software, publisher, and developer for each gaming series\n",
    "\n",
    "The data is then joined together by game title and exported as an output"
   ]
  },
  {
   "cell_type": "markdown",
   "id": "918d5c24-2112-44c9-b87b-0ef248fe0e74",
   "metadata": {},
   "source": [
    "### Unknowncheats.me"
   ]
  },
  {
   "cell_type": "markdown",
   "id": "5a22d9b0-bf64-4b97-8629-29d82c7b3171",
   "metadata": {},
   "source": [
    "First we scrape the website *unknowncheats.me*. This website boasts, \"UnKnoWnCheaTs is the oldest game cheating forum in existence, leading the game cheating community for over 20 years. We encourage an open, free and collaborative environment and offer a vast and resourceful file database, a wiki that's packed with structured information and tutorials, access to the most intelligent programmers, and a team that protects members from malware while enforcing a diverse community.\" \n",
    "\n",
    "The website contains a table called \"First-Person Shooters\" which has FPS games and the number of post and thread counts for each game. This table will be used as a proxy for the incidence of cheating in video games. That is, we make the assumption that the higher the thread count, the higher the prevalence of cheating for a particular game is. \n",
    "\n",
    "Note that not every post or thread is directly related to cheating. However, since it is a website called \"unknown cheats\" whose purpose is to share cheating software, we take this as a measure of cheating. More work may be done to sort through posts/threads to classify them as cheating vs. non-cheating using keywords."
   ]
  },
  {
   "cell_type": "code",
   "execution_count": 2,
   "id": "3df386f5-f4d1-4fb6-bf8e-ad759019e781",
   "metadata": {},
   "outputs": [
    {
     "name": "stdout",
     "output_type": "stream",
     "text": [
      "status code is 200, website is accessible\n"
     ]
    }
   ],
   "source": [
    "# url for unknowncheats.me forum page which contains First Person Shooters table\n",
    "uc_url = 'https://www.unknowncheats.me/forum/index.php'\n",
    "\n",
    "def uc_get_all_games_posts_threads() -> pd.DataFrame:\n",
    "    \"\"\"\n",
    "    Creates a dataframe from the \"First Person Shooters\" table of the unknowncheats page\n",
    "    Resulting dataframe contains game name, unknowncheats game link fo that particular game,\n",
    "    the number of threads for the game, and the number of posts for the game\n",
    "    \"\"\"\n",
    "    # use requests to access unknowncheats website\n",
    "    res = requests.get(uc_url)\n",
    "    # make sure status code is 200, otherwise raise error\n",
    "    if res.status_code == 200:\n",
    "        print('status code is 200, website is accessible')\n",
    "    else:\n",
    "        raise Exception('status code is not 200, error accessing website')\n",
    "    \n",
    "    # create soup instance\n",
    "    soup = BeautifulSoup(res.content)\n",
    "    # access tbody for First-Person Shooter table\n",
    "    uc_fps_games = soup.find('tbody', attrs={'id': 'collapseobj_forumbit_156'})\n",
    "    # find all tr in table \n",
    "    uc_fps_games_rows = uc_fps_games.find_all('tr')\n",
    "    \n",
    "    # create empty list to store table contents\n",
    "    uc_fps_games_rows_data = []\n",
    "    # iterate through the trs (each game)\n",
    "    for row in uc_fps_games_rows[1:]:\n",
    "        # create empty dictionary for each entry\n",
    "        row_dict = {}\n",
    "        # get game name\n",
    "        row_dict['game_name'] = row.find('a').text #row.find('a').text.strip()\n",
    "        a_element = row.find('a')\n",
    "        # get unknowncheats url for each game\n",
    "        row_dict['uc_game_link'] = row.find('a').get('href')\n",
    "        # get threat count for game\n",
    "        row_dict['uc_threads'] = row.find('td', attrs={'class': 'alt1'}).text.strip()\n",
    "        # get post count for game\n",
    "        row_dict['uc_posts'] = row.find_all('td', attrs={'class': 'alt2'})[-1].text.strip()\n",
    "        # append entry for game to the empty list\n",
    "        uc_fps_games_rows_data.append(row_dict)\n",
    "    # return the table as a dataframe\n",
    "    return pd.DataFrame(uc_fps_games_rows_data)\n",
    "\n",
    "\n",
    "uc_games_df = uc_get_all_games_posts_threads()"
   ]
  },
  {
   "cell_type": "markdown",
   "id": "b78ab713-db7b-459e-a01d-de2e13a885fb",
   "metadata": {},
   "source": [
    "There is an entry for \"Other FPS games\" which we will not consider as part of this project. This row will be dropped."
   ]
  },
  {
   "cell_type": "code",
   "execution_count": 3,
   "id": "706fe0c1-812b-4007-be22-14a345a2537b",
   "metadata": {},
   "outputs": [],
   "source": [
    "# drop entry for \"Other FPS games\"\n",
    "uc_games_df = uc_games_df.drop(uc_games_df[uc_games_df['game_name']=='Other FPS Games'].index)"
   ]
  },
  {
   "cell_type": "markdown",
   "id": "6b1bc9ad-4628-4d79-afc6-a74db3aed32c",
   "metadata": {},
   "source": [
    "### Wikipedia"
   ]
  },
  {
   "cell_type": "markdown",
   "id": "a32bdebf-0d44-4ecb-b05c-087c45c746aa",
   "metadata": {},
   "source": [
    "We then want to gather the wikipedia articles. Since we have our $y$ as the number of threads for each game, we need to gather the entries for each game we scraped from unknowncheats (each game is uc_games_df). \n",
    "\n",
    "This is to add text data, such as game genre or number of players, and use it as an explanatory variable to predict the incidence of cheating.\n",
    "\n",
    "For the scraping, we use the module *wikipedia*."
   ]
  },
  {
   "cell_type": "code",
   "execution_count": 4,
   "id": "d409f7a9-7536-4451-8bf2-16232d78a04f",
   "metadata": {},
   "outputs": [],
   "source": [
    "# save list of wikipedia articles for source citation:\n",
    "wikipedia_sources = []"
   ]
  },
  {
   "cell_type": "code",
   "execution_count": 5,
   "id": "1324e37c-87a9-4fbe-971f-ba26e838b3f6",
   "metadata": {},
   "outputs": [
    {
     "name": "stderr",
     "output_type": "stream",
     "text": [
      "C:\\Users\\rstop\\anaconda3\\lib\\site-packages\\wikipedia\\wikipedia.py:389: GuessedAtParserWarning: No parser was explicitly specified, so I'm using the best available HTML parser for this system (\"lxml\"). This usually isn't a problem, but if you run this code on another system, or in a different virtual environment, it may use a different parser and behave differently.\n",
      "\n",
      "The code that caused this warning is on line 389 of the file C:\\Users\\rstop\\anaconda3\\lib\\site-packages\\wikipedia\\wikipedia.py. To get rid of this warning, pass the additional argument 'features=\"lxml\"' to the BeautifulSoup constructor.\n",
      "\n",
      "  lis = BeautifulSoup(html).find_all('li')\n"
     ]
    }
   ],
   "source": [
    "# loop through all the game names pulled from unknowncheats\n",
    "for game in uc_games_df['game_name']:\n",
    "    try:\n",
    "        # use wikipedia module to pull the contents of the page\n",
    "        # note: auto_suggest = True by default\n",
    "        p = wikipedia.page(game)\n",
    "        content = p.content\n",
    "        # save url for source citation\n",
    "        wikipedia_sources.append(p.url)\n",
    "    except:\n",
    "        # if the game can't be pulled using wikipedia, substitute will nan as a placeholder\n",
    "        content = np.nan\n",
    "    # add the entry to the dataframe column wiki_content\n",
    "    uc_games_df.loc[uc_games_df['game_name']==game, 'wiki_content'] = content"
   ]
  },
  {
   "cell_type": "markdown",
   "id": "90ff227a-184d-4ce3-8568-b3913ff1f907",
   "metadata": {},
   "source": [
    "Looking at the result, we see that there are some entries where an entry could not be pulled:"
   ]
  },
  {
   "cell_type": "code",
   "execution_count": 6,
   "id": "5914d55f-445f-48ad-94e5-307f420e7c87",
   "metadata": {},
   "outputs": [
    {
     "data": {
      "text/html": [
       "<div>\n",
       "<style scoped>\n",
       "    .dataframe tbody tr th:only-of-type {\n",
       "        vertical-align: middle;\n",
       "    }\n",
       "\n",
       "    .dataframe tbody tr th {\n",
       "        vertical-align: top;\n",
       "    }\n",
       "\n",
       "    .dataframe thead th {\n",
       "        text-align: right;\n",
       "    }\n",
       "</style>\n",
       "<table border=\"1\" class=\"dataframe\">\n",
       "  <thead>\n",
       "    <tr style=\"text-align: right;\">\n",
       "      <th></th>\n",
       "      <th>game_name</th>\n",
       "      <th>uc_game_link</th>\n",
       "      <th>uc_threads</th>\n",
       "      <th>uc_posts</th>\n",
       "      <th>wiki_content</th>\n",
       "    </tr>\n",
       "  </thead>\n",
       "  <tbody>\n",
       "    <tr>\n",
       "      <th>1</th>\n",
       "      <td>All Points Bulletin</td>\n",
       "      <td>https://www.unknowncheats.me/forum/all-points-...</td>\n",
       "      <td>1,362</td>\n",
       "      <td>27,077</td>\n",
       "      <td>NaN</td>\n",
       "    </tr>\n",
       "    <tr>\n",
       "      <th>4</th>\n",
       "      <td>Apex Legends</td>\n",
       "      <td>https://www.unknowncheats.me/forum/apex-legend...</td>\n",
       "      <td>1,744</td>\n",
       "      <td>51,976</td>\n",
       "      <td>NaN</td>\n",
       "    </tr>\n",
       "    <tr>\n",
       "      <th>10</th>\n",
       "      <td>Crysis Series</td>\n",
       "      <td>https://www.unknowncheats.me/forum/crysis-seri...</td>\n",
       "      <td>519</td>\n",
       "      <td>6,062</td>\n",
       "      <td>NaN</td>\n",
       "    </tr>\n",
       "    <tr>\n",
       "      <th>13</th>\n",
       "      <td>FEAR</td>\n",
       "      <td>https://www.unknowncheats.me/forum/fear/?s=e67...</td>\n",
       "      <td>60</td>\n",
       "      <td>533</td>\n",
       "      <td>NaN</td>\n",
       "    </tr>\n",
       "    <tr>\n",
       "      <th>17</th>\n",
       "      <td>Halo</td>\n",
       "      <td>https://www.unknowncheats.me/forum/halo/?s=e67...</td>\n",
       "      <td>456</td>\n",
       "      <td>5,392</td>\n",
       "      <td>NaN</td>\n",
       "    </tr>\n",
       "    <tr>\n",
       "      <th>21</th>\n",
       "      <td>Overwatch</td>\n",
       "      <td>https://www.unknowncheats.me/forum/overwatch/?...</td>\n",
       "      <td>676</td>\n",
       "      <td>12,774</td>\n",
       "      <td>NaN</td>\n",
       "    </tr>\n",
       "    <tr>\n",
       "      <th>25</th>\n",
       "      <td>Playerunknown's Battlegrounds</td>\n",
       "      <td>https://www.unknowncheats.me/forum/playerunkno...</td>\n",
       "      <td>5,830</td>\n",
       "      <td>109,490</td>\n",
       "      <td>NaN</td>\n",
       "    </tr>\n",
       "    <tr>\n",
       "      <th>28</th>\n",
       "      <td>Radical Heights</td>\n",
       "      <td>https://www.unknowncheats.me/forum/radical-hei...</td>\n",
       "      <td>32</td>\n",
       "      <td>1,286</td>\n",
       "      <td>NaN</td>\n",
       "    </tr>\n",
       "    <tr>\n",
       "      <th>30</th>\n",
       "      <td>Rust</td>\n",
       "      <td>https://www.unknowncheats.me/forum/rust/?s=e67...</td>\n",
       "      <td>3,311</td>\n",
       "      <td>50,855</td>\n",
       "      <td>NaN</td>\n",
       "    </tr>\n",
       "    <tr>\n",
       "      <th>31</th>\n",
       "      <td>Sea of Thieves</td>\n",
       "      <td>https://www.unknowncheats.me/forum/sea-of-thie...</td>\n",
       "      <td>425</td>\n",
       "      <td>15,827</td>\n",
       "      <td>NaN</td>\n",
       "    </tr>\n",
       "    <tr>\n",
       "      <th>32</th>\n",
       "      <td>Splitgate</td>\n",
       "      <td>https://www.unknowncheats.me/forum/splitgate/?...</td>\n",
       "      <td>71</td>\n",
       "      <td>1,646</td>\n",
       "      <td>NaN</td>\n",
       "    </tr>\n",
       "    <tr>\n",
       "      <th>36</th>\n",
       "      <td>Swat 4</td>\n",
       "      <td>https://www.unknowncheats.me/forum/swat-4-a/?s...</td>\n",
       "      <td>133</td>\n",
       "      <td>1,077</td>\n",
       "      <td>NaN</td>\n",
       "    </tr>\n",
       "    <tr>\n",
       "      <th>37</th>\n",
       "      <td>Titanfall</td>\n",
       "      <td>https://www.unknowncheats.me/forum/titanfall/?...</td>\n",
       "      <td>45</td>\n",
       "      <td>687</td>\n",
       "      <td>NaN</td>\n",
       "    </tr>\n",
       "    <tr>\n",
       "      <th>41</th>\n",
       "      <td>Valorant</td>\n",
       "      <td>https://www.unknowncheats.me/forum/valorant/?s...</td>\n",
       "      <td>1,810</td>\n",
       "      <td>43,537</td>\n",
       "      <td>NaN</td>\n",
       "    </tr>\n",
       "    <tr>\n",
       "      <th>44</th>\n",
       "      <td>Warface</td>\n",
       "      <td>https://www.unknowncheats.me/forum/warface/?s=...</td>\n",
       "      <td>2,075</td>\n",
       "      <td>40,914</td>\n",
       "      <td>NaN</td>\n",
       "    </tr>\n",
       "  </tbody>\n",
       "</table>\n",
       "</div>"
      ],
      "text/plain": [
       "                        game_name  \\\n",
       "1             All Points Bulletin   \n",
       "4                    Apex Legends   \n",
       "10                  Crysis Series   \n",
       "13                           FEAR   \n",
       "17                           Halo   \n",
       "21                      Overwatch   \n",
       "25  Playerunknown's Battlegrounds   \n",
       "28                Radical Heights   \n",
       "30                           Rust   \n",
       "31                 Sea of Thieves   \n",
       "32                      Splitgate   \n",
       "36                         Swat 4   \n",
       "37                      Titanfall   \n",
       "41                       Valorant   \n",
       "44                        Warface   \n",
       "\n",
       "                                         uc_game_link uc_threads uc_posts  \\\n",
       "1   https://www.unknowncheats.me/forum/all-points-...      1,362   27,077   \n",
       "4   https://www.unknowncheats.me/forum/apex-legend...      1,744   51,976   \n",
       "10  https://www.unknowncheats.me/forum/crysis-seri...        519    6,062   \n",
       "13  https://www.unknowncheats.me/forum/fear/?s=e67...         60      533   \n",
       "17  https://www.unknowncheats.me/forum/halo/?s=e67...        456    5,392   \n",
       "21  https://www.unknowncheats.me/forum/overwatch/?...        676   12,774   \n",
       "25  https://www.unknowncheats.me/forum/playerunkno...      5,830  109,490   \n",
       "28  https://www.unknowncheats.me/forum/radical-hei...         32    1,286   \n",
       "30  https://www.unknowncheats.me/forum/rust/?s=e67...      3,311   50,855   \n",
       "31  https://www.unknowncheats.me/forum/sea-of-thie...        425   15,827   \n",
       "32  https://www.unknowncheats.me/forum/splitgate/?...         71    1,646   \n",
       "36  https://www.unknowncheats.me/forum/swat-4-a/?s...        133    1,077   \n",
       "37  https://www.unknowncheats.me/forum/titanfall/?...         45      687   \n",
       "41  https://www.unknowncheats.me/forum/valorant/?s...      1,810   43,537   \n",
       "44  https://www.unknowncheats.me/forum/warface/?s=...      2,075   40,914   \n",
       "\n",
       "   wiki_content  \n",
       "1           NaN  \n",
       "4           NaN  \n",
       "10          NaN  \n",
       "13          NaN  \n",
       "17          NaN  \n",
       "21          NaN  \n",
       "25          NaN  \n",
       "28          NaN  \n",
       "30          NaN  \n",
       "31          NaN  \n",
       "32          NaN  \n",
       "36          NaN  \n",
       "37          NaN  \n",
       "41          NaN  \n",
       "44          NaN  "
      ]
     },
     "execution_count": 6,
     "metadata": {},
     "output_type": "execute_result"
    }
   ],
   "source": [
    "uc_games_df.loc[uc_games_df['wiki_content'].isnull()]"
   ]
  },
  {
   "cell_type": "markdown",
   "id": "303f59ca-53db-4da3-ad3b-277bbe5f4f3f",
   "metadata": {},
   "source": [
    "For some of these games we can fill the entry by setting auto_suggest to False\n",
    "\n",
    "source: https://github.com/goldsmith/Wikipedia/issues/192"
   ]
  },
  {
   "cell_type": "code",
   "execution_count": 7,
   "id": "9d685d8e-4c66-45c7-93b4-3a7e7f1fa455",
   "metadata": {},
   "outputs": [
    {
     "name": "stderr",
     "output_type": "stream",
     "text": [
      "C:\\Users\\rstop\\anaconda3\\lib\\site-packages\\wikipedia\\wikipedia.py:389: GuessedAtParserWarning: No parser was explicitly specified, so I'm using the best available HTML parser for this system (\"lxml\"). This usually isn't a problem, but if you run this code on another system, or in a different virtual environment, it may use a different parser and behave differently.\n",
      "\n",
      "The code that caused this warning is on line 389 of the file C:\\Users\\rstop\\anaconda3\\lib\\site-packages\\wikipedia\\wikipedia.py. To get rid of this warning, pass the additional argument 'features=\"lxml\"' to the BeautifulSoup constructor.\n",
      "\n",
      "  lis = BeautifulSoup(html).find_all('li')\n"
     ]
    }
   ],
   "source": [
    "# loop through all the game names pulled from unknowncheats\n",
    "for game in uc_games_df.loc[uc_games_df['wiki_content'].isnull()]['game_name']:\n",
    "    try:\n",
    "        # use wikipedia module to pull the contents of the page, with auto_suggest = False\n",
    "        p = wikipedia.page(game, auto_suggest=False)\n",
    "        content = p.content\n",
    "        # save url for source citation\n",
    "        wikipedia_sources.append(p.url)\n",
    "    except:\n",
    "        # if the game can't be pulled using wikipedia, substitute will nan as a placeholder\n",
    "        content = np.nan\n",
    "    # add the entry to the dataframe column wiki_content\n",
    "    uc_games_df.loc[uc_games_df['game_name']==game, 'wiki_content'] = content"
   ]
  },
  {
   "cell_type": "markdown",
   "id": "ddc40a85-fbdd-421c-80dc-5d8fee5cda96",
   "metadata": {},
   "source": [
    "We now check the null entries again:"
   ]
  },
  {
   "cell_type": "code",
   "execution_count": 8,
   "id": "af464567-36ea-4410-b8d4-c4ddd52f5f67",
   "metadata": {},
   "outputs": [
    {
     "data": {
      "text/html": [
       "<div>\n",
       "<style scoped>\n",
       "    .dataframe tbody tr th:only-of-type {\n",
       "        vertical-align: middle;\n",
       "    }\n",
       "\n",
       "    .dataframe tbody tr th {\n",
       "        vertical-align: top;\n",
       "    }\n",
       "\n",
       "    .dataframe thead th {\n",
       "        text-align: right;\n",
       "    }\n",
       "</style>\n",
       "<table border=\"1\" class=\"dataframe\">\n",
       "  <thead>\n",
       "    <tr style=\"text-align: right;\">\n",
       "      <th></th>\n",
       "      <th>game_name</th>\n",
       "      <th>uc_game_link</th>\n",
       "      <th>uc_threads</th>\n",
       "      <th>uc_posts</th>\n",
       "      <th>wiki_content</th>\n",
       "    </tr>\n",
       "  </thead>\n",
       "  <tbody>\n",
       "    <tr>\n",
       "      <th>10</th>\n",
       "      <td>Crysis Series</td>\n",
       "      <td>https://www.unknowncheats.me/forum/crysis-seri...</td>\n",
       "      <td>519</td>\n",
       "      <td>6,062</td>\n",
       "      <td>NaN</td>\n",
       "    </tr>\n",
       "    <tr>\n",
       "      <th>13</th>\n",
       "      <td>FEAR</td>\n",
       "      <td>https://www.unknowncheats.me/forum/fear/?s=e67...</td>\n",
       "      <td>60</td>\n",
       "      <td>533</td>\n",
       "      <td>NaN</td>\n",
       "    </tr>\n",
       "    <tr>\n",
       "      <th>17</th>\n",
       "      <td>Halo</td>\n",
       "      <td>https://www.unknowncheats.me/forum/halo/?s=e67...</td>\n",
       "      <td>456</td>\n",
       "      <td>5,392</td>\n",
       "      <td>NaN</td>\n",
       "    </tr>\n",
       "    <tr>\n",
       "      <th>36</th>\n",
       "      <td>Swat 4</td>\n",
       "      <td>https://www.unknowncheats.me/forum/swat-4-a/?s...</td>\n",
       "      <td>133</td>\n",
       "      <td>1,077</td>\n",
       "      <td>NaN</td>\n",
       "    </tr>\n",
       "  </tbody>\n",
       "</table>\n",
       "</div>"
      ],
      "text/plain": [
       "        game_name                                       uc_game_link  \\\n",
       "10  Crysis Series  https://www.unknowncheats.me/forum/crysis-seri...   \n",
       "13           FEAR  https://www.unknowncheats.me/forum/fear/?s=e67...   \n",
       "17           Halo  https://www.unknowncheats.me/forum/halo/?s=e67...   \n",
       "36         Swat 4  https://www.unknowncheats.me/forum/swat-4-a/?s...   \n",
       "\n",
       "   uc_threads uc_posts wiki_content  \n",
       "10        519    6,062          NaN  \n",
       "13         60      533          NaN  \n",
       "17        456    5,392          NaN  \n",
       "36        133    1,077          NaN  "
      ]
     },
     "execution_count": 8,
     "metadata": {},
     "output_type": "execute_result"
    }
   ],
   "source": [
    "uc_games_df.loc[uc_games_df['wiki_content'].isnull()]"
   ]
  },
  {
   "cell_type": "markdown",
   "id": "60aade77-9f3e-498c-a7b2-d96cbc3c586b",
   "metadata": {},
   "source": [
    "For the remaining 4 games, the wikipedia entry could not be pulled because the game_name did not match the wikipedia article title. We fill these values individually:"
   ]
  },
  {
   "cell_type": "code",
   "execution_count": 9,
   "id": "f09f84ff-a95d-449a-9519-0fc1c9d19d1f",
   "metadata": {},
   "outputs": [],
   "source": [
    "# Crysis Series\n",
    "p = wikipedia.page('Crysis')\n",
    "content = p.content\n",
    "wikipedia_sources.append(p.url)\n",
    "uc_games_df.loc[uc_games_df['game_name']=='Crysis Series', 'wiki_content'] = content\n",
    "\n",
    "# FEAR\n",
    "p = wikipedia.page('F.E.A.R. (video game)', auto_suggest=False)\n",
    "content = p.content\n",
    "wikipedia_sources.append(p.url)\n",
    "uc_games_df.loc[uc_games_df['game_name']=='FEAR', 'wiki_content'] = content\n",
    "\n",
    "# Halo\n",
    "p = wikipedia.page('Halo (franchise)')\n",
    "content = p.content\n",
    "wikipedia_sources.append(p.url)\n",
    "uc_games_df.loc[uc_games_df['game_name']=='Halo', 'wiki_content'] = content\n",
    "\n",
    "# Swat 4\n",
    "p = wikipedia.page('SWAT 4', auto_suggest=False)\n",
    "content = p.content\n",
    "wikipedia_sources.append(p.url)\n",
    "uc_games_df.loc[uc_games_df['game_name']=='Swat 4', 'wiki_content'] = content"
   ]
  },
  {
   "cell_type": "markdown",
   "id": "4cb1ee1b-0805-4707-bb00-7fdc012e4ab1",
   "metadata": {},
   "source": [
    "There are additionally some games which pulled the wrong wikipedia entry. We correct for these below:"
   ]
  },
  {
   "cell_type": "code",
   "execution_count": 10,
   "id": "fbbe1b3c-4dad-4a8d-8128-6bd5b69989e6",
   "metadata": {},
   "outputs": [],
   "source": [
    "# all points bulletin\n",
    "# APB: All Points Bulletin\n",
    "p = wikipedia.page('APB: All Points Bulletin', auto_suggest=False)\n",
    "content = p.content\n",
    "wikipedia_sources.append(p.url)\n",
    "uc_games_df.loc[uc_games_df['game_name'].str.lower()=='all points bulletin', 'wiki_content'] = content\n",
    "\n",
    "# combat arms\n",
    "# Combat Arms\n",
    "p = wikipedia.page('Combat Arms', auto_suggest=False)\n",
    "content = p.content\n",
    "wikipedia_sources.append(p.url)\n",
    "uc_games_df.loc[uc_games_df['game_name'].str.lower()=='combat arms', 'wiki_content'] = content\n",
    "\n",
    "# paladins\n",
    "# Paladins (video game)\n",
    "p = wikipedia.page('Paladins (video game)', auto_suggest=False)\n",
    "content = p.content\n",
    "wikipedia_sources.append(p.url)\n",
    "uc_games_df.loc[uc_games_df['game_name'].str.lower()=='paladins', 'wiki_content'] = content\n",
    "\n",
    "# rust\n",
    "# Rust (video game)\n",
    "p = wikipedia.page('Rust (video game)', auto_suggest=False)\n",
    "content = p.content\n",
    "wikipedia_sources.append(p.url)\n",
    "uc_games_df.loc[uc_games_df['game_name'].str.lower()=='rust', 'wiki_content'] = content"
   ]
  },
  {
   "cell_type": "markdown",
   "id": "2780552e-a97d-4464-b320-0857770ab1df",
   "metadata": {},
   "source": [
    "Now we have pulled all of the wikipedia entries for each game and added it to our data:"
   ]
  },
  {
   "cell_type": "code",
   "execution_count": 11,
   "id": "f853433e-2647-4a1f-bd8c-0f009379f129",
   "metadata": {},
   "outputs": [
    {
     "data": {
      "text/html": [
       "<div>\n",
       "<style scoped>\n",
       "    .dataframe tbody tr th:only-of-type {\n",
       "        vertical-align: middle;\n",
       "    }\n",
       "\n",
       "    .dataframe tbody tr th {\n",
       "        vertical-align: top;\n",
       "    }\n",
       "\n",
       "    .dataframe thead th {\n",
       "        text-align: right;\n",
       "    }\n",
       "</style>\n",
       "<table border=\"1\" class=\"dataframe\">\n",
       "  <thead>\n",
       "    <tr style=\"text-align: right;\">\n",
       "      <th></th>\n",
       "      <th>game_name</th>\n",
       "      <th>uc_game_link</th>\n",
       "      <th>uc_threads</th>\n",
       "      <th>uc_posts</th>\n",
       "      <th>wiki_content</th>\n",
       "    </tr>\n",
       "  </thead>\n",
       "  <tbody>\n",
       "    <tr>\n",
       "      <th>0</th>\n",
       "      <td>ARMA Series</td>\n",
       "      <td>https://www.unknowncheats.me/forum/arma-series...</td>\n",
       "      <td>5,970</td>\n",
       "      <td>91,647</td>\n",
       "      <td>Arma (sometimes stylised as ARMA) is a series ...</td>\n",
       "    </tr>\n",
       "    <tr>\n",
       "      <th>1</th>\n",
       "      <td>All Points Bulletin</td>\n",
       "      <td>https://www.unknowncheats.me/forum/all-points-...</td>\n",
       "      <td>1,362</td>\n",
       "      <td>27,077</td>\n",
       "      <td>APB: All Points Bulletin is an open world mult...</td>\n",
       "    </tr>\n",
       "    <tr>\n",
       "      <th>2</th>\n",
       "      <td>Alliance of Valiant Arms</td>\n",
       "      <td>https://www.unknowncheats.me/forum/alliance-of...</td>\n",
       "      <td>242</td>\n",
       "      <td>6,218</td>\n",
       "      <td>Alliance of Valiant Arms (abbreviated as A.V.A...</td>\n",
       "    </tr>\n",
       "    <tr>\n",
       "      <th>3</th>\n",
       "      <td>America's Army Operations</td>\n",
       "      <td>https://www.unknowncheats.me/forum/america-s-a...</td>\n",
       "      <td>6,434</td>\n",
       "      <td>85,966</td>\n",
       "      <td>America's Army was a series of first-person sh...</td>\n",
       "    </tr>\n",
       "    <tr>\n",
       "      <th>4</th>\n",
       "      <td>Apex Legends</td>\n",
       "      <td>https://www.unknowncheats.me/forum/apex-legend...</td>\n",
       "      <td>1,744</td>\n",
       "      <td>51,976</td>\n",
       "      <td>Apex Legends is a free-to-play battle royale-h...</td>\n",
       "    </tr>\n",
       "    <tr>\n",
       "      <th>5</th>\n",
       "      <td>Battlefield Series</td>\n",
       "      <td>https://www.unknowncheats.me/forum/battlefield...</td>\n",
       "      <td>9,085</td>\n",
       "      <td>191,476</td>\n",
       "      <td>Battlefield is a series of first-person shoote...</td>\n",
       "    </tr>\n",
       "    <tr>\n",
       "      <th>6</th>\n",
       "      <td>Call of Duty Series</td>\n",
       "      <td>https://www.unknowncheats.me/forum/call-of-dut...</td>\n",
       "      <td>7,733</td>\n",
       "      <td>105,461</td>\n",
       "      <td>Call of Duty is a first-person shooter video g...</td>\n",
       "    </tr>\n",
       "    <tr>\n",
       "      <th>7</th>\n",
       "      <td>Combat Arms</td>\n",
       "      <td>https://www.unknowncheats.me/forum/combat-arms...</td>\n",
       "      <td>843</td>\n",
       "      <td>10,607</td>\n",
       "      <td>Combat Arms: Reloaded &amp; Combat Arms: Classic i...</td>\n",
       "    </tr>\n",
       "    <tr>\n",
       "      <th>8</th>\n",
       "      <td>Counter Strike</td>\n",
       "      <td>https://www.unknowncheats.me/forum/counter-str...</td>\n",
       "      <td>28,290</td>\n",
       "      <td>508,197</td>\n",
       "      <td>Counter-Strike (CS) is a series of multiplayer...</td>\n",
       "    </tr>\n",
       "    <tr>\n",
       "      <th>9</th>\n",
       "      <td>CrossFire</td>\n",
       "      <td>https://www.unknowncheats.me/forum/crossfire/?...</td>\n",
       "      <td>276</td>\n",
       "      <td>2,094</td>\n",
       "      <td>Crossfire is an online tactical first-person s...</td>\n",
       "    </tr>\n",
       "    <tr>\n",
       "      <th>10</th>\n",
       "      <td>Crysis Series</td>\n",
       "      <td>https://www.unknowncheats.me/forum/crysis-seri...</td>\n",
       "      <td>519</td>\n",
       "      <td>6,062</td>\n",
       "      <td>Crysis is a first-person shooter video game se...</td>\n",
       "    </tr>\n",
       "    <tr>\n",
       "      <th>11</th>\n",
       "      <td>Day of Defeat</td>\n",
       "      <td>https://www.unknowncheats.me/forum/day-of-defe...</td>\n",
       "      <td>183</td>\n",
       "      <td>1,233</td>\n",
       "      <td>Day of Defeat is a team-based multiplayer firs...</td>\n",
       "    </tr>\n",
       "    <tr>\n",
       "      <th>12</th>\n",
       "      <td>Escape from Tarkov</td>\n",
       "      <td>https://www.unknowncheats.me/forum/escape-from...</td>\n",
       "      <td>1,528</td>\n",
       "      <td>33,034</td>\n",
       "      <td>Escape from Tarkov is a multiplayer tactical f...</td>\n",
       "    </tr>\n",
       "    <tr>\n",
       "      <th>13</th>\n",
       "      <td>FEAR</td>\n",
       "      <td>https://www.unknowncheats.me/forum/fear/?s=e67...</td>\n",
       "      <td>60</td>\n",
       "      <td>533</td>\n",
       "      <td>F.E.A.R. First Encounter Assault Recon is a fi...</td>\n",
       "    </tr>\n",
       "    <tr>\n",
       "      <th>14</th>\n",
       "      <td>Far Cry</td>\n",
       "      <td>https://www.unknowncheats.me/forum/far-cry/?s=...</td>\n",
       "      <td>122</td>\n",
       "      <td>1,239</td>\n",
       "      <td>Far Cry is an anthology franchise of first-per...</td>\n",
       "    </tr>\n",
       "    <tr>\n",
       "      <th>15</th>\n",
       "      <td>Grand Theft Auto V</td>\n",
       "      <td>https://www.unknowncheats.me/forum/grand-theft...</td>\n",
       "      <td>7,648</td>\n",
       "      <td>194,901</td>\n",
       "      <td>Grand Theft Auto V is a 2013 action-adventure ...</td>\n",
       "    </tr>\n",
       "    <tr>\n",
       "      <th>16</th>\n",
       "      <td>H1Z1</td>\n",
       "      <td>https://www.unknowncheats.me/forum/h1z1/?s=e67...</td>\n",
       "      <td>672</td>\n",
       "      <td>18,312</td>\n",
       "      <td>Z1 Battle Royale (formerly H1Z1 and King of th...</td>\n",
       "    </tr>\n",
       "    <tr>\n",
       "      <th>17</th>\n",
       "      <td>Halo</td>\n",
       "      <td>https://www.unknowncheats.me/forum/halo/?s=e67...</td>\n",
       "      <td>456</td>\n",
       "      <td>5,392</td>\n",
       "      <td>Halo is a military science fiction media franc...</td>\n",
       "    </tr>\n",
       "    <tr>\n",
       "      <th>18</th>\n",
       "      <td>Joint Operations &amp; DFX</td>\n",
       "      <td>https://www.unknowncheats.me/forum/joint-opera...</td>\n",
       "      <td>225</td>\n",
       "      <td>2,367</td>\n",
       "      <td>Ford Motor Company (commonly known as Ford) is...</td>\n",
       "    </tr>\n",
       "    <tr>\n",
       "      <th>19</th>\n",
       "      <td>Medal Of Honor Series</td>\n",
       "      <td>https://www.unknowncheats.me/forum/medal-of-ho...</td>\n",
       "      <td>703</td>\n",
       "      <td>5,725</td>\n",
       "      <td>Medal of Honor is a series of first-person sho...</td>\n",
       "    </tr>\n",
       "    <tr>\n",
       "      <th>20</th>\n",
       "      <td>Operation 7</td>\n",
       "      <td>https://www.unknowncheats.me/forum/operation-7...</td>\n",
       "      <td>220</td>\n",
       "      <td>2,135</td>\n",
       "      <td>Operation 7 is the name given to a successful ...</td>\n",
       "    </tr>\n",
       "    <tr>\n",
       "      <th>21</th>\n",
       "      <td>Overwatch</td>\n",
       "      <td>https://www.unknowncheats.me/forum/overwatch/?...</td>\n",
       "      <td>676</td>\n",
       "      <td>12,774</td>\n",
       "      <td>Overwatch is a multimedia franchise centered o...</td>\n",
       "    </tr>\n",
       "    <tr>\n",
       "      <th>22</th>\n",
       "      <td>Paladins</td>\n",
       "      <td>https://www.unknowncheats.me/forum/paladins/?s...</td>\n",
       "      <td>209</td>\n",
       "      <td>8,547</td>\n",
       "      <td>Paladins: Champions of the Realm is a 2018 fre...</td>\n",
       "    </tr>\n",
       "    <tr>\n",
       "      <th>23</th>\n",
       "      <td>Payday 2</td>\n",
       "      <td>https://www.unknowncheats.me/forum/payday-2-a/...</td>\n",
       "      <td>3,101</td>\n",
       "      <td>48,959</td>\n",
       "      <td>Payday 2 is a cooperative first-person shooter...</td>\n",
       "    </tr>\n",
       "    <tr>\n",
       "      <th>24</th>\n",
       "      <td>PlanetSide 2</td>\n",
       "      <td>https://www.unknowncheats.me/forum/planetside-...</td>\n",
       "      <td>403</td>\n",
       "      <td>8,724</td>\n",
       "      <td>PlanetSide 2 is a free-to-play massively multi...</td>\n",
       "    </tr>\n",
       "    <tr>\n",
       "      <th>25</th>\n",
       "      <td>Playerunknown's Battlegrounds</td>\n",
       "      <td>https://www.unknowncheats.me/forum/playerunkno...</td>\n",
       "      <td>5,830</td>\n",
       "      <td>109,490</td>\n",
       "      <td>PUBG: Battlegrounds (previously known as Playe...</td>\n",
       "    </tr>\n",
       "    <tr>\n",
       "      <th>26</th>\n",
       "      <td>Quake Series</td>\n",
       "      <td>https://www.unknowncheats.me/forum/quake-serie...</td>\n",
       "      <td>357</td>\n",
       "      <td>3,161</td>\n",
       "      <td>Quake is a series of first-person shooter vide...</td>\n",
       "    </tr>\n",
       "    <tr>\n",
       "      <th>27</th>\n",
       "      <td>Rainbow Six Siege</td>\n",
       "      <td>https://www.unknowncheats.me/forum/rainbow-six...</td>\n",
       "      <td>1,948</td>\n",
       "      <td>48,760</td>\n",
       "      <td>Tom Clancy's Rainbow Six Siege is an online ta...</td>\n",
       "    </tr>\n",
       "    <tr>\n",
       "      <th>28</th>\n",
       "      <td>Radical Heights</td>\n",
       "      <td>https://www.unknowncheats.me/forum/radical-hei...</td>\n",
       "      <td>32</td>\n",
       "      <td>1,286</td>\n",
       "      <td>Boss Key Productions, Inc. was an American vid...</td>\n",
       "    </tr>\n",
       "    <tr>\n",
       "      <th>29</th>\n",
       "      <td>Red Dead Redemption 2</td>\n",
       "      <td>https://www.unknowncheats.me/forum/red-dead-re...</td>\n",
       "      <td>431</td>\n",
       "      <td>17,934</td>\n",
       "      <td>Red Dead Redemption 2 is a 2018 action-adventu...</td>\n",
       "    </tr>\n",
       "    <tr>\n",
       "      <th>30</th>\n",
       "      <td>Rust</td>\n",
       "      <td>https://www.unknowncheats.me/forum/rust/?s=e67...</td>\n",
       "      <td>3,311</td>\n",
       "      <td>50,855</td>\n",
       "      <td>Rust is a multiplayer-only survival video game...</td>\n",
       "    </tr>\n",
       "    <tr>\n",
       "      <th>31</th>\n",
       "      <td>Sea of Thieves</td>\n",
       "      <td>https://www.unknowncheats.me/forum/sea-of-thie...</td>\n",
       "      <td>425</td>\n",
       "      <td>15,827</td>\n",
       "      <td>Sea of Thieves is a 2018 action-adventure game...</td>\n",
       "    </tr>\n",
       "    <tr>\n",
       "      <th>32</th>\n",
       "      <td>Splitgate</td>\n",
       "      <td>https://www.unknowncheats.me/forum/splitgate/?...</td>\n",
       "      <td>71</td>\n",
       "      <td>1,646</td>\n",
       "      <td>Splitgate (known during development under the ...</td>\n",
       "    </tr>\n",
       "    <tr>\n",
       "      <th>33</th>\n",
       "      <td>Star Wars Battlefront</td>\n",
       "      <td>https://www.unknowncheats.me/forum/star-wars-b...</td>\n",
       "      <td>122</td>\n",
       "      <td>4,682</td>\n",
       "      <td>Star Wars: Battlefront is a series of first- a...</td>\n",
       "    </tr>\n",
       "    <tr>\n",
       "      <th>34</th>\n",
       "      <td>Star Wars Battlefront 2</td>\n",
       "      <td>https://www.unknowncheats.me/forum/star-wars-b...</td>\n",
       "      <td>180</td>\n",
       "      <td>6,861</td>\n",
       "      <td>Star Wars Battlefront II is an action shooter ...</td>\n",
       "    </tr>\n",
       "    <tr>\n",
       "      <th>35</th>\n",
       "      <td>Sudden Attack</td>\n",
       "      <td>https://www.unknowncheats.me/forum/sudden-atta...</td>\n",
       "      <td>47</td>\n",
       "      <td>369</td>\n",
       "      <td>Sudden Attack (Korean: 서든어택) is a free-to-play...</td>\n",
       "    </tr>\n",
       "    <tr>\n",
       "      <th>36</th>\n",
       "      <td>Swat 4</td>\n",
       "      <td>https://www.unknowncheats.me/forum/swat-4-a/?s...</td>\n",
       "      <td>133</td>\n",
       "      <td>1,077</td>\n",
       "      <td>SWAT 4 is a 2005 tactical first-person shooter...</td>\n",
       "    </tr>\n",
       "    <tr>\n",
       "      <th>37</th>\n",
       "      <td>Titanfall</td>\n",
       "      <td>https://www.unknowncheats.me/forum/titanfall/?...</td>\n",
       "      <td>45</td>\n",
       "      <td>687</td>\n",
       "      <td>Titanfall is a series of video games that main...</td>\n",
       "    </tr>\n",
       "    <tr>\n",
       "      <th>38</th>\n",
       "      <td>Team Fortress 2</td>\n",
       "      <td>https://www.unknowncheats.me/forum/team-fortre...</td>\n",
       "      <td>1,275</td>\n",
       "      <td>22,081</td>\n",
       "      <td>Team Fortress 2 is a 2007 multiplayer first-pe...</td>\n",
       "    </tr>\n",
       "    <tr>\n",
       "      <th>39</th>\n",
       "      <td>Tom Clancy's The Division</td>\n",
       "      <td>https://www.unknowncheats.me/forum/tom-clancy-...</td>\n",
       "      <td>318</td>\n",
       "      <td>12,076</td>\n",
       "      <td>Tom Clancy's The Division is an online-only ac...</td>\n",
       "    </tr>\n",
       "    <tr>\n",
       "      <th>40</th>\n",
       "      <td>Unreal Tournament</td>\n",
       "      <td>https://www.unknowncheats.me/forum/unreal-tour...</td>\n",
       "      <td>36</td>\n",
       "      <td>222</td>\n",
       "      <td>Unreal Tournament is a first-person arena shoo...</td>\n",
       "    </tr>\n",
       "    <tr>\n",
       "      <th>41</th>\n",
       "      <td>Valorant</td>\n",
       "      <td>https://www.unknowncheats.me/forum/valorant/?s...</td>\n",
       "      <td>1,810</td>\n",
       "      <td>43,537</td>\n",
       "      <td>Valorant is a free-to-play first-person tactic...</td>\n",
       "    </tr>\n",
       "    <tr>\n",
       "      <th>42</th>\n",
       "      <td>War Inc</td>\n",
       "      <td>https://www.unknowncheats.me/forum/war-inc/?s=...</td>\n",
       "      <td>113</td>\n",
       "      <td>1,981</td>\n",
       "      <td>War, Inc. is a 2008 American political action ...</td>\n",
       "    </tr>\n",
       "    <tr>\n",
       "      <th>43</th>\n",
       "      <td>War Rock</td>\n",
       "      <td>https://www.unknowncheats.me/forum/war-rock/?s...</td>\n",
       "      <td>320</td>\n",
       "      <td>2,042</td>\n",
       "      <td>War Rock (Korean: 워록) is a multiplayer first-p...</td>\n",
       "    </tr>\n",
       "    <tr>\n",
       "      <th>44</th>\n",
       "      <td>Warface</td>\n",
       "      <td>https://www.unknowncheats.me/forum/warface/?s=...</td>\n",
       "      <td>2,075</td>\n",
       "      <td>40,914</td>\n",
       "      <td>Warface is a free-to-play online first-person ...</td>\n",
       "    </tr>\n",
       "  </tbody>\n",
       "</table>\n",
       "</div>"
      ],
      "text/plain": [
       "                        game_name  \\\n",
       "0                     ARMA Series   \n",
       "1             All Points Bulletin   \n",
       "2        Alliance of Valiant Arms   \n",
       "3       America's Army Operations   \n",
       "4                    Apex Legends   \n",
       "5              Battlefield Series   \n",
       "6             Call of Duty Series   \n",
       "7                     Combat Arms   \n",
       "8                  Counter Strike   \n",
       "9                       CrossFire   \n",
       "10                  Crysis Series   \n",
       "11                  Day of Defeat   \n",
       "12             Escape from Tarkov   \n",
       "13                           FEAR   \n",
       "14                        Far Cry   \n",
       "15             Grand Theft Auto V   \n",
       "16                           H1Z1   \n",
       "17                           Halo   \n",
       "18         Joint Operations & DFX   \n",
       "19          Medal Of Honor Series   \n",
       "20                    Operation 7   \n",
       "21                      Overwatch   \n",
       "22                       Paladins   \n",
       "23                       Payday 2   \n",
       "24                   PlanetSide 2   \n",
       "25  Playerunknown's Battlegrounds   \n",
       "26                   Quake Series   \n",
       "27              Rainbow Six Siege   \n",
       "28                Radical Heights   \n",
       "29          Red Dead Redemption 2   \n",
       "30                           Rust   \n",
       "31                 Sea of Thieves   \n",
       "32                      Splitgate   \n",
       "33          Star Wars Battlefront   \n",
       "34        Star Wars Battlefront 2   \n",
       "35                  Sudden Attack   \n",
       "36                         Swat 4   \n",
       "37                      Titanfall   \n",
       "38                Team Fortress 2   \n",
       "39      Tom Clancy's The Division   \n",
       "40              Unreal Tournament   \n",
       "41                       Valorant   \n",
       "42                        War Inc   \n",
       "43                       War Rock   \n",
       "44                        Warface   \n",
       "\n",
       "                                         uc_game_link uc_threads uc_posts  \\\n",
       "0   https://www.unknowncheats.me/forum/arma-series...      5,970   91,647   \n",
       "1   https://www.unknowncheats.me/forum/all-points-...      1,362   27,077   \n",
       "2   https://www.unknowncheats.me/forum/alliance-of...        242    6,218   \n",
       "3   https://www.unknowncheats.me/forum/america-s-a...      6,434   85,966   \n",
       "4   https://www.unknowncheats.me/forum/apex-legend...      1,744   51,976   \n",
       "5   https://www.unknowncheats.me/forum/battlefield...      9,085  191,476   \n",
       "6   https://www.unknowncheats.me/forum/call-of-dut...      7,733  105,461   \n",
       "7   https://www.unknowncheats.me/forum/combat-arms...        843   10,607   \n",
       "8   https://www.unknowncheats.me/forum/counter-str...     28,290  508,197   \n",
       "9   https://www.unknowncheats.me/forum/crossfire/?...        276    2,094   \n",
       "10  https://www.unknowncheats.me/forum/crysis-seri...        519    6,062   \n",
       "11  https://www.unknowncheats.me/forum/day-of-defe...        183    1,233   \n",
       "12  https://www.unknowncheats.me/forum/escape-from...      1,528   33,034   \n",
       "13  https://www.unknowncheats.me/forum/fear/?s=e67...         60      533   \n",
       "14  https://www.unknowncheats.me/forum/far-cry/?s=...        122    1,239   \n",
       "15  https://www.unknowncheats.me/forum/grand-theft...      7,648  194,901   \n",
       "16  https://www.unknowncheats.me/forum/h1z1/?s=e67...        672   18,312   \n",
       "17  https://www.unknowncheats.me/forum/halo/?s=e67...        456    5,392   \n",
       "18  https://www.unknowncheats.me/forum/joint-opera...        225    2,367   \n",
       "19  https://www.unknowncheats.me/forum/medal-of-ho...        703    5,725   \n",
       "20  https://www.unknowncheats.me/forum/operation-7...        220    2,135   \n",
       "21  https://www.unknowncheats.me/forum/overwatch/?...        676   12,774   \n",
       "22  https://www.unknowncheats.me/forum/paladins/?s...        209    8,547   \n",
       "23  https://www.unknowncheats.me/forum/payday-2-a/...      3,101   48,959   \n",
       "24  https://www.unknowncheats.me/forum/planetside-...        403    8,724   \n",
       "25  https://www.unknowncheats.me/forum/playerunkno...      5,830  109,490   \n",
       "26  https://www.unknowncheats.me/forum/quake-serie...        357    3,161   \n",
       "27  https://www.unknowncheats.me/forum/rainbow-six...      1,948   48,760   \n",
       "28  https://www.unknowncheats.me/forum/radical-hei...         32    1,286   \n",
       "29  https://www.unknowncheats.me/forum/red-dead-re...        431   17,934   \n",
       "30  https://www.unknowncheats.me/forum/rust/?s=e67...      3,311   50,855   \n",
       "31  https://www.unknowncheats.me/forum/sea-of-thie...        425   15,827   \n",
       "32  https://www.unknowncheats.me/forum/splitgate/?...         71    1,646   \n",
       "33  https://www.unknowncheats.me/forum/star-wars-b...        122    4,682   \n",
       "34  https://www.unknowncheats.me/forum/star-wars-b...        180    6,861   \n",
       "35  https://www.unknowncheats.me/forum/sudden-atta...         47      369   \n",
       "36  https://www.unknowncheats.me/forum/swat-4-a/?s...        133    1,077   \n",
       "37  https://www.unknowncheats.me/forum/titanfall/?...         45      687   \n",
       "38  https://www.unknowncheats.me/forum/team-fortre...      1,275   22,081   \n",
       "39  https://www.unknowncheats.me/forum/tom-clancy-...        318   12,076   \n",
       "40  https://www.unknowncheats.me/forum/unreal-tour...         36      222   \n",
       "41  https://www.unknowncheats.me/forum/valorant/?s...      1,810   43,537   \n",
       "42  https://www.unknowncheats.me/forum/war-inc/?s=...        113    1,981   \n",
       "43  https://www.unknowncheats.me/forum/war-rock/?s...        320    2,042   \n",
       "44  https://www.unknowncheats.me/forum/warface/?s=...      2,075   40,914   \n",
       "\n",
       "                                         wiki_content  \n",
       "0   Arma (sometimes stylised as ARMA) is a series ...  \n",
       "1   APB: All Points Bulletin is an open world mult...  \n",
       "2   Alliance of Valiant Arms (abbreviated as A.V.A...  \n",
       "3   America's Army was a series of first-person sh...  \n",
       "4   Apex Legends is a free-to-play battle royale-h...  \n",
       "5   Battlefield is a series of first-person shoote...  \n",
       "6   Call of Duty is a first-person shooter video g...  \n",
       "7   Combat Arms: Reloaded & Combat Arms: Classic i...  \n",
       "8   Counter-Strike (CS) is a series of multiplayer...  \n",
       "9   Crossfire is an online tactical first-person s...  \n",
       "10  Crysis is a first-person shooter video game se...  \n",
       "11  Day of Defeat is a team-based multiplayer firs...  \n",
       "12  Escape from Tarkov is a multiplayer tactical f...  \n",
       "13  F.E.A.R. First Encounter Assault Recon is a fi...  \n",
       "14  Far Cry is an anthology franchise of first-per...  \n",
       "15  Grand Theft Auto V is a 2013 action-adventure ...  \n",
       "16  Z1 Battle Royale (formerly H1Z1 and King of th...  \n",
       "17  Halo is a military science fiction media franc...  \n",
       "18  Ford Motor Company (commonly known as Ford) is...  \n",
       "19  Medal of Honor is a series of first-person sho...  \n",
       "20  Operation 7 is the name given to a successful ...  \n",
       "21  Overwatch is a multimedia franchise centered o...  \n",
       "22  Paladins: Champions of the Realm is a 2018 fre...  \n",
       "23  Payday 2 is a cooperative first-person shooter...  \n",
       "24  PlanetSide 2 is a free-to-play massively multi...  \n",
       "25  PUBG: Battlegrounds (previously known as Playe...  \n",
       "26  Quake is a series of first-person shooter vide...  \n",
       "27  Tom Clancy's Rainbow Six Siege is an online ta...  \n",
       "28  Boss Key Productions, Inc. was an American vid...  \n",
       "29  Red Dead Redemption 2 is a 2018 action-adventu...  \n",
       "30  Rust is a multiplayer-only survival video game...  \n",
       "31  Sea of Thieves is a 2018 action-adventure game...  \n",
       "32  Splitgate (known during development under the ...  \n",
       "33  Star Wars: Battlefront is a series of first- a...  \n",
       "34  Star Wars Battlefront II is an action shooter ...  \n",
       "35  Sudden Attack (Korean: 서든어택) is a free-to-play...  \n",
       "36  SWAT 4 is a 2005 tactical first-person shooter...  \n",
       "37  Titanfall is a series of video games that main...  \n",
       "38  Team Fortress 2 is a 2007 multiplayer first-pe...  \n",
       "39  Tom Clancy's The Division is an online-only ac...  \n",
       "40  Unreal Tournament is a first-person arena shoo...  \n",
       "41  Valorant is a free-to-play first-person tactic...  \n",
       "42  War, Inc. is a 2008 American political action ...  \n",
       "43  War Rock (Korean: 워록) is a multiplayer first-p...  \n",
       "44  Warface is a free-to-play online first-person ...  "
      ]
     },
     "execution_count": 11,
     "metadata": {},
     "output_type": "execute_result"
    }
   ],
   "source": [
    "uc_games_df"
   ]
  },
  {
   "cell_type": "markdown",
   "id": "76443898-c9a5-4ed9-9c8e-f40bec5745a5",
   "metadata": {},
   "source": [
    "### LEVVVEL"
   ]
  },
  {
   "cell_type": "markdown",
   "id": "0216c039-1c25-4864-8ddc-db173f50cbbd",
   "metadata": {},
   "source": [
    "Next we get data from *levvvel.com*. They claim on the website, \"ensuring no one can unfairly gain an advantage over their opponent and more...\". They contain information on kernel-level anti-cheat drivers and have a table of different video games and the anti-cheat software used in the game. This section scrapes this table into a dataframe as the anti-cheat software can be used as a explanatory variable in our model.\n",
    "\n",
    "The website required selenium for webscraping which is outside the scope of this project. Instead, the data was gathered manually in a csv format, read below:"
   ]
  },
  {
   "cell_type": "code",
   "execution_count": 12,
   "id": "d022b7ff-641a-4669-b045-71874486ab21",
   "metadata": {},
   "outputs": [],
   "source": [
    "lvl_path = '../data/levvvel_games_anticheat_software.csv'\n",
    "lvl_df = pd.read_csv(lvl_path)"
   ]
  },
  {
   "cell_type": "code",
   "execution_count": 13,
   "id": "4d1946fe-834b-4543-9649-78840b0cd311",
   "metadata": {},
   "outputs": [],
   "source": [
    "# make columns lower case\n",
    "lvl_df.columns = [col.lower() for col in lvl_df]"
   ]
  },
  {
   "cell_type": "markdown",
   "id": "342b7787-dfa2-4548-bd76-f7f9a0af4559",
   "metadata": {},
   "source": [
    "### Joining the data: clean joins"
   ]
  },
  {
   "cell_type": "markdown",
   "id": "3c7212ad-e6c4-4059-96c4-98dac18912ac",
   "metadata": {},
   "source": [
    "Next, uc_games_df and lvl_df must be joined together to create a master dataset. There are a few problems here:\n",
    "\n",
    "1. The game names in the two dataframes may not match up\n",
    "2. Some of the entries we have from unknowncheats are for gaming series, not individual games. The entries from levvvel are for individual games. For gaming series, it is often the case that the same anticheat software is used for the whole series, however we cannot make this assumption. Therefore we cannot use fuzzymatching and must check each individual entry to make sure the correct data is appended from levvvel.\n",
    "3. The entries for levvvel are only for games which have kernel-level anti-cheat drivers. It's possible that the game does not have this and therefore the data does not exist in levvvel."
   ]
  },
  {
   "cell_type": "markdown",
   "id": "add1a5ae-26c0-4e12-b57a-d4184954ca3c",
   "metadata": {},
   "source": [
    "First, we will join the two dataframes which does work for a handfull of entries:"
   ]
  },
  {
   "cell_type": "code",
   "execution_count": 14,
   "id": "7b1de84b-61c0-4203-a438-36b435d04c29",
   "metadata": {},
   "outputs": [],
   "source": [
    "# make the game names lower case for join:\n",
    "uc_games_df['game_name'] = uc_games_df['game_name'].str.lower()\n",
    "lvl_df['game'] = lvl_df['game'].str.lower()"
   ]
  },
  {
   "cell_type": "code",
   "execution_count": 15,
   "id": "38370aa4-4628-4a28-a2b0-de16a06046f5",
   "metadata": {},
   "outputs": [],
   "source": [
    "# join the two dataframes to make new dataframe called uc_games_df_joined\n",
    "uc_games_df_joined = uc_games_df.join(lvl_df.set_index('game'), on='game_name', how='left')"
   ]
  },
  {
   "cell_type": "code",
   "execution_count": 16,
   "id": "b42c09bf-0681-4987-af84-001628ef1b23",
   "metadata": {},
   "outputs": [
    {
     "name": "stdout",
     "output_type": "stream",
     "text": [
      "Number of entries where join succeeded: 12\n",
      "Number of entries where join failed: 33\n"
     ]
    }
   ],
   "source": [
    "print(f\"Number of entries where join succeeded: {len(uc_games_df_joined.loc[~uc_games_df_joined['software'].isnull()])}\")\n",
    "print(f\"Number of entries where join failed: {len(uc_games_df_joined.loc[uc_games_df_joined['software'].isnull()])}\")"
   ]
  },
  {
   "cell_type": "markdown",
   "id": "1fba0223-9071-4bdb-b928-3cd9c20a7786",
   "metadata": {},
   "source": [
    "We see that 12 out of the 45 rows now have the anticheat system appended. We obtain the rest by checking the games one-by-one."
   ]
  },
  {
   "cell_type": "markdown",
   "id": "e1a9e933-e9d6-4503-af07-155ae54145ef",
   "metadata": {},
   "source": [
    "### Joining the data: failed joins"
   ]
  },
  {
   "cell_type": "markdown",
   "id": "433c3421-4f53-4ed8-8aa6-be5d765e6e2a",
   "metadata": {},
   "source": [
    "We create a list, anticheat_needed_games, which contains the games from unknowncheats which we need to obtain the anti-cheat information for. This is simply used as a checklist while going through the data."
   ]
  },
  {
   "cell_type": "code",
   "execution_count": 17,
   "id": "598173f6-5c61-416e-9d30-2bda93f097ea",
   "metadata": {},
   "outputs": [],
   "source": [
    "# create a list of the games we need to obtain the anticheat information for:\n",
    "anticheat_needed_games = uc_games_df_joined.loc[uc_games_df_joined['software'].isnull()]['game_name'].tolist()"
   ]
  },
  {
   "cell_type": "code",
   "execution_count": 18,
   "id": "7ca5ae50-25ce-4f3b-a7fb-becdc4545180",
   "metadata": {},
   "outputs": [
    {
     "data": {
      "text/plain": [
       "['arma series',\n",
       " 'all points bulletin',\n",
       " 'alliance of valiant arms',\n",
       " \"america's army operations\",\n",
       " 'battlefield series',\n",
       " 'call of duty series',\n",
       " 'counter strike',\n",
       " 'crossfire',\n",
       " 'crysis series',\n",
       " 'day of defeat',\n",
       " 'fear',\n",
       " 'grand theft auto v',\n",
       " 'h1z1',\n",
       " 'halo',\n",
       " 'joint operations & dfx',\n",
       " 'medal of honor series',\n",
       " 'operation 7',\n",
       " 'overwatch',\n",
       " 'payday 2',\n",
       " 'quake series',\n",
       " 'rainbow six siege',\n",
       " 'radical heights',\n",
       " 'red dead redemption 2',\n",
       " 'sea of thieves',\n",
       " 'star wars battlefront',\n",
       " 'star wars battlefront 2',\n",
       " 'sudden attack',\n",
       " 'swat 4',\n",
       " 'titanfall',\n",
       " 'team fortress 2',\n",
       " \"tom clancy's the division\",\n",
       " 'unreal tournament',\n",
       " 'war inc']"
      ]
     },
     "execution_count": 18,
     "metadata": {},
     "output_type": "execute_result"
    }
   ],
   "source": [
    "anticheat_needed_games"
   ]
  },
  {
   "cell_type": "markdown",
   "id": "d3474aa4-ba1b-4fb7-9e18-d02e0fea897f",
   "metadata": {},
   "source": [
    "#### arma series"
   ]
  },
  {
   "cell_type": "code",
   "execution_count": 19,
   "id": "090561ad-8b61-4adb-bd5a-55252f5de152",
   "metadata": {},
   "outputs": [
    {
     "data": {
      "text/html": [
       "<div>\n",
       "<style scoped>\n",
       "    .dataframe tbody tr th:only-of-type {\n",
       "        vertical-align: middle;\n",
       "    }\n",
       "\n",
       "    .dataframe tbody tr th {\n",
       "        vertical-align: top;\n",
       "    }\n",
       "\n",
       "    .dataframe thead th {\n",
       "        text-align: right;\n",
       "    }\n",
       "</style>\n",
       "<table border=\"1\" class=\"dataframe\">\n",
       "  <thead>\n",
       "    <tr style=\"text-align: right;\">\n",
       "      <th></th>\n",
       "      <th>game</th>\n",
       "      <th>software</th>\n",
       "      <th>developer</th>\n",
       "      <th>publisher</th>\n",
       "    </tr>\n",
       "  </thead>\n",
       "  <tbody>\n",
       "    <tr>\n",
       "      <th>18</th>\n",
       "      <td>arma 2</td>\n",
       "      <td>BattlEye</td>\n",
       "      <td>Bohemia Interactive</td>\n",
       "      <td>Bohemia Interactive</td>\n",
       "    </tr>\n",
       "    <tr>\n",
       "      <th>19</th>\n",
       "      <td>arma 2: operation arrowhead</td>\n",
       "      <td>BattlEye</td>\n",
       "      <td>Bohemia Interactive</td>\n",
       "      <td>505 Games</td>\n",
       "    </tr>\n",
       "    <tr>\n",
       "      <th>20</th>\n",
       "      <td>arma 3</td>\n",
       "      <td>BattlEye</td>\n",
       "      <td>Bohemia Interactive</td>\n",
       "      <td>Bohemia Interactive</td>\n",
       "    </tr>\n",
       "    <tr>\n",
       "      <th>45</th>\n",
       "      <td>battlefleet gothic: armada 2</td>\n",
       "      <td>Easy Anti-Cheat</td>\n",
       "      <td>Tindalos Interactive</td>\n",
       "      <td>Focus Home Interactive</td>\n",
       "    </tr>\n",
       "  </tbody>\n",
       "</table>\n",
       "</div>"
      ],
      "text/plain": [
       "                            game         software             developer  \\\n",
       "18                        arma 2         BattlEye   Bohemia Interactive   \n",
       "19   arma 2: operation arrowhead         BattlEye   Bohemia Interactive   \n",
       "20                        arma 3         BattlEye   Bohemia Interactive   \n",
       "45  battlefleet gothic: armada 2  Easy Anti-Cheat  Tindalos Interactive   \n",
       "\n",
       "                 publisher  \n",
       "18     Bohemia Interactive  \n",
       "19               505 Games  \n",
       "20     Bohemia Interactive  \n",
       "45  Focus Home Interactive  "
      ]
     },
     "execution_count": 19,
     "metadata": {},
     "output_type": "execute_result"
    }
   ],
   "source": [
    "# arma series\n",
    "lvl_df.loc[lvl_df['game'].str.contains('arma')]"
   ]
  },
  {
   "cell_type": "markdown",
   "id": "0a052a21-6c03-4800-ac25-1fa96526e6b6",
   "metadata": {},
   "source": [
    "According to wikipedia:\n",
    "\n",
    "\"Arma 2: Operation Arrowhead (Arma 2: OA; stylized as ARMA II: Operation Arrowhead) is a standalone expansion pack to Bohemia Interactive's tactical shooter Arma 2.\"\n",
    "\n",
    "Since *operation arrowhead* is a standalone, we will use the entry for \"arma 2\" (identical to that of \"arma 3\") for arma series."
   ]
  },
  {
   "cell_type": "code",
   "execution_count": 20,
   "id": "5a34e055-8129-468a-af9d-f4350f04b8d8",
   "metadata": {},
   "outputs": [],
   "source": [
    "# create a new dataframe containing the anticheat information for games where the join failed. doing this to make sure we are not overwriting our source data and to have a clean join later\n",
    "# we will use this to embellish our data later\n",
    "anticheat_for_nonjoins = lvl_df.loc[lvl_df['game']=='arma 2'].reset_index(drop=True)\n",
    "# change the game name in this new dataframe so the join is clean\n",
    "anticheat_for_nonjoins.loc[anticheat_for_nonjoins['game']=='arma 2', 'game'] = 'arma series'"
   ]
  },
  {
   "cell_type": "code",
   "execution_count": 21,
   "id": "725a3fc5-0af8-4456-a90a-a68abdb99b47",
   "metadata": {},
   "outputs": [
    {
     "data": {
      "text/html": [
       "<div>\n",
       "<style scoped>\n",
       "    .dataframe tbody tr th:only-of-type {\n",
       "        vertical-align: middle;\n",
       "    }\n",
       "\n",
       "    .dataframe tbody tr th {\n",
       "        vertical-align: top;\n",
       "    }\n",
       "\n",
       "    .dataframe thead th {\n",
       "        text-align: right;\n",
       "    }\n",
       "</style>\n",
       "<table border=\"1\" class=\"dataframe\">\n",
       "  <thead>\n",
       "    <tr style=\"text-align: right;\">\n",
       "      <th></th>\n",
       "      <th>game</th>\n",
       "      <th>software</th>\n",
       "      <th>developer</th>\n",
       "      <th>publisher</th>\n",
       "    </tr>\n",
       "  </thead>\n",
       "  <tbody>\n",
       "    <tr>\n",
       "      <th>0</th>\n",
       "      <td>arma series</td>\n",
       "      <td>BattlEye</td>\n",
       "      <td>Bohemia Interactive</td>\n",
       "      <td>Bohemia Interactive</td>\n",
       "    </tr>\n",
       "  </tbody>\n",
       "</table>\n",
       "</div>"
      ],
      "text/plain": [
       "          game  software            developer            publisher\n",
       "0  arma series  BattlEye  Bohemia Interactive  Bohemia Interactive"
      ]
     },
     "execution_count": 21,
     "metadata": {},
     "output_type": "execute_result"
    }
   ],
   "source": [
    "# look at resulting df\n",
    "anticheat_for_nonjoins"
   ]
  },
  {
   "cell_type": "code",
   "execution_count": 22,
   "id": "fa25c9da-8b63-4752-b680-1f6a1278def6",
   "metadata": {},
   "outputs": [],
   "source": [
    "# remove the game from our checklist since we obtained the info for it\n",
    "anticheat_needed_games.remove('arma series')"
   ]
  },
  {
   "cell_type": "markdown",
   "id": "faba7ef1-0d42-4f1e-8f10-05f668eccc9e",
   "metadata": {},
   "source": [
    "#### all points bulletin"
   ]
  },
  {
   "cell_type": "markdown",
   "id": "6e3fe04c-ed85-4f42-a590-0b7fc9baf645",
   "metadata": {},
   "source": [
    "all points bulletin was renamed to \"APB: Reloaded\" when it was purchased by a different company\n",
    "\n",
    "source: https://en.wikipedia.org/wiki/APB:_All_Points_Bulletin"
   ]
  },
  {
   "cell_type": "markdown",
   "id": "6a133be6-0a4b-4fb0-8ec4-3b0ed6036eda",
   "metadata": {},
   "source": [
    "We create a helper function so we can keep adding the anticheat entries to anticheat_needed_games dataframe:"
   ]
  },
  {
   "cell_type": "code",
   "execution_count": 23,
   "id": "d740b983-b2a9-4479-8691-b2180a0a63f9",
   "metadata": {},
   "outputs": [],
   "source": [
    "def add_anticheat_entry(uc_game_name: str, lvl_game_name: str, df: pd.DataFrame) -> pd.DataFrame:\n",
    "    \"\"\"\n",
    "    uc_game_name: game name as appears in unknowncheats\n",
    "    lvl_game_name: game name for levvvel\n",
    "    df: anticheat_for_nonjoins dataframe\n",
    "    adds game anticheat information to anticheat_for_nonjoins dataframe for clean join later\n",
    "    removes the game from the anticheat_needed_games checklist\n",
    "    \"\"\"\n",
    "    # join entry for game into anticheat_for_nonjoins\n",
    "    new_df = pd.concat([df, lvl_df.loc[lvl_df['game']==lvl_game_name]]).reset_index(drop=True)\n",
    "    # rename lvl game name to uc game name so it corresponds to unknowncheats game name\n",
    "    new_df.loc[new_df['game']==lvl_game_name, 'game'] = uc_game_name\n",
    "    \n",
    "    # remove the game from our checklist since we obtained the info for it\n",
    "    anticheat_needed_games.remove(uc_game_name)\n",
    "    \n",
    "    return new_df"
   ]
  },
  {
   "cell_type": "code",
   "execution_count": 24,
   "id": "82064dc8-0352-49a3-a3d5-8e448dc9c0f2",
   "metadata": {},
   "outputs": [],
   "source": [
    "# take data for \"apb reloaded\" for \"all points bulletin\"\n",
    "anticheat_for_nonjoins = add_anticheat_entry(uc_game_name='all points bulletin', \n",
    "                                             lvl_game_name='apb reloaded', \n",
    "                                             df=anticheat_for_nonjoins)"
   ]
  },
  {
   "cell_type": "code",
   "execution_count": 25,
   "id": "f65037a0-08a4-4e0e-aebc-54e5dff34dbe",
   "metadata": {},
   "outputs": [
    {
     "data": {
      "text/html": [
       "<div>\n",
       "<style scoped>\n",
       "    .dataframe tbody tr th:only-of-type {\n",
       "        vertical-align: middle;\n",
       "    }\n",
       "\n",
       "    .dataframe tbody tr th {\n",
       "        vertical-align: top;\n",
       "    }\n",
       "\n",
       "    .dataframe thead th {\n",
       "        text-align: right;\n",
       "    }\n",
       "</style>\n",
       "<table border=\"1\" class=\"dataframe\">\n",
       "  <thead>\n",
       "    <tr style=\"text-align: right;\">\n",
       "      <th></th>\n",
       "      <th>game</th>\n",
       "      <th>software</th>\n",
       "      <th>developer</th>\n",
       "      <th>publisher</th>\n",
       "    </tr>\n",
       "  </thead>\n",
       "  <tbody>\n",
       "    <tr>\n",
       "      <th>0</th>\n",
       "      <td>arma series</td>\n",
       "      <td>BattlEye</td>\n",
       "      <td>Bohemia Interactive</td>\n",
       "      <td>Bohemia Interactive</td>\n",
       "    </tr>\n",
       "    <tr>\n",
       "      <th>1</th>\n",
       "      <td>all points bulletin</td>\n",
       "      <td>BattlEye</td>\n",
       "      <td>Little Orbit</td>\n",
       "      <td>Little Orbit</td>\n",
       "    </tr>\n",
       "  </tbody>\n",
       "</table>\n",
       "</div>"
      ],
      "text/plain": [
       "                  game  software            developer            publisher\n",
       "0          arma series  BattlEye  Bohemia Interactive  Bohemia Interactive\n",
       "1  all points bulletin  BattlEye         Little Orbit         Little Orbit"
      ]
     },
     "execution_count": 25,
     "metadata": {},
     "output_type": "execute_result"
    }
   ],
   "source": [
    "anticheat_for_nonjoins"
   ]
  },
  {
   "cell_type": "markdown",
   "id": "24a096ef-7a74-46d9-86d9-3c50600cb2c9",
   "metadata": {},
   "source": [
    "#### alliance of valiant arms"
   ]
  },
  {
   "cell_type": "markdown",
   "id": "88142b75-bcd0-4a52-91c2-8f8bb01bdcc3",
   "metadata": {},
   "source": [
    "Alliance of valiant arms is also known as \"a.v.a\". There are two versions, \"a.v.a\" and \"a.v.a: dog tag\". According to wikipedia:\n",
    "\n",
    "\"Red Duck, Inc. attempted to self-publish a modified version of the game for these regions called Alliance of Valiant Arms: DOG TAG, launching open beta on May 2, 2019. AVA: Dog Tag was shut down on May 29, 2019.[7] The servers were also shut down for Taiwanese version on July 30, 2019 and September 25, 2019 for Chinese version.\"\n",
    "\n",
    "Since the \"dog tag\" version was shut down after a month, we select the entry for \"a.v.a\""
   ]
  },
  {
   "cell_type": "code",
   "execution_count": 26,
   "id": "ab1a1f96-0b5f-4ac6-857b-72aae7bd6880",
   "metadata": {},
   "outputs": [],
   "source": [
    "# take data for \"a.v.a\" for \"alliance of valiant arms\"\n",
    "anticheat_for_nonjoins = add_anticheat_entry(uc_game_name='alliance of valiant arms', \n",
    "                                             lvl_game_name='a.v.a', \n",
    "                                             df=anticheat_for_nonjoins)"
   ]
  },
  {
   "cell_type": "code",
   "execution_count": 27,
   "id": "fa5dcbda-adff-4302-85e1-37421ccf53e8",
   "metadata": {},
   "outputs": [
    {
     "data": {
      "text/html": [
       "<div>\n",
       "<style scoped>\n",
       "    .dataframe tbody tr th:only-of-type {\n",
       "        vertical-align: middle;\n",
       "    }\n",
       "\n",
       "    .dataframe tbody tr th {\n",
       "        vertical-align: top;\n",
       "    }\n",
       "\n",
       "    .dataframe thead th {\n",
       "        text-align: right;\n",
       "    }\n",
       "</style>\n",
       "<table border=\"1\" class=\"dataframe\">\n",
       "  <thead>\n",
       "    <tr style=\"text-align: right;\">\n",
       "      <th></th>\n",
       "      <th>game</th>\n",
       "      <th>software</th>\n",
       "      <th>developer</th>\n",
       "      <th>publisher</th>\n",
       "    </tr>\n",
       "  </thead>\n",
       "  <tbody>\n",
       "    <tr>\n",
       "      <th>0</th>\n",
       "      <td>arma series</td>\n",
       "      <td>BattlEye</td>\n",
       "      <td>Bohemia Interactive</td>\n",
       "      <td>Bohemia Interactive</td>\n",
       "    </tr>\n",
       "    <tr>\n",
       "      <th>1</th>\n",
       "      <td>all points bulletin</td>\n",
       "      <td>BattlEye</td>\n",
       "      <td>Little Orbit</td>\n",
       "      <td>Little Orbit</td>\n",
       "    </tr>\n",
       "    <tr>\n",
       "      <th>2</th>\n",
       "      <td>alliance of valiant arms</td>\n",
       "      <td>XIGNCODE3</td>\n",
       "      <td>Red Duck</td>\n",
       "      <td>Red Duck</td>\n",
       "    </tr>\n",
       "  </tbody>\n",
       "</table>\n",
       "</div>"
      ],
      "text/plain": [
       "                       game   software            developer  \\\n",
       "0               arma series   BattlEye  Bohemia Interactive   \n",
       "1       all points bulletin   BattlEye         Little Orbit   \n",
       "2  alliance of valiant arms  XIGNCODE3             Red Duck   \n",
       "\n",
       "             publisher  \n",
       "0  Bohemia Interactive  \n",
       "1         Little Orbit  \n",
       "2             Red Duck  "
      ]
     },
     "execution_count": 27,
     "metadata": {},
     "output_type": "execute_result"
    }
   ],
   "source": [
    "anticheat_for_nonjoins"
   ]
  },
  {
   "cell_type": "code",
   "execution_count": 28,
   "id": "f74102f4-31e3-405e-8f9c-fa353b9aeb65",
   "metadata": {},
   "outputs": [
    {
     "data": {
      "text/plain": [
       "[\"america's army operations\",\n",
       " 'battlefield series',\n",
       " 'call of duty series',\n",
       " 'counter strike',\n",
       " 'crossfire',\n",
       " 'crysis series',\n",
       " 'day of defeat',\n",
       " 'fear',\n",
       " 'grand theft auto v',\n",
       " 'h1z1',\n",
       " 'halo',\n",
       " 'joint operations & dfx',\n",
       " 'medal of honor series',\n",
       " 'operation 7',\n",
       " 'overwatch',\n",
       " 'payday 2',\n",
       " 'quake series',\n",
       " 'rainbow six siege',\n",
       " 'radical heights',\n",
       " 'red dead redemption 2',\n",
       " 'sea of thieves',\n",
       " 'star wars battlefront',\n",
       " 'star wars battlefront 2',\n",
       " 'sudden attack',\n",
       " 'swat 4',\n",
       " 'titanfall',\n",
       " 'team fortress 2',\n",
       " \"tom clancy's the division\",\n",
       " 'unreal tournament',\n",
       " 'war inc']"
      ]
     },
     "execution_count": 28,
     "metadata": {},
     "output_type": "execute_result"
    }
   ],
   "source": [
    "anticheat_needed_games"
   ]
  },
  {
   "cell_type": "markdown",
   "id": "2e45a315-2b6e-4124-be2d-86e993e4100e",
   "metadata": {},
   "source": [
    "#### america's army operations"
   ]
  },
  {
   "cell_type": "markdown",
   "id": "0a2aac51-a3bb-45f3-bcc2-e9a4fab54593",
   "metadata": {},
   "source": [
    "\"America's army operations\" is a series that includes \"america's army\", \"america's army 3\", and \"america's army: proving grounds\". Since there all have the same software, developer, and publisher, we will use the entry for \"america's army\"."
   ]
  },
  {
   "cell_type": "code",
   "execution_count": 29,
   "id": "c7bf58f6-e466-4649-bc93-f884276f4f1c",
   "metadata": {},
   "outputs": [],
   "source": [
    "# america's army\n",
    "anticheat_for_nonjoins = add_anticheat_entry(uc_game_name='america\\'s army operations', \n",
    "                                             lvl_game_name='america\\'s army', \n",
    "                                             df=anticheat_for_nonjoins)"
   ]
  },
  {
   "cell_type": "markdown",
   "id": "d86eaaa0-a479-4cb5-b32e-233dcf600137",
   "metadata": {},
   "source": [
    "#### battlefield series"
   ]
  },
  {
   "cell_type": "markdown",
   "id": "e79caa27-dbeb-4b21-a97b-567ec29bec26",
   "metadata": {},
   "source": [
    "Battlefield is a large series which has over a dozen games. Most of the games use PunkBuster as a software, with the exception of \"battlefield 2042\", which uses Easy Anti-Cheat. We will take the most common entries as the anticheat information for the battlefield series, but we will keep in mind that \"battlefield 2042\" is the most recent game (released in 2021) which has a different anti-cheat system."
   ]
  },
  {
   "cell_type": "code",
   "execution_count": 30,
   "id": "79f01c7d-f766-4f53-9249-da11073aac98",
   "metadata": {},
   "outputs": [
    {
     "data": {
      "text/html": [
       "<div>\n",
       "<style scoped>\n",
       "    .dataframe tbody tr th:only-of-type {\n",
       "        vertical-align: middle;\n",
       "    }\n",
       "\n",
       "    .dataframe tbody tr th {\n",
       "        vertical-align: top;\n",
       "    }\n",
       "\n",
       "    .dataframe thead th {\n",
       "        text-align: right;\n",
       "    }\n",
       "</style>\n",
       "<table border=\"1\" class=\"dataframe\">\n",
       "  <thead>\n",
       "    <tr style=\"text-align: right;\">\n",
       "      <th></th>\n",
       "      <th>game</th>\n",
       "      <th>software</th>\n",
       "      <th>developer</th>\n",
       "      <th>publisher</th>\n",
       "    </tr>\n",
       "  </thead>\n",
       "  <tbody>\n",
       "    <tr>\n",
       "      <th>34</th>\n",
       "      <td>battlefield 1942</td>\n",
       "      <td>PunkBuster</td>\n",
       "      <td>DICE</td>\n",
       "      <td>Electronic Arts</td>\n",
       "    </tr>\n",
       "    <tr>\n",
       "      <th>35</th>\n",
       "      <td>battlefield 2</td>\n",
       "      <td>PunkBuster</td>\n",
       "      <td>DICE</td>\n",
       "      <td>Electronic Arts</td>\n",
       "    </tr>\n",
       "    <tr>\n",
       "      <th>36</th>\n",
       "      <td>battlefield 2042</td>\n",
       "      <td>Easy Anti-Cheat</td>\n",
       "      <td>DICE</td>\n",
       "      <td>Electronic Arts</td>\n",
       "    </tr>\n",
       "    <tr>\n",
       "      <th>37</th>\n",
       "      <td>battlefield 2142</td>\n",
       "      <td>PunkBuster</td>\n",
       "      <td>DICE</td>\n",
       "      <td>Electronic Arts</td>\n",
       "    </tr>\n",
       "    <tr>\n",
       "      <th>38</th>\n",
       "      <td>battlefield 3</td>\n",
       "      <td>PunkBuster</td>\n",
       "      <td>DICE</td>\n",
       "      <td>Electronic Arts</td>\n",
       "    </tr>\n",
       "    <tr>\n",
       "      <th>39</th>\n",
       "      <td>battlefield 4</td>\n",
       "      <td>PunkBuster</td>\n",
       "      <td>DICE</td>\n",
       "      <td>Electronic Arts</td>\n",
       "    </tr>\n",
       "    <tr>\n",
       "      <th>40</th>\n",
       "      <td>battlefield hardline</td>\n",
       "      <td>PunkBuster</td>\n",
       "      <td>Visceral Games</td>\n",
       "      <td>Electronic Arts</td>\n",
       "    </tr>\n",
       "    <tr>\n",
       "      <th>41</th>\n",
       "      <td>battlefield heroes</td>\n",
       "      <td>PunkBuster</td>\n",
       "      <td>DICE</td>\n",
       "      <td>Electronic Arts</td>\n",
       "    </tr>\n",
       "    <tr>\n",
       "      <th>42</th>\n",
       "      <td>battlefield play4free</td>\n",
       "      <td>PunkBuster</td>\n",
       "      <td>DICE</td>\n",
       "      <td>Electronic Arts</td>\n",
       "    </tr>\n",
       "    <tr>\n",
       "      <th>43</th>\n",
       "      <td>battlefield vietnam</td>\n",
       "      <td>PunkBuster</td>\n",
       "      <td>DICE</td>\n",
       "      <td>Electronic Arts</td>\n",
       "    </tr>\n",
       "    <tr>\n",
       "      <th>44</th>\n",
       "      <td>battlefield: bad company 2</td>\n",
       "      <td>PunkBuster</td>\n",
       "      <td>DICE</td>\n",
       "      <td>Electronic Arts</td>\n",
       "    </tr>\n",
       "  </tbody>\n",
       "</table>\n",
       "</div>"
      ],
      "text/plain": [
       "                          game         software       developer  \\\n",
       "34            battlefield 1942       PunkBuster            DICE   \n",
       "35               battlefield 2       PunkBuster            DICE   \n",
       "36            battlefield 2042  Easy Anti-Cheat            DICE   \n",
       "37            battlefield 2142       PunkBuster            DICE   \n",
       "38               battlefield 3       PunkBuster            DICE   \n",
       "39               battlefield 4       PunkBuster            DICE   \n",
       "40        battlefield hardline       PunkBuster  Visceral Games   \n",
       "41          battlefield heroes       PunkBuster            DICE   \n",
       "42       battlefield play4free       PunkBuster            DICE   \n",
       "43         battlefield vietnam       PunkBuster            DICE   \n",
       "44  battlefield: bad company 2       PunkBuster            DICE   \n",
       "\n",
       "          publisher  \n",
       "34  Electronic Arts  \n",
       "35  Electronic Arts  \n",
       "36  Electronic Arts  \n",
       "37  Electronic Arts  \n",
       "38  Electronic Arts  \n",
       "39  Electronic Arts  \n",
       "40  Electronic Arts  \n",
       "41  Electronic Arts  \n",
       "42  Electronic Arts  \n",
       "43  Electronic Arts  \n",
       "44  Electronic Arts  "
      ]
     },
     "execution_count": 30,
     "metadata": {},
     "output_type": "execute_result"
    }
   ],
   "source": [
    "lvl_df.loc[lvl_df['game'].str.contains('battlefield')]"
   ]
  },
  {
   "cell_type": "code",
   "execution_count": 31,
   "id": "fe9da525-e914-4e6a-bca1-b0b1d72879c0",
   "metadata": {},
   "outputs": [],
   "source": [
    "# for battlefield series, take entry for battlefield 1942\n",
    "anticheat_for_nonjoins = add_anticheat_entry(uc_game_name='battlefield series', \n",
    "                                             lvl_game_name='battlefield 1942', \n",
    "                                             df=anticheat_for_nonjoins)"
   ]
  },
  {
   "cell_type": "markdown",
   "id": "ffc4934a-914f-4781-9c9a-464456a2bf0b",
   "metadata": {},
   "source": [
    "#### call of duty series"
   ]
  },
  {
   "cell_type": "markdown",
   "id": "f7c5fc32-6d18-418d-83df-115ddbaae761",
   "metadata": {},
   "source": [
    "Call of Duty has many games in the series with two primary anti-cheat software, which are PunkBuster (for older games) and Ricochet (for newer games). For now, we will take the entries for call of duty: modern warfare ii since it is the most recent game in the series. "
   ]
  },
  {
   "cell_type": "code",
   "execution_count": 32,
   "id": "5f6a9f8d-30e1-49aa-9d2b-04069d9f0ec9",
   "metadata": {},
   "outputs": [],
   "source": [
    "# for call of duty series, take entry for battlefield 1942\n",
    "anticheat_for_nonjoins = add_anticheat_entry(uc_game_name='call of duty series', \n",
    "                                             lvl_game_name='call of duty: modern warfare ii', \n",
    "                                             df=anticheat_for_nonjoins)"
   ]
  },
  {
   "cell_type": "markdown",
   "id": "9c5bba88-57e7-4122-b0fb-21342e385b2f",
   "metadata": {},
   "source": [
    "#### counter strike"
   ]
  },
  {
   "cell_type": "markdown",
   "id": "1f6901fb-73e5-4ea4-97d0-17fd6874f0ee",
   "metadata": {},
   "source": [
    "Counter strike has an anti-cheat system called \"Valve Anti-Cheat\" (a.k.a \"VAC\") which is by the game publisher. We will use this as their anti-cheat system.\n",
    "\n",
    "https://counterstrike.fandom.com/wiki/Valve_Anti-Cheat"
   ]
  },
  {
   "cell_type": "code",
   "execution_count": 33,
   "id": "f0e86e49-cdcb-41f2-804f-206721aacfa9",
   "metadata": {},
   "outputs": [],
   "source": [
    "# take row where software is ESEA and change game name and software accordingly\n",
    "lvl_df.loc[(lvl_df['game'].str.contains('counter'))&(lvl_df['software']=='ESEA'), 'game'] = 'counter strike'\n",
    "lvl_df.loc[(lvl_df['game'].str.contains('counter'))&(lvl_df['software']=='ESEA'), 'software'] = 'Valve Anti-Cheat'"
   ]
  },
  {
   "cell_type": "code",
   "execution_count": 34,
   "id": "0c8d4ba6-bedb-499b-a900-32333bebfbda",
   "metadata": {},
   "outputs": [],
   "source": [
    "# add to anticheat_for_nonjoins dataframe\n",
    "anticheat_for_nonjoins = add_anticheat_entry(uc_game_name='counter strike', \n",
    "                                             lvl_game_name='counter strike', \n",
    "                                             df=anticheat_for_nonjoins)"
   ]
  },
  {
   "cell_type": "markdown",
   "id": "ac14896e-ac16-4df5-a616-7e4ac6ed8c96",
   "metadata": {},
   "source": [
    "#### crossfire"
   ]
  },
  {
   "cell_type": "markdown",
   "id": "828fb61c-e092-4f3a-ad8c-1163c9af117b",
   "metadata": {},
   "source": [
    "After desktop research, the game crossfire switched anti-cheat systems in 2018 from XTrap to XIGNCODE3. Also, from the wikipedia, the publisher is Smilegate Entertainment which exists in lvl_df as \"Smilegate\". The developer is \"Wellbia\".\n",
    "\n",
    "https://crossfirefps.fandom.com/wiki/XTrap\n",
    "\n",
    "https://en.wikipedia.org/wiki/Crossfire_(2007_video_game)\n",
    "\n",
    "https://crossfirefps.fandom.com/wiki/XIGNCODE3"
   ]
  },
  {
   "cell_type": "code",
   "execution_count": 35,
   "id": "19d12df3-dab7-4298-8b64-e4eb2ec29499",
   "metadata": {},
   "outputs": [],
   "source": [
    "# create dataframe with entry for crossfire using the values from research\n",
    "crossfire_df = pd.DataFrame({'game': 'crossfire', 'software': 'XIGNCODE3', 'developer': 'Wellbia', 'publisher': 'Smilegate'}, index=[6])\n",
    "# add the data to anticheat_for_nonjoins\n",
    "anticheat_for_nonjoins = pd.concat([anticheat_for_nonjoins, crossfire_df])\n",
    "# delete crossfire_df as we do not need it anymore\n",
    "del crossfire_df\n",
    "# remove from checklist\n",
    "anticheat_needed_games.remove('crossfire')"
   ]
  },
  {
   "cell_type": "markdown",
   "id": "09054853-47cb-4386-add4-2a2adde4ded9",
   "metadata": {},
   "source": [
    "#### crysis series"
   ]
  },
  {
   "cell_type": "markdown",
   "id": "1b9d20f8-39d5-4f6e-a4f9-66b646d48b10",
   "metadata": {},
   "source": [
    "\"Crysis series\" is a series that includes a few games. Since there all have the same software, developer, and publisher, we will use the entry for \"crysis\"."
   ]
  },
  {
   "cell_type": "code",
   "execution_count": 36,
   "id": "6073fb42-44e4-4d96-9760-004758a2fa2c",
   "metadata": {},
   "outputs": [
    {
     "data": {
      "text/html": [
       "<div>\n",
       "<style scoped>\n",
       "    .dataframe tbody tr th:only-of-type {\n",
       "        vertical-align: middle;\n",
       "    }\n",
       "\n",
       "    .dataframe tbody tr th {\n",
       "        vertical-align: top;\n",
       "    }\n",
       "\n",
       "    .dataframe thead th {\n",
       "        text-align: right;\n",
       "    }\n",
       "</style>\n",
       "<table border=\"1\" class=\"dataframe\">\n",
       "  <thead>\n",
       "    <tr style=\"text-align: right;\">\n",
       "      <th></th>\n",
       "      <th>game</th>\n",
       "      <th>software</th>\n",
       "      <th>developer</th>\n",
       "      <th>publisher</th>\n",
       "    </tr>\n",
       "  </thead>\n",
       "  <tbody>\n",
       "    <tr>\n",
       "      <th>83</th>\n",
       "      <td>crysis</td>\n",
       "      <td>PunkBuster</td>\n",
       "      <td>Crytek</td>\n",
       "      <td>Electronic Arts</td>\n",
       "    </tr>\n",
       "    <tr>\n",
       "      <th>84</th>\n",
       "      <td>crysis: warhead</td>\n",
       "      <td>PunkBuster</td>\n",
       "      <td>Crytek</td>\n",
       "      <td>Electronic Arts</td>\n",
       "    </tr>\n",
       "  </tbody>\n",
       "</table>\n",
       "</div>"
      ],
      "text/plain": [
       "               game    software developer        publisher\n",
       "83           crysis  PunkBuster    Crytek  Electronic Arts\n",
       "84  crysis: warhead  PunkBuster    Crytek  Electronic Arts"
      ]
     },
     "execution_count": 36,
     "metadata": {},
     "output_type": "execute_result"
    }
   ],
   "source": [
    "lvl_df.loc[lvl_df['game'].str.lower().str.contains('crysis')]"
   ]
  },
  {
   "cell_type": "code",
   "execution_count": 37,
   "id": "f4ba8670-12b2-4de4-b756-4934a20cd793",
   "metadata": {},
   "outputs": [],
   "source": [
    "# for battlefield series, take entry for battlefield 1942\n",
    "anticheat_for_nonjoins = add_anticheat_entry(uc_game_name='crysis series', \n",
    "                                             lvl_game_name='crysis', \n",
    "                                             df=anticheat_for_nonjoins)"
   ]
  },
  {
   "cell_type": "markdown",
   "id": "fa7a519b-66a8-4dad-b286-77cabb50f855",
   "metadata": {},
   "source": [
    "#### day of defeat"
   ]
  },
  {
   "cell_type": "markdown",
   "id": "6b39e72f-b4e7-4fb8-863a-faa72557b9be",
   "metadata": {},
   "source": [
    "\"Day of defeat\" was released in 2003. It is a game by Valve, but information regarding the game's anti-cheat system is very hard to find. It will be removed from the dataset."
   ]
  },
  {
   "cell_type": "code",
   "execution_count": 38,
   "id": "f3452f96-b598-4df6-a55d-c6828151977c",
   "metadata": {},
   "outputs": [],
   "source": [
    "# drop day of defeat\n",
    "uc_games_df_joined = uc_games_df_joined.drop(uc_games_df_joined[uc_games_df_joined['game_name']=='day of defeat'].index)\n",
    "# remove from checklist\n",
    "anticheat_needed_games.remove('day of defeat')"
   ]
  },
  {
   "cell_type": "markdown",
   "id": "9034befb-891f-415f-8e6d-470dec6fe68f",
   "metadata": {},
   "source": [
    "#### fear"
   ]
  },
  {
   "cell_type": "code",
   "execution_count": 39,
   "id": "e68eea76-6e0e-43fc-a7f8-7d3903f9d989",
   "metadata": {},
   "outputs": [],
   "source": [
    "# for fear series, take entry for f.e.a.r\n",
    "anticheat_for_nonjoins = add_anticheat_entry(uc_game_name='fear', \n",
    "                                             lvl_game_name='f.e.a.r.', \n",
    "                                             df=anticheat_for_nonjoins)"
   ]
  },
  {
   "cell_type": "markdown",
   "id": "89bcdd4e-c4f9-4626-83ff-7f1937a3e5fa",
   "metadata": {},
   "source": [
    "#### grand theft auto v"
   ]
  },
  {
   "cell_type": "markdown",
   "id": "ca16933b-26f8-4ace-89e0-1f5f22c59c79",
   "metadata": {},
   "source": [
    "Grand Theft Auto V does have an anti-cheat system that is by the game's publisher. However, there is no information available on what kind of anti-cheat system it is and whether it is kernel-level. Also, GTA V is not really a traditional FPS game - it is traditionally played in third-person mode and has strong components of an RPG (roll-playing game). Therefore any cheats/hacks it has may not necessarily be related to FPS games. It will therefore be removed from the data as an anomalous game.\n",
    "\n",
    "https://www.ginx.tv/en/gta-online/anti-cheat\n",
    "\n",
    "https://www.thegamer.com/gta-v-reasons-its-a-secret-rpg-not/#:~:text=This%20has%20led%20to%20an,mixed%20with%20a%20massive%20sandbox."
   ]
  },
  {
   "cell_type": "code",
   "execution_count": 40,
   "id": "c7adfcbe-726c-4555-96a3-f28cafcc0b2a",
   "metadata": {},
   "outputs": [],
   "source": [
    "# drop grand theft auto v\n",
    "uc_games_df_joined = uc_games_df_joined.drop(uc_games_df_joined[uc_games_df_joined['game_name']=='grand theft auto v'].index)\n",
    "# remove from checklist\n",
    "anticheat_needed_games.remove('grand theft auto v')"
   ]
  },
  {
   "cell_type": "markdown",
   "id": "f9f4c069-0818-4b5b-8b14-4661b3b4944b",
   "metadata": {},
   "source": [
    "#### h1z1"
   ]
  },
  {
   "cell_type": "markdown",
   "id": "69fe0c44-1330-43c7-9d69-92bcb389e1ad",
   "metadata": {},
   "source": [
    "Z1 Battle Royale was formerly known as H1Z1. Since all the entries have the same software, developer, and publisher, we will use the entry for \"z1 battle royale\" for h1z1.\n",
    "\n",
    "https://en.wikipedia.org/wiki/Z1_Battle_Royale"
   ]
  },
  {
   "cell_type": "code",
   "execution_count": 41,
   "id": "183cdb98-ed7e-4482-9ea8-654492b9dd6f",
   "metadata": {},
   "outputs": [
    {
     "data": {
      "text/html": [
       "<div>\n",
       "<style scoped>\n",
       "    .dataframe tbody tr th:only-of-type {\n",
       "        vertical-align: middle;\n",
       "    }\n",
       "\n",
       "    .dataframe tbody tr th {\n",
       "        vertical-align: top;\n",
       "    }\n",
       "\n",
       "    .dataframe thead th {\n",
       "        text-align: right;\n",
       "    }\n",
       "</style>\n",
       "<table border=\"1\" class=\"dataframe\">\n",
       "  <thead>\n",
       "    <tr style=\"text-align: right;\">\n",
       "      <th></th>\n",
       "      <th>game</th>\n",
       "      <th>software</th>\n",
       "      <th>developer</th>\n",
       "      <th>publisher</th>\n",
       "    </tr>\n",
       "  </thead>\n",
       "  <tbody>\n",
       "    <tr>\n",
       "      <th>143</th>\n",
       "      <td>h1z1: just survive</td>\n",
       "      <td>BattlEye</td>\n",
       "      <td>Daybreak Game Company</td>\n",
       "      <td>Daybreak Game Company</td>\n",
       "    </tr>\n",
       "    <tr>\n",
       "      <th>144</th>\n",
       "      <td>h1z1: king of the hill</td>\n",
       "      <td>BattlEye</td>\n",
       "      <td>Daybreak Game Company</td>\n",
       "      <td>Daybreak Game Company</td>\n",
       "    </tr>\n",
       "    <tr>\n",
       "      <th>319</th>\n",
       "      <td>z1 battle royale</td>\n",
       "      <td>BattlEye</td>\n",
       "      <td>Daybreak Game Company</td>\n",
       "      <td>Daybreak Game Company</td>\n",
       "    </tr>\n",
       "  </tbody>\n",
       "</table>\n",
       "</div>"
      ],
      "text/plain": [
       "                       game  software              developer  \\\n",
       "143      h1z1: just survive  BattlEye  Daybreak Game Company   \n",
       "144  h1z1: king of the hill  BattlEye  Daybreak Game Company   \n",
       "319        z1 battle royale  BattlEye  Daybreak Game Company   \n",
       "\n",
       "                 publisher  \n",
       "143  Daybreak Game Company  \n",
       "144  Daybreak Game Company  \n",
       "319  Daybreak Game Company  "
      ]
     },
     "execution_count": 41,
     "metadata": {},
     "output_type": "execute_result"
    }
   ],
   "source": [
    "lvl_df.loc[lvl_df['game'].str.lower().str.contains('z1')]"
   ]
  },
  {
   "cell_type": "code",
   "execution_count": 42,
   "id": "c1b83f40-8b00-44d9-9ce9-c39a47d92dd3",
   "metadata": {},
   "outputs": [],
   "source": [
    "# for h1z1, take entry for z1 battle royale\n",
    "anticheat_for_nonjoins = add_anticheat_entry(uc_game_name='h1z1', \n",
    "                                             lvl_game_name='z1 battle royale', \n",
    "                                             df=anticheat_for_nonjoins)"
   ]
  },
  {
   "cell_type": "markdown",
   "id": "ee23ddcc-f613-41e6-a8d0-79b5c27e1ed3",
   "metadata": {},
   "source": [
    "#### halo"
   ]
  },
  {
   "cell_type": "markdown",
   "id": "204aa1c7-3529-435b-afc6-958953d2b371",
   "metadata": {},
   "source": [
    "There is only one entry in levvvel for halo which is for \"halo: the master chief collection\":"
   ]
  },
  {
   "cell_type": "code",
   "execution_count": 43,
   "id": "b2094a7a-1e66-4710-87ab-8acc3f1b7a33",
   "metadata": {},
   "outputs": [
    {
     "data": {
      "text/html": [
       "<div>\n",
       "<style scoped>\n",
       "    .dataframe tbody tr th:only-of-type {\n",
       "        vertical-align: middle;\n",
       "    }\n",
       "\n",
       "    .dataframe tbody tr th {\n",
       "        vertical-align: top;\n",
       "    }\n",
       "\n",
       "    .dataframe thead th {\n",
       "        text-align: right;\n",
       "    }\n",
       "</style>\n",
       "<table border=\"1\" class=\"dataframe\">\n",
       "  <thead>\n",
       "    <tr style=\"text-align: right;\">\n",
       "      <th></th>\n",
       "      <th>game</th>\n",
       "      <th>software</th>\n",
       "      <th>developer</th>\n",
       "      <th>publisher</th>\n",
       "    </tr>\n",
       "  </thead>\n",
       "  <tbody>\n",
       "    <tr>\n",
       "      <th>145</th>\n",
       "      <td>halo: the master chief collection</td>\n",
       "      <td>Easy Anti-Cheat</td>\n",
       "      <td>343 Industries</td>\n",
       "      <td>Xbox Game Studios</td>\n",
       "    </tr>\n",
       "  </tbody>\n",
       "</table>\n",
       "</div>"
      ],
      "text/plain": [
       "                                  game         software       developer  \\\n",
       "145  halo: the master chief collection  Easy Anti-Cheat  343 Industries   \n",
       "\n",
       "             publisher  \n",
       "145  Xbox Game Studios  "
      ]
     },
     "execution_count": 43,
     "metadata": {},
     "output_type": "execute_result"
    }
   ],
   "source": [
    "lvl_df.loc[lvl_df['game'].str.lower().str.contains('halo')]"
   ]
  },
  {
   "cell_type": "markdown",
   "id": "1be93281-ea23-4464-9dd7-9ad6b4d700ff",
   "metadata": {},
   "source": [
    "This is a bundle that includes the following six games:\n",
    "* Halo: Reach, Halo: Combat Evolved Anniversary, Halo 2: Anniversary, Halo 3, Halo 3: ODST Campaign, and Halo 4\n",
    "\n",
    "This entry will therefore be used for halo.\n",
    "\n",
    "https://store.steampowered.com/app/976730/Halo_The_Master_Chief_Collection/"
   ]
  },
  {
   "cell_type": "code",
   "execution_count": 44,
   "id": "475c712f-00d1-4d13-b8b6-2c5288c445bc",
   "metadata": {},
   "outputs": [],
   "source": [
    "# for halo, take entry for halo: the master chief collection\n",
    "anticheat_for_nonjoins = add_anticheat_entry(uc_game_name='halo', \n",
    "                                             lvl_game_name='halo: the master chief collection', \n",
    "                                             df=anticheat_for_nonjoins)"
   ]
  },
  {
   "cell_type": "markdown",
   "id": "0f39d33d-1b76-4a14-9acf-072eec343c75",
   "metadata": {},
   "source": [
    "#### joint operations & dfx"
   ]
  },
  {
   "cell_type": "markdown",
   "id": "d68fd590-39c6-48b7-a4c4-a5b98f0ba670",
   "metadata": {},
   "source": [
    "This is an entry which combines two video games: \"Joint Operations: Typhoon Rising\" and \"Delta Force Xtreme\" (dfx). Since there is no way to parse the thread counts for the games and since the games are very small anyway, we will drop this entry."
   ]
  },
  {
   "cell_type": "code",
   "execution_count": 45,
   "id": "1887dec2-816f-4366-9a9e-268b5e434cdc",
   "metadata": {},
   "outputs": [
    {
     "data": {
      "text/html": [
       "<div>\n",
       "<style scoped>\n",
       "    .dataframe tbody tr th:only-of-type {\n",
       "        vertical-align: middle;\n",
       "    }\n",
       "\n",
       "    .dataframe tbody tr th {\n",
       "        vertical-align: top;\n",
       "    }\n",
       "\n",
       "    .dataframe thead th {\n",
       "        text-align: right;\n",
       "    }\n",
       "</style>\n",
       "<table border=\"1\" class=\"dataframe\">\n",
       "  <thead>\n",
       "    <tr style=\"text-align: right;\">\n",
       "      <th></th>\n",
       "      <th>game</th>\n",
       "      <th>software</th>\n",
       "      <th>developer</th>\n",
       "      <th>publisher</th>\n",
       "    </tr>\n",
       "  </thead>\n",
       "  <tbody>\n",
       "  </tbody>\n",
       "</table>\n",
       "</div>"
      ],
      "text/plain": [
       "Empty DataFrame\n",
       "Columns: [game, software, developer, publisher]\n",
       "Index: []"
      ]
     },
     "execution_count": 45,
     "metadata": {},
     "output_type": "execute_result"
    }
   ],
   "source": [
    "lvl_df.loc[lvl_df['game'].str.lower().str.contains('delta')]"
   ]
  },
  {
   "cell_type": "code",
   "execution_count": 46,
   "id": "6547ff26-5a92-4dce-99b3-3bed77fad739",
   "metadata": {},
   "outputs": [],
   "source": [
    "# drop joint operations & dfx\n",
    "uc_games_df_joined = uc_games_df_joined.drop(uc_games_df_joined[uc_games_df_joined['game_name']=='joint operations & dfx'].index)\n",
    "# remove from checklist\n",
    "anticheat_needed_games.remove('joint operations & dfx')"
   ]
  },
  {
   "cell_type": "markdown",
   "id": "5cec389e-12f1-4543-ac32-b0d9124b0f96",
   "metadata": {},
   "source": [
    "#### medal of honor series"
   ]
  },
  {
   "cell_type": "markdown",
   "id": "0dbaaef0-04a6-49e5-83a6-082cd59f32a0",
   "metadata": {},
   "source": [
    "\"Medal of honor series\" is a series that includes \"medal of honor\", \"medal of honor: airborne\", and \"medal of honor: warfighter\". Since there all have the same software, developer, and publisher, we will use the entry for \"medal of honor\"."
   ]
  },
  {
   "cell_type": "code",
   "execution_count": 47,
   "id": "0ee66149-9ccb-4048-9157-9c75d5436bc6",
   "metadata": {},
   "outputs": [],
   "source": [
    "# for Medal of honor series, take entry for Medal of honor\n",
    "anticheat_for_nonjoins = add_anticheat_entry(uc_game_name='medal of honor series', \n",
    "                                             lvl_game_name='medal of honor', \n",
    "                                             df=anticheat_for_nonjoins)"
   ]
  },
  {
   "cell_type": "markdown",
   "id": "93ed45e3-e973-46ca-b683-09ae7f66d5c5",
   "metadata": {},
   "source": [
    "#### operation 7"
   ]
  },
  {
   "cell_type": "markdown",
   "id": "f16c5efc-dbac-4ca6-8da1-54a434ebf5a2",
   "metadata": {},
   "source": [
    "Operation 7 does not have information available on anti-cheat system. It actually does not have a wikipedia site for the game (the wikipedia site for Operation 7 is for something else). It will be removed from the data."
   ]
  },
  {
   "cell_type": "code",
   "execution_count": 48,
   "id": "b665c40b-75db-4630-97bd-dffbb1d7e166",
   "metadata": {},
   "outputs": [],
   "source": [
    "# drop operation 7\n",
    "uc_games_df_joined = uc_games_df_joined.drop(uc_games_df_joined[uc_games_df_joined['game_name']=='operation 7'].index)\n",
    "# remove from checklist\n",
    "anticheat_needed_games.remove('operation 7')"
   ]
  },
  {
   "cell_type": "markdown",
   "id": "e1c273d0-ee3f-4bf4-8a7e-057ee267c423",
   "metadata": {},
   "source": [
    "#### overwatch"
   ]
  },
  {
   "cell_type": "markdown",
   "id": "8b7df558-6146-4cc7-9664-b4449ff7bc58",
   "metadata": {},
   "source": [
    "Overwatch refers to \"Overwatch 2\", which replaced the original \"Overwatch\". The anti-cheat is the same for both and created by the game publisher."
   ]
  },
  {
   "cell_type": "code",
   "execution_count": 49,
   "id": "f4b4c5f4-bad1-4bd6-ae85-fa7ba742362f",
   "metadata": {},
   "outputs": [],
   "source": [
    "# for overwatch, take entry for overwatch 2\n",
    "anticheat_for_nonjoins = add_anticheat_entry(uc_game_name='overwatch', \n",
    "                                             lvl_game_name='overwatch 2', \n",
    "                                             df=anticheat_for_nonjoins)"
   ]
  },
  {
   "cell_type": "markdown",
   "id": "98ffc5e9-13d5-4411-afd6-9147144b97ca",
   "metadata": {},
   "source": [
    "#### payday 2"
   ]
  },
  {
   "cell_type": "markdown",
   "id": "7b0d607b-295b-4848-a241-f43476119a04",
   "metadata": {},
   "source": [
    "According to the steam community (a platform that sells many pc video games), Payday 2 does not have an anti-cheat system. We will therefore create a new category called \"None\" to denote the lack of an anti-cheat system.\n",
    "According to the wikipedia, the developer is Overkill Software and publisher is 505 Games.\n",
    "\n",
    "https://steamcommunity.com/app/218620/discussions/8/1354868867727122982/\n",
    "\n",
    "https://en.wikipedia.org/wiki/Payday_2"
   ]
  },
  {
   "cell_type": "code",
   "execution_count": 50,
   "id": "7339860c-0ffe-4ed0-8eb2-f339f3ba84b2",
   "metadata": {},
   "outputs": [],
   "source": [
    "# create dataframe with entry for payday2 using the values from research\n",
    "payday2_df = pd.DataFrame({'game': 'payday 2', 'software': 'None', 'developer': 'Overkill Software', 'publisher': '505 Games'}, index=[13])\n",
    "# add the data to anticheat_for_nonjoins\n",
    "anticheat_for_nonjoins = pd.concat([anticheat_for_nonjoins, payday2_df])\n",
    "# delete payday2_df as we do not need it anymore\n",
    "del payday2_df\n",
    "# remove from checklist\n",
    "anticheat_needed_games.remove('payday 2')"
   ]
  },
  {
   "cell_type": "markdown",
   "id": "9c21dd23-d075-4021-9d85-7de42790586d",
   "metadata": {},
   "source": [
    "#### quake series"
   ]
  },
  {
   "cell_type": "markdown",
   "id": "40e9e859-5374-420f-99ae-071e6667d16e",
   "metadata": {},
   "source": [
    "Quake series includes quake 4, quake iii arena, and quake live. Its current publisher is Bethesda Softworks. We will therefore take the entry from \"quake live\".\n",
    "\n",
    "https://en.wikipedia.org/wiki/Quake_(series)"
   ]
  },
  {
   "cell_type": "code",
   "execution_count": 51,
   "id": "a1986e00-c947-49aa-ba01-7760fdb1f71e",
   "metadata": {},
   "outputs": [],
   "source": [
    "# for quake series, take entry for quake live\n",
    "anticheat_for_nonjoins = add_anticheat_entry(uc_game_name='quake series', \n",
    "                                             lvl_game_name='quake live', \n",
    "                                             df=anticheat_for_nonjoins)"
   ]
  },
  {
   "cell_type": "markdown",
   "id": "1c3b4ffc-cddd-48bc-acb7-787d9c24a538",
   "metadata": {},
   "source": [
    "#### rainbow six siege"
   ]
  },
  {
   "cell_type": "markdown",
   "id": "e30b59cb-b032-45b8-aa40-2d12d3686cfc",
   "metadata": {},
   "source": [
    "Rainbox six siege is called \"tom clancy's rainbow six siege\" in levvvel so we rename it."
   ]
  },
  {
   "cell_type": "code",
   "execution_count": 52,
   "id": "5121f50c-db18-4165-affe-afd49f425c75",
   "metadata": {},
   "outputs": [],
   "source": [
    "# rainbow six siege\n",
    "anticheat_for_nonjoins = add_anticheat_entry(uc_game_name='rainbow six siege', \n",
    "                                             lvl_game_name='tom clancy\\'s rainbow six siege', \n",
    "                                             df=anticheat_for_nonjoins)"
   ]
  },
  {
   "cell_type": "markdown",
   "id": "4e9d2f45-fb6d-4ec6-9044-d720f70ede6d",
   "metadata": {},
   "source": [
    "#### radical heights"
   ]
  },
  {
   "cell_type": "markdown",
   "id": "a867cfad-8b75-4ff6-b174-81efad8b406c",
   "metadata": {},
   "source": [
    "Radical heights was a game which lasted less than two months. It will be removed from the dataset.\n",
    "\n",
    "https://gamingdatabase.fandom.com/wiki/Radical_Heights"
   ]
  },
  {
   "cell_type": "code",
   "execution_count": 53,
   "id": "f6c07c43-c399-4805-abee-f7db415fbd2b",
   "metadata": {},
   "outputs": [],
   "source": [
    "# drop radical heights\n",
    "uc_games_df_joined = uc_games_df_joined.drop(uc_games_df_joined[uc_games_df_joined['game_name']=='radical heights'].index)\n",
    "# remove from checklist\n",
    "anticheat_needed_games.remove('radical heights')"
   ]
  },
  {
   "cell_type": "markdown",
   "id": "eb8cf5c7-b005-448a-9001-351c30fc017a",
   "metadata": {},
   "source": [
    "#### red dead redemption 2"
   ]
  },
  {
   "cell_type": "markdown",
   "id": "fcbda1df-61b0-4f51-a8d0-ea6a4b7723cc",
   "metadata": {},
   "source": [
    "According to the Steam community, Red Dead Redemption 2 does not have an anti-cheat system. We substitute \"None\".\n",
    "It is published and developed by Rockstar Games.\n",
    "\n",
    "https://steamcommunity.com/app/1174180/discussions/0/1733258352678491181/\n",
    "\n",
    "https://en.wikipedia.org/wiki/Red_Dead_Redemption_2"
   ]
  },
  {
   "cell_type": "code",
   "execution_count": 54,
   "id": "4cbe97b2-296b-42ab-9efb-345347466a3b",
   "metadata": {},
   "outputs": [],
   "source": [
    "# create dataframe with entry for payday2 using the values from research\n",
    "rdd2_df = pd.DataFrame({'game': 'red dead redemption 2', 'software': 'None', 'developer': 'Rockstar Games', 'publisher': 'Rockstar Games'}, index=[16])\n",
    "# add the data to anticheat_for_nonjoins\n",
    "anticheat_for_nonjoins = pd.concat([anticheat_for_nonjoins, rdd2_df])\n",
    "# delete payday2_df as we do not need it anymore\n",
    "del rdd2_df\n",
    "# remove from checklist\n",
    "anticheat_needed_games.remove('red dead redemption 2')"
   ]
  },
  {
   "cell_type": "markdown",
   "id": "76490939-43b0-48c9-9e92-d71041cfd952",
   "metadata": {},
   "source": [
    "#### sea of thieves"
   ]
  },
  {
   "cell_type": "markdown",
   "id": "5b871f5b-9aec-496f-8052-6c19250110ee",
   "metadata": {},
   "source": [
    "Sea of thieves does have an anti-cheat system but after research the system name could not be found. It will therefore be removed from the dataset."
   ]
  },
  {
   "cell_type": "code",
   "execution_count": 55,
   "id": "408073a2-eecf-4cd5-b20f-ebed3c6c7ba5",
   "metadata": {},
   "outputs": [],
   "source": [
    "# drop sea of thieves\n",
    "uc_games_df_joined = uc_games_df_joined.drop(uc_games_df_joined[uc_games_df_joined['game_name']=='sea of thieves'].index)\n",
    "# remove from checklist\n",
    "anticheat_needed_games.remove('sea of thieves')"
   ]
  },
  {
   "cell_type": "markdown",
   "id": "2122da2c-d2bd-40d2-9370-a5a5720707b6",
   "metadata": {},
   "source": [
    "#### star wars battlefront and star wars battlefront 2"
   ]
  },
  {
   "cell_type": "markdown",
   "id": "44558199-367b-4226-b145-bc63167cfb89",
   "metadata": {},
   "source": [
    "According to the Steam community, both star wars battlefront and star wars battlefront 2 do not have an anti-cheat system.\n",
    "The developer is Pandemic Studios and publisher is Electronic Arts.\n",
    "\n",
    "https://steamcommunity.com/app/6060/discussions/0/1692659769948660888/\n",
    "\n",
    "https://en.wikipedia.org/wiki/Star_Wars:_Battlefront"
   ]
  },
  {
   "cell_type": "code",
   "execution_count": 56,
   "id": "3aa4def6-1330-4cf1-bcd3-b2810bee8259",
   "metadata": {},
   "outputs": [
    {
     "data": {
      "text/html": [
       "<div>\n",
       "<style scoped>\n",
       "    .dataframe tbody tr th:only-of-type {\n",
       "        vertical-align: middle;\n",
       "    }\n",
       "\n",
       "    .dataframe tbody tr th {\n",
       "        vertical-align: top;\n",
       "    }\n",
       "\n",
       "    .dataframe thead th {\n",
       "        text-align: right;\n",
       "    }\n",
       "</style>\n",
       "<table border=\"1\" class=\"dataframe\">\n",
       "  <thead>\n",
       "    <tr style=\"text-align: right;\">\n",
       "      <th></th>\n",
       "      <th>game</th>\n",
       "      <th>software</th>\n",
       "      <th>developer</th>\n",
       "      <th>publisher</th>\n",
       "    </tr>\n",
       "  </thead>\n",
       "  <tbody>\n",
       "  </tbody>\n",
       "</table>\n",
       "</div>"
      ],
      "text/plain": [
       "Empty DataFrame\n",
       "Columns: [game, software, developer, publisher]\n",
       "Index: []"
      ]
     },
     "execution_count": 56,
     "metadata": {},
     "output_type": "execute_result"
    }
   ],
   "source": [
    "lvl_df.loc[lvl_df['developer'].str.lower().str.contains('pandemic')]"
   ]
  },
  {
   "cell_type": "code",
   "execution_count": 57,
   "id": "b3453b7b-0664-4de5-beca-3c10a5416fe6",
   "metadata": {},
   "outputs": [],
   "source": [
    "# star wars battlefront\n",
    "\n",
    "# create dataframe with entry using the values from research\n",
    "sw_df = pd.DataFrame({'game': 'star wars battlefront', 'software': 'None', 'developer': 'Pandemic Studios', 'publisher': 'Electronic Arts'}, index=[17])\n",
    "# add the data to anticheat_for_nonjoins\n",
    "anticheat_for_nonjoins = pd.concat([anticheat_for_nonjoins, sw_df])\n",
    "# delete sw_df as we do not need it anymore\n",
    "del sw_df\n",
    "# remove from checklist\n",
    "anticheat_needed_games.remove('star wars battlefront')\n",
    "\n",
    "# star wars battlefront 2\n",
    "\n",
    "# create dataframe with entry using the values from research\n",
    "sw_df2 = pd.DataFrame({'game': 'star wars battlefront 2', 'software': 'None', 'developer': 'Pandemic Studios', 'publisher': 'Electronic Arts'}, index=[18])\n",
    "# add the data to anticheat_for_nonjoins\n",
    "anticheat_for_nonjoins = pd.concat([anticheat_for_nonjoins, sw_df2])\n",
    "# delete sw_df2 as we do not need it anymore\n",
    "del sw_df2\n",
    "# remove from checklist\n",
    "anticheat_needed_games.remove('star wars battlefront 2')"
   ]
  },
  {
   "cell_type": "markdown",
   "id": "29a2c038-e5b6-4efa-9d2d-f063440cb645",
   "metadata": {},
   "source": [
    "#### sudden attack"
   ]
  },
  {
   "cell_type": "markdown",
   "id": "f4ac0f4c-4d9f-443f-8320-5a0419772e5f",
   "metadata": {},
   "source": [
    "Information could not be found regarding anti-cheat system for sudden attack. It will therefore be removed from the dataset."
   ]
  },
  {
   "cell_type": "code",
   "execution_count": 58,
   "id": "bacb142e-8de4-4c23-b343-2ad5aa283413",
   "metadata": {},
   "outputs": [],
   "source": [
    "# drop sudden attack\n",
    "uc_games_df_joined = uc_games_df_joined.drop(uc_games_df_joined[uc_games_df_joined['game_name']=='sudden attack'].index)\n",
    "# remove from checklist\n",
    "anticheat_needed_games.remove('sudden attack')"
   ]
  },
  {
   "cell_type": "markdown",
   "id": "a901bef0-4172-477d-aa1c-d32bd1c49e1c",
   "metadata": {},
   "source": [
    "#### swat 4"
   ]
  },
  {
   "cell_type": "markdown",
   "id": "a536e87d-823a-4920-a262-a87c1c75ad27",
   "metadata": {},
   "source": [
    "Information could not be found regarding anti-cheat system for swat 4. It will therefore be removed from the dataset."
   ]
  },
  {
   "cell_type": "code",
   "execution_count": 59,
   "id": "9d922f33-0215-4d09-b8ae-441b2e4ed8ce",
   "metadata": {},
   "outputs": [],
   "source": [
    "# drop swat 4\n",
    "uc_games_df_joined = uc_games_df_joined.drop(uc_games_df_joined[uc_games_df_joined['game_name']=='swat 4'].index)\n",
    "# remove from checklist\n",
    "anticheat_needed_games.remove('swat 4')"
   ]
  },
  {
   "cell_type": "markdown",
   "id": "de9de613-750b-46b1-9280-5ba26b758cff",
   "metadata": {},
   "source": [
    "#### titanfall"
   ]
  },
  {
   "cell_type": "markdown",
   "id": "36054807-d1e4-495f-9862-1eca385e87c8",
   "metadata": {},
   "source": [
    "Titanfall uses an anti-cheat system called Fairfight by the third-party company Gameblocks LLC. The game publisher is Respawn Entertainment (owned by Electronic Arts)\n",
    "\n",
    "https://www.forbes.com/sites/danielnyegriffiths/2014/03/27/titanfalls-anti-cheat-system-activates-is-beautiful-and-hilarious/?sh=727f39bb35eb"
   ]
  },
  {
   "cell_type": "code",
   "execution_count": 60,
   "id": "5542eafd-241f-4f1f-b98d-b5e0461b09ec",
   "metadata": {},
   "outputs": [],
   "source": [
    "# create dataframe with entry using the values from research\n",
    "titanfall_df = pd.DataFrame({'game': 'titanfall', 'software': 'Fairfight', 'developer': 'Gameblocks', 'publisher': 'Electronic Arts'}, index=[19])\n",
    "# add the data to anticheat_for_nonjoins\n",
    "anticheat_for_nonjoins = pd.concat([anticheat_for_nonjoins, titanfall_df])\n",
    "# delete titanfall_df as we do not need it anymore\n",
    "del titanfall_df\n",
    "# remove from checklist\n",
    "anticheat_needed_games.remove('titanfall')"
   ]
  },
  {
   "cell_type": "markdown",
   "id": "e6fcd31d-b809-4372-97f1-bc9f5de15ccf",
   "metadata": {},
   "source": [
    "#### team fortress 2"
   ]
  },
  {
   "cell_type": "markdown",
   "id": "96210ddb-cb16-4142-84a3-b18029647fc9",
   "metadata": {},
   "source": [
    "Team fortress 2 uses Valve Anti-Cheat, which is the same as was used for counter strike.\n",
    "\n",
    "https://wiki.teamfortress.com/wiki/Valve_Anti-Cheat"
   ]
  },
  {
   "cell_type": "code",
   "execution_count": 61,
   "id": "6914867a-4f3f-40e7-b682-fe3ec8fede36",
   "metadata": {},
   "outputs": [],
   "source": [
    "# make new dataframe with the same anti-cheat info as counter strike\n",
    "tf2_df = lvl_df.loc[lvl_df['software'].str.lower().str.contains('valve')].copy()\n",
    "# change game name to tf2\n",
    "tf2_df['game'] = 'team fortress 2'\n",
    "# add the data to anticheat_for_nonjoins\n",
    "anticheat_for_nonjoins = pd.concat([anticheat_for_nonjoins, tf2_df])\n",
    "# delete tf2_df as we do not need it anymore\n",
    "del tf2_df\n",
    "# remove from checklist\n",
    "anticheat_needed_games.remove('team fortress 2')"
   ]
  },
  {
   "cell_type": "code",
   "execution_count": 62,
   "id": "ab5ea61d-0ebd-4200-8748-9fc8c1c0f16b",
   "metadata": {},
   "outputs": [],
   "source": [
    "# reset index\n",
    "anticheat_for_nonjoins.reset_index(inplace=True, drop=True)"
   ]
  },
  {
   "cell_type": "markdown",
   "id": "12e86bb6-86a2-4f96-aac4-8dfa16fa5b46",
   "metadata": {},
   "source": [
    "#### tom clancy's the division"
   ]
  },
  {
   "cell_type": "markdown",
   "id": "7f19ec9e-2b18-4f18-95a6-91e3e18c5b02",
   "metadata": {},
   "source": [
    "This game is named \"tom clancy's the division 2\" in levvvel. We replace the name"
   ]
  },
  {
   "cell_type": "code",
   "execution_count": 63,
   "id": "536aa366-2fb7-4dee-9d72-f85d343d0039",
   "metadata": {},
   "outputs": [],
   "source": [
    "# tom clancy's the division\n",
    "anticheat_for_nonjoins = add_anticheat_entry(uc_game_name='tom clancy\\'s the division', \n",
    "                                             lvl_game_name='tom clancy\\'s the division 2', \n",
    "                                             df=anticheat_for_nonjoins)"
   ]
  },
  {
   "cell_type": "markdown",
   "id": "1acbc201-9bcd-4ce0-b713-2604b6d7226e",
   "metadata": {},
   "source": [
    "#### unreal tournament"
   ]
  },
  {
   "cell_type": "markdown",
   "id": "e505e8d5-70cb-4ccf-bf7a-b08172d0c217",
   "metadata": {},
   "source": [
    "The Unreal Tournament series was released in 1999 and consists of many games. Because of how old the series is, there have been multiple anti-cheat systems as well as a period without anti-cheat systems. Since it does not have a clear anti-cheat system (and also because the servers for the most recent game were shut down), it will be excluded from the dataset.\n",
    "\n",
    "https://en.wikipedia.org/wiki/Unreal_Tournament\n",
    "https://en.wikipedia.org/wiki/Unreal_Tournament_3"
   ]
  },
  {
   "cell_type": "code",
   "execution_count": 64,
   "id": "cfa0bb0b-278b-4e80-92fb-e27be9cddb48",
   "metadata": {},
   "outputs": [],
   "source": [
    "# drop unreal tournament\n",
    "uc_games_df_joined = uc_games_df_joined.drop(uc_games_df_joined[uc_games_df_joined['game_name']=='unreal tournament'].index)\n",
    "# remove from checklist\n",
    "anticheat_needed_games.remove('unreal tournament')"
   ]
  },
  {
   "cell_type": "markdown",
   "id": "24757a5c-c817-461f-b282-2d84307b8909",
   "metadata": {},
   "source": [
    "#### war inc"
   ]
  },
  {
   "cell_type": "markdown",
   "id": "b53b46af-8ef5-463c-b25a-d859434c044d",
   "metadata": {},
   "source": [
    "War Inc. was published in 1997. Since the unknowncheats forum has only been running post-2000, it will be removed from the dataset (we are likely missing post entries/discussions which exist on other websites)\n",
    "\n",
    "https://en.wikipedia.org/wiki/War_Inc."
   ]
  },
  {
   "cell_type": "code",
   "execution_count": 65,
   "id": "0c60f929-774b-4187-8893-d19f5f292739",
   "metadata": {},
   "outputs": [],
   "source": [
    "# drop war inc\n",
    "uc_games_df_joined = uc_games_df_joined.drop(uc_games_df_joined[uc_games_df_joined['game_name']=='war inc'].index)\n",
    "# remove from checklist\n",
    "anticheat_needed_games.remove('war inc')"
   ]
  },
  {
   "cell_type": "markdown",
   "id": "fb9fede3-18d9-488d-b836-7187d70c31da",
   "metadata": {},
   "source": [
    "### Joining the data: joining cleaned data for failed joines"
   ]
  },
  {
   "cell_type": "markdown",
   "id": "bf81ac51-125a-41f8-b8c0-ba3079017cf4",
   "metadata": {},
   "source": [
    "We now can embellish our dataset from unknowncheats using the values obtained from research/ cleaning above."
   ]
  },
  {
   "cell_type": "code",
   "execution_count": 66,
   "id": "b75a91c4-548f-4832-a346-bacf82a57547",
   "metadata": {},
   "outputs": [],
   "source": [
    "# join uc_games_df_joined to anticheat_for_nonjoins\n",
    "uc_games_df_joined = uc_games_df_joined.join(anticheat_for_nonjoins.set_index('game'), \n",
    "                                             on='game_name', \n",
    "                                             how='left', \n",
    "                                             rsuffix='_cleaned')\n",
    "\n",
    "# replace NaNs for software, developer, and publisher with the cleaned entries\n",
    "for col in ['software', 'developer', 'publisher']:\n",
    "    cleaned_col = col + '_cleaned'\n",
    "    uc_games_df_joined[col] = np.where(uc_games_df_joined[col].isnull(), uc_games_df_joined[cleaned_col], uc_games_df_joined[col])"
   ]
  },
  {
   "cell_type": "code",
   "execution_count": 67,
   "id": "d2b01189-54be-46ec-a20c-065a6bb9ac5c",
   "metadata": {},
   "outputs": [],
   "source": [
    "# drop the \"cleaned\" columns since this data has been added to the original software, developer, and publisher columns\n",
    "uc_games_df_joined.drop(columns=[col + '_cleaned' for col in ['software', 'developer', 'publisher']], \n",
    "                        inplace=True)"
   ]
  },
  {
   "cell_type": "code",
   "execution_count": 68,
   "id": "48ded8ac-9070-47f3-868d-59c2204d2e3d",
   "metadata": {},
   "outputs": [
    {
     "data": {
      "text/plain": [
       "game_name       0\n",
       "uc_game_link    0\n",
       "uc_threads      0\n",
       "uc_posts        0\n",
       "wiki_content    0\n",
       "software        0\n",
       "developer       0\n",
       "publisher       0\n",
       "dtype: int64"
      ]
     },
     "execution_count": 68,
     "metadata": {},
     "output_type": "execute_result"
    }
   ],
   "source": [
    "# check for any nulls\n",
    "uc_games_df_joined.isnull().sum()"
   ]
  },
  {
   "cell_type": "markdown",
   "id": "e787bab9-0e18-4003-adb1-bdb66a78fb09",
   "metadata": {},
   "source": [
    "### Data Save\n",
    "\n",
    "We now have a dataset which has FPS games each having the thread and post counts from unknowncheats as well as their wikipedia entry and anticheat system. \n",
    "\n",
    "We continue cleaning and processing this in the next notebook. The data is exported below to pass to next steps in data cleaning."
   ]
  },
  {
   "cell_type": "code",
   "execution_count": 69,
   "id": "5f7cd1c2-3529-44d1-a443-a9e432b342b1",
   "metadata": {},
   "outputs": [],
   "source": [
    "# reset index\n",
    "uc_games_df_joined.reset_index(inplace=True, drop=True)\n",
    "# save uc_games_df_joined to pickle\n",
    "uc_games_df_joined.to_pickle('../data/uc_games_df_joined')"
   ]
  },
  {
   "cell_type": "markdown",
   "id": "ec8f56e8-5c4a-4fb8-b479-0d48c21f0c36",
   "metadata": {},
   "source": [
    "(sources for data): \n",
    "* https://levvvel.com/games-with-kernel-level-anti-cheat-software/\n",
    "* https://stackoverflow.com/questions/54750165/why-is-the-gethref-returning-none-on-a-bs4-element-tag\n",
    "\n",
    "for the wikipedia entries see below:"
   ]
  },
  {
   "cell_type": "code",
   "execution_count": 70,
   "id": "fd7deff6-a468-4a37-99ae-2218c08b74d3",
   "metadata": {},
   "outputs": [
    {
     "name": "stdout",
     "output_type": "stream",
     "text": [
      "https://en.wikipedia.org/wiki/Arma_(series)\n",
      "https://en.wikipedia.org/wiki/Alliance_of_Valiant_Arms\n",
      "https://en.wikipedia.org/wiki/America%27s_Army\n",
      "https://en.wikipedia.org/wiki/Battlefield_(video_game_series)\n",
      "https://en.wikipedia.org/wiki/Call_of_Duty\n",
      "https://en.wikipedia.org/wiki/Combat_arms\n",
      "https://en.wikipedia.org/wiki/Counter-Strike\n",
      "https://en.wikipedia.org/wiki/Crossfire_(2007_video_game)\n",
      "https://en.wikipedia.org/wiki/Day_of_Defeat\n",
      "https://en.wikipedia.org/wiki/Escape_from_Tarkov\n",
      "https://en.wikipedia.org/wiki/Far_Cry\n",
      "https://en.wikipedia.org/wiki/Grand_Theft_Auto_V\n",
      "https://en.wikipedia.org/wiki/Z1_Battle_Royale\n",
      "https://en.wikipedia.org/wiki/Ford_Motor_Company\n",
      "https://en.wikipedia.org/wiki/Medal_of_Honor_(video_game_series)\n",
      "https://en.wikipedia.org/wiki/Operation_7\n",
      "https://en.wikipedia.org/wiki/Paladin\n",
      "https://en.wikipedia.org/wiki/Payday_2\n",
      "https://en.wikipedia.org/wiki/PlanetSide_2\n",
      "https://en.wikipedia.org/wiki/Quake_(series)\n",
      "https://en.wikipedia.org/wiki/Tom_Clancy%27s_Rainbow_Six_Siege\n",
      "https://en.wikipedia.org/wiki/Red_Dead_Redemption_2\n",
      "https://en.wikipedia.org/wiki/Star_Wars:_Battlefront\n",
      "https://en.wikipedia.org/wiki/Star_Wars_Battlefront_II_(2017_video_game)\n",
      "https://en.wikipedia.org/wiki/Sudden_Attack\n",
      "https://en.wikipedia.org/wiki/Team_Fortress_2\n",
      "https://en.wikipedia.org/wiki/Tom_Clancy%27s_The_Division\n",
      "https://en.wikipedia.org/wiki/Unreal_Tournament\n",
      "https://en.wikipedia.org/wiki/War,_Inc.\n",
      "https://en.wikipedia.org/wiki/War_Rock\n",
      "https://en.wikipedia.org/wiki/All-points_bulletin\n",
      "https://en.wikipedia.org/wiki/Apex_Legends\n",
      "https://en.wikipedia.org/wiki/Overwatch\n",
      "https://en.wikipedia.org/wiki/PUBG:_Battlegrounds\n",
      "https://en.wikipedia.org/wiki/Boss_Key_Productions\n",
      "https://en.wikipedia.org/wiki/Rust\n",
      "https://en.wikipedia.org/wiki/Sea_of_Thieves\n",
      "https://en.wikipedia.org/wiki/Splitgate\n",
      "https://en.wikipedia.org/wiki/Titanfall\n",
      "https://en.wikipedia.org/wiki/Valorant\n",
      "https://en.wikipedia.org/wiki/Warface\n",
      "https://en.wikipedia.org/wiki/Crysis\n",
      "https://en.wikipedia.org/wiki/F.E.A.R._(video_game)\n",
      "https://en.wikipedia.org/wiki/Halo_(franchise)\n",
      "https://en.wikipedia.org/wiki/SWAT_4\n",
      "https://en.wikipedia.org/wiki/APB:_All_Points_Bulletin\n",
      "https://en.wikipedia.org/wiki/Combat_Arms\n",
      "https://en.wikipedia.org/wiki/Paladins_(video_game)\n",
      "https://en.wikipedia.org/wiki/Rust_(video_game)\n"
     ]
    }
   ],
   "source": [
    "for source in wikipedia_sources:\n",
    "    print(f'{source}')"
   ]
  }
 ],
 "metadata": {
  "kernelspec": {
   "display_name": "Python 3 (ipykernel)",
   "language": "python",
   "name": "python3"
  },
  "language_info": {
   "codemirror_mode": {
    "name": "ipython",
    "version": 3
   },
   "file_extension": ".py",
   "mimetype": "text/x-python",
   "name": "python",
   "nbconvert_exporter": "python",
   "pygments_lexer": "ipython3",
   "version": "3.9.13"
  }
 },
 "nbformat": 4,
 "nbformat_minor": 5
}
