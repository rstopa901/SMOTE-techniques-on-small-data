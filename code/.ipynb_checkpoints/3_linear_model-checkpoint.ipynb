{
 "cells": [
  {
   "cell_type": "code",
   "execution_count": 33,
   "id": "cb7757ea-dbf1-4938-a83c-d1d89fcd6d32",
   "metadata": {},
   "outputs": [],
   "source": [
    "import numpy as np\n",
    "import pandas as pd\n",
    "import pickle\n",
    "\n",
    "from sklearn.model_selection import train_test_split, cross_val_score\n",
    "from sklearn.linear_model import LinearRegression\n",
    "from nltk.stem import WordNetLemmatizer\n",
    "from nltk.corpus import stopwords\n",
    "from sklearn.feature_extraction.text import TfidfVectorizer\n",
    "from sklearn.preprocessing import OneHotEncoder\n",
    "from sklearn.compose import ColumnTransformer\n",
    "from sklearn.metrics import r2_score, mean_squared_error\n",
    "import seaborn as sns"
   ]
  },
  {
   "cell_type": "markdown",
   "id": "1a1010e8-0e8d-4e40-938c-813bdb262902",
   "metadata": {},
   "source": [
    "#### Reading data"
   ]
  },
  {
   "cell_type": "code",
   "execution_count": 2,
   "id": "e56d38fc-5a38-41ce-8bba-704858a997f3",
   "metadata": {},
   "outputs": [],
   "source": [
    "uc_games_df_joined = pd.read_pickle('../data/uc_games_df_clean')"
   ]
  },
  {
   "cell_type": "markdown",
   "id": "80b84f7d-d420-49a6-81ca-750eccd5ca1d",
   "metadata": {},
   "source": [
    "### Modeling Approach\n",
    "\n",
    "For our modeling approach, we will first construct a simple linear model. Because the data is small, we are very concerned with model over-fitting - using a simple model is the best approach to combat over-fitting.\n",
    "\n",
    "https://towardsdatascience.com/7-tips-for-dealing-with-small-data-7ffbd3d399a3\n",
    "\n",
    "https://hackernoon.com/7-effective-ways-to-deal-with-a-small-dataset-2gyl407s"
   ]
  },
  {
   "cell_type": "markdown",
   "id": "8bd247a9-9685-4789-aa98-7c323eb61c68",
   "metadata": {},
   "source": [
    "Since it is a multivariate linear model, we need to check for assumptions of linearity:\n",
    "\n",
    "1. Linear relationship\n",
    "2. Multivariate normality\n",
    "3. No or little multicollinearity\n",
    "4. No auto-correlation\n",
    "5. Homoscedasticity\n",
    "\n",
    "We likely will not meet these assumptions purely due to the small data size."
   ]
  },
  {
   "cell_type": "markdown",
   "id": "a546d6c7-65a7-4172-a521-243d50893a75",
   "metadata": {},
   "source": [
    "Our explanatory variables are:\n",
    "1. `software`\n",
    "2. `wiki_content` (using NLP)\n",
    "3. New variable for whether the developer and publisher are the same company. This is of interest since it is indicative of a large company which released the game."
   ]
  },
  {
   "cell_type": "code",
   "execution_count": 3,
   "id": "05d1373c-4202-426c-8a25-ae68478a81c0",
   "metadata": {},
   "outputs": [],
   "source": [
    "### Define third variable above for if publisher and developer are same company\n",
    "# 1 if they match, 0 if they are different\n",
    "uc_games_df_joined['pub_dev_same'] = np.where(uc_games_df_joined['developer']==uc_games_df_joined['publisher'], 1, 0)"
   ]
  },
  {
   "cell_type": "code",
   "execution_count": 4,
   "id": "b28cfeb3-43e2-4232-8921-2811b97270bf",
   "metadata": {},
   "outputs": [
    {
     "data": {
      "text/html": [
       "<div>\n",
       "<style scoped>\n",
       "    .dataframe tbody tr th:only-of-type {\n",
       "        vertical-align: middle;\n",
       "    }\n",
       "\n",
       "    .dataframe tbody tr th {\n",
       "        vertical-align: top;\n",
       "    }\n",
       "\n",
       "    .dataframe thead th {\n",
       "        text-align: right;\n",
       "    }\n",
       "</style>\n",
       "<table border=\"1\" class=\"dataframe\">\n",
       "  <thead>\n",
       "    <tr style=\"text-align: right;\">\n",
       "      <th></th>\n",
       "      <th>pub_dev_same</th>\n",
       "    </tr>\n",
       "  </thead>\n",
       "  <tbody>\n",
       "    <tr>\n",
       "      <th>1</th>\n",
       "      <td>18</td>\n",
       "    </tr>\n",
       "    <tr>\n",
       "      <th>0</th>\n",
       "      <td>17</td>\n",
       "    </tr>\n",
       "  </tbody>\n",
       "</table>\n",
       "</div>"
      ],
      "text/plain": [
       "   pub_dev_same\n",
       "1            18\n",
       "0            17"
      ]
     },
     "execution_count": 4,
     "metadata": {},
     "output_type": "execute_result"
    }
   ],
   "source": [
    "### Quickly examine the value counts for pub_dev_same:\n",
    "uc_games_df_joined['pub_dev_same'].value_counts().to_frame()"
   ]
  },
  {
   "cell_type": "markdown",
   "id": "cfffe33c-eba4-45ad-8c8c-fb8c123aec20",
   "metadata": {},
   "source": [
    "We see that there is a pretty fair split in `pub_dev_same`"
   ]
  },
  {
   "cell_type": "code",
   "execution_count": 5,
   "id": "80206168-bcd1-4ee9-b222-bdc7d246d439",
   "metadata": {},
   "outputs": [
    {
     "data": {
      "text/html": [
       "<div>\n",
       "<style scoped>\n",
       "    .dataframe tbody tr th:only-of-type {\n",
       "        vertical-align: middle;\n",
       "    }\n",
       "\n",
       "    .dataframe tbody tr th {\n",
       "        vertical-align: top;\n",
       "    }\n",
       "\n",
       "    .dataframe thead th {\n",
       "        text-align: right;\n",
       "    }\n",
       "</style>\n",
       "<table border=\"1\" class=\"dataframe\">\n",
       "  <thead>\n",
       "    <tr style=\"text-align: right;\">\n",
       "      <th></th>\n",
       "      <th>game_name</th>\n",
       "      <th>uc_game_link</th>\n",
       "      <th>uc_threads</th>\n",
       "      <th>uc_posts</th>\n",
       "      <th>wiki_content</th>\n",
       "      <th>software</th>\n",
       "      <th>developer</th>\n",
       "      <th>publisher</th>\n",
       "      <th>wiki_content_length</th>\n",
       "      <th>pub_dev_same</th>\n",
       "    </tr>\n",
       "  </thead>\n",
       "  <tbody>\n",
       "    <tr>\n",
       "      <th>0</th>\n",
       "      <td>arma series</td>\n",
       "      <td>https://www.unknowncheats.me/forum/arma-series...</td>\n",
       "      <td>995.0</td>\n",
       "      <td>15274.5</td>\n",
       "      <td>arma sometimes stylised as arma is a series of...</td>\n",
       "      <td>battleye</td>\n",
       "      <td>bohemia interactive</td>\n",
       "      <td>bohemia interactive</td>\n",
       "      <td>3061</td>\n",
       "      <td>1</td>\n",
       "    </tr>\n",
       "    <tr>\n",
       "      <th>1</th>\n",
       "      <td>all points bulletin</td>\n",
       "      <td>https://www.unknowncheats.me/forum/all-points-...</td>\n",
       "      <td>1362.0</td>\n",
       "      <td>27077.0</td>\n",
       "      <td>apb all points bulletin is an open world multi...</td>\n",
       "      <td>battleye</td>\n",
       "      <td>little orbit</td>\n",
       "      <td>little orbit</td>\n",
       "      <td>10855</td>\n",
       "      <td>1</td>\n",
       "    </tr>\n",
       "  </tbody>\n",
       "</table>\n",
       "</div>"
      ],
      "text/plain": [
       "             game_name                                       uc_game_link  \\\n",
       "0          arma series  https://www.unknowncheats.me/forum/arma-series...   \n",
       "1  all points bulletin  https://www.unknowncheats.me/forum/all-points-...   \n",
       "\n",
       "   uc_threads  uc_posts                                       wiki_content  \\\n",
       "0       995.0   15274.5  arma sometimes stylised as arma is a series of...   \n",
       "1      1362.0   27077.0  apb all points bulletin is an open world multi...   \n",
       "\n",
       "   software            developer            publisher  wiki_content_length  \\\n",
       "0  battleye  bohemia interactive  bohemia interactive                 3061   \n",
       "1  battleye         little orbit         little orbit                10855   \n",
       "\n",
       "   pub_dev_same  \n",
       "0             1  \n",
       "1             1  "
      ]
     },
     "execution_count": 5,
     "metadata": {},
     "output_type": "execute_result"
    }
   ],
   "source": [
    "uc_games_df_joined.head(2)"
   ]
  },
  {
   "cell_type": "markdown",
   "id": "a3abd191-02c0-49ee-a084-cfe149a0a5cd",
   "metadata": {},
   "source": [
    "#### Linear Relationship"
   ]
  },
  {
   "cell_type": "markdown",
   "id": "62bbc253-a781-4cf8-a79f-40c65f06ea03",
   "metadata": {},
   "source": [
    "Since `software` and `pub_dev_same` are categorical, we do not need to test for linearity.\n",
    "\n",
    "Source: https://365datascience.com/question/how-do-dummy-variables-meet-the-linearity-assumption/"
   ]
  },
  {
   "cell_type": "markdown",
   "id": "9ddc528f-a7a2-4b05-bdb0-d400f2e91aed",
   "metadata": {},
   "source": [
    "#### Multivariate normality\n",
    "\n",
    "Since `software` and `pub_dev_same` are categorical, the data is not \"normal\" (checking for normality of nominal data does not make sense).\n",
    "\n",
    "Source: software and pub_dev_same are categorical, w"
   ]
  },
  {
   "cell_type": "markdown",
   "id": "4bec84c6-0c24-43e7-a0b2-9b09331f4ca9",
   "metadata": {},
   "source": [
    "#### No or little multicollinearity\n",
    "\n",
    "We will not examine multicollinearity since we only have categorical variables"
   ]
  },
  {
   "cell_type": "markdown",
   "id": "3d636b59-a0e8-4d47-9717-a6416c64681e",
   "metadata": {},
   "source": [
    "#### No auto-correlation\n",
    "\n",
    "Since we do not have time series data, assume there is no auto-correlation"
   ]
  },
  {
   "cell_type": "markdown",
   "id": "9e4f99ae-34cd-4cf9-8d0b-e047a7cbd2a7",
   "metadata": {},
   "source": [
    "#### Homoscedasticity\n",
    "(this will be addressed by the residuals vs. fits plot at the end of the page)"
   ]
  },
  {
   "cell_type": "markdown",
   "id": "952d236b-e66b-4fa0-88c8-49e432fbf239",
   "metadata": {},
   "source": [
    "### Model"
   ]
  },
  {
   "cell_type": "markdown",
   "id": "c0d8e220-4b6f-476a-982d-dc7bec84f04d",
   "metadata": {},
   "source": [
    "Since the data is small, our random seed and train-test split matter a lot. In this case, we will alter the random state to make is such that the `pub_dev_same` and our `y` are about even.\n",
    "\n",
    "source: https://towardsdatascience.com/7-tips-for-dealing-with-small-data-7ffbd3d399a3"
   ]
  },
  {
   "cell_type": "code",
   "execution_count": 6,
   "id": "a8655916-4057-4091-af15-6830694d9071",
   "metadata": {},
   "outputs": [],
   "source": [
    "# defining X and y\n",
    "X = uc_games_df_joined.drop(columns=['uc_posts', 'game_name', 'uc_game_link', 'uc_threads', 'developer', 'publisher', 'wiki_content_length'])\n",
    "y = uc_games_df_joined['uc_posts']"
   ]
  },
  {
   "cell_type": "code",
   "execution_count": 7,
   "id": "62e7cc0e-540f-49f8-9c6a-1dbb73c8fc88",
   "metadata": {},
   "outputs": [],
   "source": [
    "# train test split the data\n",
    "# we make sure to use stratify as it is a small dataset\n",
    "# note: cannot use stratify because I don't have sufficient class labels of one of your classes to keep the data splitting ratio equal to test_size\n",
    "# source: https://github.com/davidsbatista/text-classification/issues/1\n",
    "\n",
    "X_train, X_test, y_train, y_test = train_test_split(X, \n",
    "                                                    y, \n",
    "                                                    random_state=5, \n",
    "                                                    test_size=0.2)"
   ]
  },
  {
   "cell_type": "code",
   "execution_count": 8,
   "id": "420db512-f2b1-4dd1-bd0e-c73d4424b29c",
   "metadata": {},
   "outputs": [],
   "source": [
    "# saving index\n",
    "train_index = y_train.index\n",
    "test_index = y_test.index"
   ]
  },
  {
   "cell_type": "code",
   "execution_count": 9,
   "id": "1411f2dd-1db5-4ddf-897c-aaeb6a5f262c",
   "metadata": {},
   "outputs": [
    {
     "data": {
      "text/html": [
       "<div>\n",
       "<style scoped>\n",
       "    .dataframe tbody tr th:only-of-type {\n",
       "        vertical-align: middle;\n",
       "    }\n",
       "\n",
       "    .dataframe tbody tr th {\n",
       "        vertical-align: top;\n",
       "    }\n",
       "\n",
       "    .dataframe thead th {\n",
       "        text-align: right;\n",
       "    }\n",
       "</style>\n",
       "<table border=\"1\" class=\"dataframe\">\n",
       "  <thead>\n",
       "    <tr style=\"text-align: right;\">\n",
       "      <th></th>\n",
       "      <th>pub_dev_same</th>\n",
       "    </tr>\n",
       "  </thead>\n",
       "  <tbody>\n",
       "    <tr>\n",
       "      <th>0</th>\n",
       "      <td>14</td>\n",
       "    </tr>\n",
       "    <tr>\n",
       "      <th>1</th>\n",
       "      <td>14</td>\n",
       "    </tr>\n",
       "  </tbody>\n",
       "</table>\n",
       "</div>"
      ],
      "text/plain": [
       "   pub_dev_same\n",
       "0            14\n",
       "1            14"
      ]
     },
     "execution_count": 9,
     "metadata": {},
     "output_type": "execute_result"
    }
   ],
   "source": [
    "# check that pub_dev_same is ~50% \n",
    "X_train['pub_dev_same'].value_counts().to_frame()"
   ]
  },
  {
   "cell_type": "code",
   "execution_count": 10,
   "id": "4c019afb-4d6a-4fee-9fe3-b745aadc8ab8",
   "metadata": {},
   "outputs": [
    {
     "data": {
      "text/plain": [
       "(36611.3231292517, 35986.031746031746)"
      ]
     },
     "execution_count": 10,
     "metadata": {},
     "output_type": "execute_result"
    }
   ],
   "source": [
    "# check y distribution\n",
    "y_train.mean(), y_test.mean()"
   ]
  },
  {
   "cell_type": "markdown",
   "id": "2668482b-926a-4c3d-92a7-9415b53701a2",
   "metadata": {},
   "source": [
    "Next we separate the wiki_content as we have to use NLP on it:"
   ]
  },
  {
   "cell_type": "code",
   "execution_count": 11,
   "id": "876ca95d-e201-48ef-b708-311247b6e50b",
   "metadata": {},
   "outputs": [],
   "source": [
    "# train\n",
    "X_train_nlp = X_train[['wiki_content']]\n",
    "X_train_other = X_train[['software', 'pub_dev_same']]\n",
    "\n",
    "# test\n",
    "X_test_nlp = X_test[['wiki_content']]\n",
    "X_test_other = X_test[['software', 'pub_dev_same']]"
   ]
  },
  {
   "cell_type": "markdown",
   "id": "ec2b6d57-f444-483e-9a7a-0056da5df0b8",
   "metadata": {},
   "source": [
    "### NLP"
   ]
  },
  {
   "cell_type": "markdown",
   "id": "96f5f79a-f670-4eef-a502-6fe0fbc7f6e1",
   "metadata": {},
   "source": [
    "We use NLP for `wiki_content`"
   ]
  },
  {
   "cell_type": "markdown",
   "id": "e0954a6c-0194-4ad2-81d5-f5cdf4121dbd",
   "metadata": {},
   "source": [
    "First we lemmatize and remove stop words from the wiki entries (using nltk):"
   ]
  },
  {
   "cell_type": "code",
   "execution_count": 12,
   "id": "8124557a-a675-43f6-b67c-61c4e9f0c179",
   "metadata": {},
   "outputs": [],
   "source": [
    "def get_relevant_lemmas(text):\n",
    "    '''\n",
    "    This function takes in a string of text and returns that same string\n",
    "    with all english stop words removed and all remaining words lemmatized.\n",
    "    \n",
    "    Parameters\n",
    "    ----------\n",
    "    text: A string of english text.\n",
    "    \n",
    "    Returns\n",
    "    -------\n",
    "    A lemmatized string of english text with no stop words.\n",
    "    '''\n",
    "    lemmatizer = WordNetLemmatizer()\n",
    "    stop_words = set(stopwords.words('english'))\n",
    "    return \" \".join([lemmatizer.lemmatize(word) for word in text.split() if not word.lower() in stop_words])\n",
    "\n",
    "# note: this is a function from Bruno Barreto we used together for our group project"
   ]
  },
  {
   "cell_type": "code",
   "execution_count": 13,
   "id": "3b87cd00-6e4e-4c7a-875e-b2c1ff561cb7",
   "metadata": {},
   "outputs": [],
   "source": [
    "# lemmatize and remove stop words\n",
    "X_train_nlp_lemmatized = X_train_nlp.applymap(get_relevant_lemmas)\n",
    "X_test_nlp_lemmatized = X_test_nlp.applymap(get_relevant_lemmas)"
   ]
  },
  {
   "cell_type": "markdown",
   "id": "621c27b0-bb97-496c-8bc0-f45a72615e52",
   "metadata": {},
   "source": [
    "#### TFIDF\n",
    "\n",
    "We use tfidf as we have a wiki content length range from 3,061 to 51,900"
   ]
  },
  {
   "cell_type": "code",
   "execution_count": 14,
   "id": "81f7e445-81f3-4ff7-b3f2-a584c31e798b",
   "metadata": {},
   "outputs": [
    {
     "data": {
      "text/plain": [
       "(3061, 51900)"
      ]
     },
     "execution_count": 14,
     "metadata": {},
     "output_type": "execute_result"
    }
   ],
   "source": [
    "uc_games_df_joined['wiki_content_length'].min(), uc_games_df_joined['wiki_content_length'].max()"
   ]
  },
  {
   "cell_type": "code",
   "execution_count": 15,
   "id": "317d844e-4035-4706-883a-44881f69c0bc",
   "metadata": {},
   "outputs": [],
   "source": [
    "# define tfidf instance\n",
    "tfidf = TfidfVectorizer()\n",
    "# fit to train\n",
    "tfidf.fit(X_train_nlp_lemmatized['wiki_content'])\n",
    "# transform X_train and make dataframe\n",
    "X_train_nlp_tfidf = pd.DataFrame(tfidf.transform(X_train_nlp_lemmatized['wiki_content']).todense(), columns=tfidf.get_feature_names_out())\n",
    "# transform X_test and make dataframe\n",
    "X_test_nlp_tfidf = pd.DataFrame(tfidf.transform(X_test_nlp_lemmatized['wiki_content']).todense(), columns=tfidf.get_feature_names_out())"
   ]
  },
  {
   "cell_type": "code",
   "execution_count": 16,
   "id": "57c2d5c1-ad5e-4c3e-b707-7b383bc5d605",
   "metadata": {},
   "outputs": [
    {
     "data": {
      "text/plain": [
       "((28, 8819), (7, 8819))"
      ]
     },
     "execution_count": 16,
     "metadata": {},
     "output_type": "execute_result"
    }
   ],
   "source": [
    "# look at shape\n",
    "X_train_nlp_tfidf.shape, X_test_nlp_tfidf.shape"
   ]
  },
  {
   "cell_type": "markdown",
   "id": "c2b360d0-6c15-46db-bd68-224433d703ea",
   "metadata": {},
   "source": [
    "#### One-Hot Encoder"
   ]
  },
  {
   "cell_type": "markdown",
   "id": "59ff6352-72cc-4ad9-8f26-e615c182fa16",
   "metadata": {},
   "source": [
    "Next we use one-hot encoder to encode `software` and `pub_dev_same` since they are categorical"
   ]
  },
  {
   "cell_type": "code",
   "execution_count": 18,
   "id": "0d9efc96-cc31-4b42-9ea2-e01d7b439f0a",
   "metadata": {},
   "outputs": [],
   "source": [
    "ct = ColumnTransformer([('onehot', OneHotEncoder(drop='first', handle_unknown='ignore'), \n",
    "                                    ['software', 'pub_dev_same'])], \n",
    "                                  verbose_feature_names_out = False)\n",
    "ct.fit(X_train_other)\n",
    "X_train_other_ohe = pd.DataFrame(ct.transform(X_train_other).todense(), columns=ct.get_feature_names_out())\n",
    "X_test_other_ohe = pd.DataFrame(ct.transform(X_test_other).todense(), columns=ct.get_feature_names_out())"
   ]
  },
  {
   "cell_type": "code",
   "execution_count": 19,
   "id": "b34362d9-eea4-49f6-863d-4336490b2a85",
   "metadata": {},
   "outputs": [
    {
     "data": {
      "text/plain": [
       "software_defense matrix      0.0\n",
       "software_easy anti-cheat     2.0\n",
       "software_equ8                0.0\n",
       "software_fairfight           0.0\n",
       "software_none                0.0\n",
       "software_punkbuster          3.0\n",
       "software_ricochet            0.0\n",
       "software_valve anti-cheat    0.0\n",
       "software_vanguard            0.0\n",
       "software_xigncode3           0.0\n",
       "pub_dev_same_1               4.0\n",
       "dtype: float64"
      ]
     },
     "execution_count": 19,
     "metadata": {},
     "output_type": "execute_result"
    }
   ],
   "source": [
    "X_test_other_ohe.sum()"
   ]
  },
  {
   "cell_type": "markdown",
   "id": "f366160e-d7ab-4b8b-8e25-49d8c2a3b258",
   "metadata": {},
   "source": [
    "We see from the warning that the transformation on the training set did not find all categories because of the small data size. We proceed and keep this in mind as it is expected with the small data size."
   ]
  },
  {
   "cell_type": "markdown",
   "id": "e09a37a7-e64f-4198-aa07-fc3015440bcb",
   "metadata": {},
   "source": [
    "Combining back the data"
   ]
  },
  {
   "cell_type": "code",
   "execution_count": 20,
   "id": "11e70703-916b-4178-a63d-8f483c7f7a80",
   "metadata": {},
   "outputs": [],
   "source": [
    "# Combining datasets\n",
    "X_train_preprocessed = pd.concat([X_train_nlp_tfidf, X_train_other_ohe], axis=1)\n",
    "X_test_preprocessed = pd.concat([X_test_nlp_tfidf, X_test_other_ohe], axis=1)"
   ]
  },
  {
   "cell_type": "code",
   "execution_count": 21,
   "id": "51de6409-e24b-476e-bfda-9bd12f2ba9aa",
   "metadata": {},
   "outputs": [
    {
     "data": {
      "text/plain": [
       "((28, 8830), (7, 8830))"
      ]
     },
     "execution_count": 21,
     "metadata": {},
     "output_type": "execute_result"
    }
   ],
   "source": [
    "X_train_preprocessed.shape, X_test_preprocessed.shape"
   ]
  },
  {
   "cell_type": "markdown",
   "id": "4de8344a-d805-43c6-b5a1-20072f36f280",
   "metadata": {},
   "source": [
    "### Linear Regression\n",
    "\n",
    "Next, we perform a linear regression on the data. We choose linear regression because our data is prone to having overfit models due to its small size, so simple models are better. Furthermore, we want interpretable results for our problem statement."
   ]
  },
  {
   "cell_type": "code",
   "execution_count": 22,
   "id": "e0b7cbb9-540f-45cd-98aa-0e6e5ff08c64",
   "metadata": {},
   "outputs": [
    {
     "data": {
      "text/plain": [
       "LinearRegression()"
      ]
     },
     "execution_count": 22,
     "metadata": {},
     "output_type": "execute_result"
    }
   ],
   "source": [
    "# instantiate linear regression\n",
    "lr = LinearRegression()\n",
    "# fit to encoded training data\n",
    "lr.fit(X_train_preprocessed, y_train)"
   ]
  },
  {
   "cell_type": "code",
   "execution_count": 23,
   "id": "69d649e8-70af-45a7-88c0-51b8e6902405",
   "metadata": {},
   "outputs": [
    {
     "data": {
      "text/plain": [
       "-9.610316694974586e-05"
      ]
     },
     "execution_count": 23,
     "metadata": {},
     "output_type": "execute_result"
    }
   ],
   "source": [
    "base_1 = [y_train.mean()] * len(y_test)\n",
    "r2_score(y_test, base_1)"
   ]
  },
  {
   "cell_type": "code",
   "execution_count": 24,
   "id": "5f4e315f-8f50-45d0-a57a-a0052ab7851c",
   "metadata": {},
   "outputs": [
    {
     "data": {
      "text/plain": [
       "36611.3231292517"
      ]
     },
     "execution_count": 24,
     "metadata": {},
     "output_type": "execute_result"
    }
   ],
   "source": [
    "y_train.mean()"
   ]
  },
  {
   "cell_type": "code",
   "execution_count": 25,
   "id": "5a98d47e-9b4a-46cd-bfd2-63a9da9dc631",
   "metadata": {},
   "outputs": [
    {
     "data": {
      "text/plain": [
       "-46.884"
      ]
     },
     "execution_count": 25,
     "metadata": {},
     "output_type": "execute_result"
    }
   ],
   "source": [
    "# check cross_val_score\n",
    "cross_val_score(lr, X_train_preprocessed, y_train).mean().round(3)"
   ]
  },
  {
   "cell_type": "code",
   "execution_count": 26,
   "id": "8ec2c81a-941f-4749-b7b9-d44eceec3e94",
   "metadata": {},
   "outputs": [
    {
     "data": {
      "text/plain": [
       "(1.0, -0.35)"
      ]
     },
     "execution_count": 26,
     "metadata": {},
     "output_type": "execute_result"
    }
   ],
   "source": [
    "# check r-squared for train and test\n",
    "lr.score(X_train_preprocessed, y_train).round(10), lr.score(X_test_preprocessed, y_test).round(3)"
   ]
  },
  {
   "cell_type": "code",
   "execution_count": 27,
   "id": "90927897-4aea-4715-a88a-03185f2ae9ff",
   "metadata": {},
   "outputs": [
    {
     "data": {
      "text/plain": [
       "36486.26485260771"
      ]
     },
     "execution_count": 27,
     "metadata": {},
     "output_type": "execute_result"
    }
   ],
   "source": [
    "y.mean()"
   ]
  },
  {
   "cell_type": "markdown",
   "id": "d9118e8c-afcd-4918-a0d8-32c0c1f02c52",
   "metadata": {},
   "source": [
    "* Since the train score is 1 and the test score is negative, we have a horrible, overfit model\n",
    "* The cross_val_score is negative, further signifying a horrible model\n",
    "* The r-squared for our baseline is 0. With a negative cross-val-score and negative test score, we can conclusively say the model is horrible without even comparing to the baseline."
   ]
  },
  {
   "cell_type": "markdown",
   "id": "e383a19d-9bb3-4e1f-b4d5-bb8aa4508425",
   "metadata": {},
   "source": [
    "As expected, the dataset is far too small for a linear regression. Several train-test split sizes and random states were tested as this is another method to overcome the challenge of working with small datasets - however, the results were similarly horrible for each iteration. We try to address this in the next notebook."
   ]
  },
  {
   "cell_type": "markdown",
   "id": "299a8afc-ce48-4c61-aa0f-fd1edd55a12f",
   "metadata": {},
   "source": [
    "For now, we look at the residual vs. fits plot:"
   ]
  },
  {
   "cell_type": "code",
   "execution_count": 28,
   "id": "93747946-7d16-4c27-9400-58975161c800",
   "metadata": {},
   "outputs": [],
   "source": [
    "# calculate residuals by creating predictions for training set\n",
    "preds = lr.predict(X_train_preprocessed)\n",
    "resid = y_train - preds"
   ]
  },
  {
   "cell_type": "code",
   "execution_count": 29,
   "id": "efc657ff-c88a-4632-b110-ed1c2181d5d3",
   "metadata": {},
   "outputs": [
    {
     "data": {
      "image/png": "[encoded data removed]",
      "text/plain": [
       "<Figure size 640x480 with 1 Axes>"
      ]
     },
     "metadata": {},
     "output_type": "display_data"
    }
   ],
   "source": [
    "# create residual plot\n",
    "sns.residplot(x = preds,\n",
    "              y = resid,\n",
    "              lowess = True,\n",
    "              line_kws = {'color' : 'mediumorchid'}, color='skyblue')\\\n",
    "    .set(title = 'Residuals vs. Fits plot',\n",
    "        xlabel = 'Predicted value',\n",
    "        ylabel = 'Residual');"
   ]
  },
  {
   "cell_type": "markdown",
   "id": "dc2e0abe-a4fe-42c6-b306-8febc766363e",
   "metadata": {},
   "source": [
    "The residual vs. fits plot shows the assumption of homoscedasticity is violated, especially around small values for y, where there is a high spread of residuals. Again it shows that the dataset is limited and a linear regression is not a viable model.\n",
    "\n",
    "We will not interpret the model coefficients because it is a bad model."
   ]
  },
  {
   "cell_type": "markdown",
   "id": "2a3759c3-095b-401d-8905-563ac78eaed7",
   "metadata": {},
   "source": [
    "### Data Export"
   ]
  },
  {
   "cell_type": "code",
   "execution_count": 30,
   "id": "60c652c3-af7e-49e3-b3dc-7c73f82efb48",
   "metadata": {},
   "outputs": [],
   "source": [
    "# add index back to y\n",
    "y_train_df = pd.DataFrame(y_train, columns = ['uc_posts'])\n",
    "y_train_df.insert(loc=0, column='game_id', value=train_index)\n",
    "\n",
    "y_test_df = pd.DataFrame(y_test, columns = ['uc_posts'])\n",
    "y_test_df.insert(loc=0, column='game_id', value=test_index)"
   ]
  },
  {
   "cell_type": "code",
   "execution_count": 31,
   "id": "80b8bec2-8d2f-48b4-ae13-52199202cdad",
   "metadata": {},
   "outputs": [],
   "source": [
    "# add index back to x\n",
    "X_train_preprocessed.insert(loc=0, column='game_id', value=train_index)\n",
    "X_test_preprocessed.insert(loc=0, column='game_id', value=test_index)"
   ]
  },
  {
   "cell_type": "code",
   "execution_count": 32,
   "id": "718f8fb6-0d7a-4f23-b54a-e4746651f9af",
   "metadata": {},
   "outputs": [],
   "source": [
    "# save train and test data\n",
    "X_train_preprocessed.to_pickle('../data/X_train_preprocessed')\n",
    "X_test_preprocessed.to_pickle('../data/X_test_preprocessed')\n",
    "y_train.to_pickle('../data/y_train')\n",
    "y_test.to_pickle('../data/y_test')"
   ]
  }
 ],
 "metadata": {
  "kernelspec": {
   "display_name": "Python 3 (ipykernel)",
   "language": "python",
   "name": "python3"
  },
  "language_info": {
   "codemirror_mode": {
    "name": "ipython",
    "version": 3
   },
   "file_extension": ".py",
   "mimetype": "text/x-python",
   "name": "python",
   "nbconvert_exporter": "python",
   "pygments_lexer": "ipython3",
   "version": "3.9.13"
  }
 },
 "nbformat": 4,
 "nbformat_minor": 5
}
